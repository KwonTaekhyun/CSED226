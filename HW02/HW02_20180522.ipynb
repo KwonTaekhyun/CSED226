{
 "cells": [
  {
   "cell_type": "markdown",
   "metadata": {
    "collapsed": true
   },
   "source": [
    "# HW2\n",
    "In this assignment, you will learn how to preprocess data using SQLite and Pandas.<br>\n",
    "When submitting, rename the file to HW02_[student_id].ipynb (ex.HW02_20211234.ipynb) and submit it to PLMS."
   ]
  },
  {
   "cell_type": "code",
   "execution_count": 12,
   "metadata": {},
   "outputs": [],
   "source": [
    "import sqlite3\n",
    "import pandas as pd"
   ]
  },
  {
   "cell_type": "markdown",
   "metadata": {},
   "source": [
    "## 1. SQLite and Python"
   ]
  },
  {
   "cell_type": "markdown",
   "metadata": {},
   "source": [
    "### a. Create a SQLite Database\n",
    "Here, you will learn how to connect a SQLite database and insert a data into it.<br>\n",
    "1. Create and connect a database named `temp.db`.<br>\n",
    "2. Create a table named `Airbnb` where the column names are 'City, Price, Hostname, Latitude, Longitude' respectively.<br>\n",
    "    (You don't need to specify a data type.)<br>\n",
    "3. Insert the data below **at once** and save the changes. <br>\n",
    "\n",
    "    | City      | Price | Hostname | Latitude | Longitude |\n",
    "    | :- | :- | :- | :- | :- |\n",
    "    | New York  | 100   | Jennifer | 40.75    | -73.983   |\n",
    "    | New York  | 175   | Andy     | 40.66536 | -74.264   |\n",
    "    | Hawaii    | 200   | Edward   | 19.453   | -155.3579 |\n",
    "    | San Diego | 68    | Isabel   | 32.473   | -117.1263 |\n",
    "    | San Diego | 96    | Alice    | 32.5852  | -117.2361 |\n",
    "\n",
    "\n",
    "4. Create a table named `Crime` and insert the data below **at once** and save the changes. <br>\n",
    "\n",
    "    | Location      | Year | Num_crime |\n",
    "    | :- | :- | :- |\n",
    "    | New York  | 2021   | 1957 | \n",
    "    | New York  | 2022   | 2395     | \n",
    "    | San Diego    | 2021   | 749   | \n",
    "    | San Diego | 2022    | 627   | \n",
    "\n",
    "5. Create a table named `Job` and insert the data below **one by one** and save the changes. <br>\n",
    "\n",
    "    | Employee      | Company | Gender |\n",
    "    | :- | :- | :- |\n",
    "    | Andy  | Amazon   | M | \n",
    "    | Isabel  | Netflix   | F     | "
   ]
  },
  {
   "cell_type": "code",
   "execution_count": 13,
   "metadata": {},
   "outputs": [],
   "source": [
    "# 1번\n",
    "con = sqlite3.connect(\"temp.db\")\n",
    "cur = con.cursor()\n",
    "\n",
    "# 2번\n",
    "cur.execute('create table Airbnb(City text, Price integer, Hostname text, Latitude real, Longitude real)')\n",
    "\n",
    "# 3번\n",
    "cur.executemany(\n",
    "    'insert into Airbnb values (?, ?, ?, ?, ?)',\n",
    "    [\n",
    "        ('New York', 100, 'Jennifer', 40.75, -73.983),\n",
    "        ('New York', 175, 'Andy', 40.66536, -74.264),\n",
    "        ('Hawaii', 200, 'Edward', 19.453, -155.3579),\n",
    "        ('San Diego', 68, 'Isabel', 32.473, -117.1263),\n",
    "        ('San Diego', 96, 'Alice', 32.5852, -117.2361),\n",
    "    ]\n",
    ")\n",
    "con.commit()\n",
    "\n",
    "# 4번\n",
    "cur.execute(\n",
    "    'create table Crime(Location text, Year integer, Num_crime integer)')\n",
    "cur.executemany(\n",
    "    'insert into Crime values (?, ?, ?)',\n",
    "    [\n",
    "        ('New York', 2021, 1957),\n",
    "        ('New York', 2022, 2395),\n",
    "        ('San Diego', 2021, 749),\n",
    "        ('San Diego', 2022, 627),\n",
    "    ]\n",
    ")\n",
    "con.commit()\n",
    "\n",
    "# 5번\n",
    "cur.execute(\n",
    "    'create table Job(Employee text, Company text, Gender text)')\n",
    "cur.execute(\n",
    "    \"\"\"insert into Job values ('Andy', 'Amazon', 'M')\"\"\")\n",
    "cur.execute(\n",
    "    \"\"\"insert into Job values ('Isabel', 'Netflix', 'F')\"\"\")\n",
    "con.commit()\n",
    "\n",
    "con.close()\n"
   ]
  },
  {
   "cell_type": "markdown",
   "metadata": {},
   "source": [
    "6. Connect database named `temp.db` and print all data in `Airbnb`.\n",
    "    (Printed results should be a list of tuples.)"
   ]
  },
  {
   "cell_type": "code",
   "execution_count": 4,
   "metadata": {},
   "outputs": [
    {
     "name": "stdout",
     "output_type": "stream",
     "text": [
      "[('New York', 100, 'Jennifer', 40.75, -73.983), ('New York', 175, 'Andy', 40.66536, -74.264), ('Hawaii', 200, 'Edward', 19.453, -155.3579), ('San Diego', 68, 'Isabel', 32.473, -117.1263), ('San Diego', 96, 'Alice', 32.5852, -117.2361)]\n"
     ]
    }
   ],
   "source": [
    "con = sqlite3.connect(\"temp.db\")\n",
    "cur = con.cursor()\n",
    "\n",
    "cur.execute('select * from Airbnb')\n",
    "\n",
    "rows = cur.fetchall()\n",
    "\n",
    "print(rows)\n",
    "\n",
    "con.close()"
   ]
  },
  {
   "cell_type": "markdown",
   "metadata": {},
   "source": [
    "### b. Execute Queries\n",
    "Here, you will execute multiple queries using the database `temp.db`.<br>\n",
    "1. Connect the database `temp.db` and print Airbnb in New York that costs less than 120.<br>\n",
    "(Printed results should be either a list of tuples or a tuple.)\n"
   ]
  },
  {
   "cell_type": "code",
   "execution_count": 15,
   "metadata": {},
   "outputs": [],
   "source": [
    "con = sqlite3.connect(\"temp.db\")\n",
    "cur = con.cursor()\n",
    "\n",
    "df_airbnb = pd.read_sql_query(\n",
    "    \"\"\"select * from Airbnb\"\"\",\n",
    "    con\n",
    ")\n",
    "df_crime = pd.read_sql_query(\n",
    "    \"\"\"select * from Crime\"\"\",\n",
    "    con\n",
    ")\n",
    "df_job = pd.read_sql_query(\n",
    "    \"\"\"select * from Job\"\"\",\n",
    "    con\n",
    ")"
   ]
  },
  {
   "cell_type": "code",
   "execution_count": 14,
   "metadata": {},
   "outputs": [
    {
     "name": "stdout",
     "output_type": "stream",
     "text": [
      "[('New York', 100, 'Jennifer', 40.75, -73.983)]\n"
     ]
    }
   ],
   "source": [
    "con = sqlite3.connect(\"temp.db\")\n",
    "cur = con.cursor()\n",
    "\n",
    "cur.execute(\"\"\"select * from Airbnb where City = 'New York' and Price < 120\"\"\")\n",
    "\n",
    "rows = cur.fetchall()\n",
    "\n",
    "print(rows)\n",
    "\n",
    "con.close()"
   ]
  },
  {
   "cell_type": "markdown",
   "metadata": {},
   "source": [
    "2. Connect the database `temp.db` and output the average crime rate by city in descending order."
   ]
  },
  {
   "cell_type": "code",
   "execution_count": 6,
   "metadata": {},
   "outputs": [
    {
     "name": "stdout",
     "output_type": "stream",
     "text": [
      "[('New York', 2176.0), ('San Diego', 688.0)]\n"
     ]
    }
   ],
   "source": [
    "con = sqlite3.connect(\"temp.db\")\n",
    "cur = con.cursor()\n",
    "\n",
    "cur.execute(\"\"\"\n",
    "    select Location, avg(Num_crime) as Num_crime_avg from Crime group by Location order by Num_crime_avg desc\n",
    "\"\"\")\n",
    "\n",
    "rows = cur.fetchall()\n",
    "\n",
    "print(rows)\n",
    "\n",
    "con.close()"
   ]
  },
  {
   "cell_type": "markdown",
   "metadata": {},
   "source": [
    "3. Connect the database `temp.db`.<br>\n",
    "    Select City, Price, Hostname from `Airbnb` and select all columns from `Job`.<br>\n",
    "    Left join `Airbnb` and `Job` using 'Hostname' and 'Employee' columns respectively."
   ]
  },
  {
   "cell_type": "code",
   "execution_count": 7,
   "metadata": {},
   "outputs": [
    {
     "name": "stdout",
     "output_type": "stream",
     "text": [
      "[('New York', 100, 'Jennifer', None, None, None), ('New York', 175, 'Andy', 'Andy', 'Amazon', 'M'), ('Hawaii', 200, 'Edward', None, None, None), ('San Diego', 68, 'Isabel', 'Isabel', 'Netflix', 'F'), ('San Diego', 96, 'Alice', None, None, None)]\n"
     ]
    }
   ],
   "source": [
    "con = sqlite3.connect(\"temp.db\")\n",
    "cur = con.cursor()\n",
    "\n",
    "cur.execute(\"\"\"\n",
    "    select City, Price, Hostname, Employee, Company, Gender from Airbnb left join Job on Airbnb.Hostname = Job.Employee\n",
    "\"\"\")\n",
    "\n",
    "rows = cur.fetchall()\n",
    "\n",
    "print(rows)\n",
    "\n",
    "con.close()"
   ]
  },
  {
   "cell_type": "markdown",
   "metadata": {},
   "source": [
    "## 2. SQLite and Pandas\n",
    "Here, you will convert SQLite data to Pandas dataframe and process it.<br>\n",
    "Students must use Pandas library to solve problems.<br>\n",
    "Reference: https://pythonspot.com/sqlite-database-with-pandas/ "
   ]
  },
  {
   "cell_type": "markdown",
   "metadata": {},
   "source": [
    "1. Connect the database `temp.db` and print Airbnb in New York that costs less than 120."
   ]
  },
  {
   "cell_type": "code",
   "execution_count": 16,
   "metadata": {},
   "outputs": [
    {
     "name": "stdout",
     "output_type": "stream",
     "text": [
      "       City  Price  Hostname  Latitude  Longitude\n",
      "0  New York    100  Jennifer     40.75    -73.983\n"
     ]
    }
   ],
   "source": [
    "con = sqlite3.connect(\"temp.db\")\n",
    "\n",
    "df = pd.read_sql_query(\n",
    "    \"\"\"select * from Airbnb where City = 'New York' and Price < 120\"\"\",\n",
    "    con)\n",
    "\n",
    "print(df)\n",
    "\n",
    "con.close()"
   ]
  },
  {
   "cell_type": "markdown",
   "metadata": {},
   "source": [
    "2. Connect the database `temp.db` and output the dataframe that records the average number of crimes by city in descending order. (columns should be 'Location', 'Num_crime_avg')"
   ]
  },
  {
   "cell_type": "code",
   "execution_count": 17,
   "metadata": {},
   "outputs": [
    {
     "name": "stdout",
     "output_type": "stream",
     "text": [
      "    Location  Num_crime_avg\n",
      "0   New York         2176.0\n",
      "1  San Diego          688.0\n"
     ]
    }
   ],
   "source": [
    "con = sqlite3.connect(\"temp.db\")\n",
    "\n",
    "df2 = pd.read_sql_query(\"\"\"\n",
    "    select Location, avg(Num_crime) as Num_crime_avg from Crime group by Location order by Num_crime_avg desc\n",
    "\"\"\", con)\n",
    "\n",
    "print(df2)\n",
    "\n",
    "con.close()"
   ]
  },
  {
   "cell_type": "markdown",
   "metadata": {},
   "source": [
    "3. Connect the database `temp.db`.<br>\n",
    "    Select City, Price, Hostname from `Airbnb` and select all columns from `Job`.<br>\n",
    "    Left join `Airbnb` and `Job` using 'Name' and 'Employee' columns respectively.<br>\n",
    "    Write and save the output dataframe to sql table named `Address`."
   ]
  },
  {
   "cell_type": "code",
   "execution_count": 18,
   "metadata": {},
   "outputs": [
    {
     "name": "stdout",
     "output_type": "stream",
     "text": [
      "        City  Price  Hostname Employee  Company Gender\n",
      "0   New York    100  Jennifer     None     None   None\n",
      "1   New York    175      Andy     Andy   Amazon      M\n",
      "2     Hawaii    200    Edward     None     None   None\n",
      "3  San Diego     68    Isabel   Isabel  Netflix      F\n",
      "4  San Diego     96     Alice     None     None   None\n"
     ]
    }
   ],
   "source": [
    "con = sqlite3.connect(\"temp.db\")\n",
    "\n",
    "df3 = pd.read_sql_query(\"\"\"\n",
    "    select City, Price, Hostname, Employee, Company, Gender from Airbnb left join Job on Airbnb.Hostname = Job.Employee\n",
    "\"\"\", con)\n",
    "\n",
    "print(df3)\n",
    "\n",
    "# table 이름, connection, index\n",
    "df3.to_sql('Address', con, index=False)\n",
    "\n",
    "con.close()\n"
   ]
  },
  {
   "cell_type": "markdown",
   "metadata": {},
   "source": [
    "4. Connect the database `temp.db` and print all rows and columns in the `Address` table."
   ]
  },
  {
   "cell_type": "code",
   "execution_count": 19,
   "metadata": {},
   "outputs": [
    {
     "name": "stdout",
     "output_type": "stream",
     "text": [
      "[('New York', 100, 'Jennifer', None, None, None), ('New York', 175, 'Andy', 'Andy', 'Amazon', 'M'), ('Hawaii', 200, 'Edward', None, None, None), ('San Diego', 68, 'Isabel', 'Isabel', 'Netflix', 'F'), ('San Diego', 96, 'Alice', None, None, None)]\n"
     ]
    }
   ],
   "source": [
    "con = sqlite3.connect(\"temp.db\")\n",
    "cur = con.cursor()\n",
    "\n",
    "cur.execute('select * from Address')\n",
    "\n",
    "rows = cur.fetchall()\n",
    "\n",
    "print(rows)\n",
    "\n",
    "con.close()"
   ]
  },
  {
   "cell_type": "markdown",
   "metadata": {},
   "source": [
    "## 3. SQL Query\n",
    "Here, students must use **sqlite shell** to solve problems.<br>\n",
    "Do not write python scripts that use sqlite3 library.<br>\n",
    "You may encounter errors when running cells on jupyter notebook, but it is okay as long as it works fine on the sqlite shell."
   ]
  },
  {
   "cell_type": "markdown",
   "metadata": {},
   "source": [
    "| 1  | data   | 4 | \n",
    "| :- | :- | :- |\n",
    "| 1  | base   | 3 | \n",
    "| 1  | system   | 5 | \n",
    "| 1  | fall   | 6 | \n",
    "| 1  | semester   | 2 | \n",
    "| 2  | data   | 1 | \n",
    "| 2  | base   | 2 | \n",
    "| 2  | structure   | 3 | \n",
    "| 2  | network   | 4 | \n",
    "| 2  | algorithm   | 5 | \n",
    "| 3  | ds   | 2 | \n",
    "| 3  | sd   | 3 | \n",
    "| 3  | final   | 4 | \n",
    "| 3  | mid   | 5 | \n",
    "| 4  | system   | 1 | \n",
    "| 4  | ds   | 4 | \n",
    "| 4  | sd   | 3 | \n",
    "| 4  | pl   | 5 | \n",
    "| 4  | data   | 2 | \n",
    "| 5  | base   | 2 | \n",
    "| 5  | structure   | 2 | \n",
    "| 5  | network   | 3 | \n",
    "| 5  | fall   | 4 | \n",
    "| 6  | data   | 2 | \n",
    "| 6  | base   | 4 | "
   ]
  },
  {
   "cell_type": "markdown",
   "metadata": {},
   "source": [
    "### a. Import CSV\n",
    "Make a csv file from the data above and import it to SQLite database.<br>\n",
    "Execute the query below in the sqlite shell.\n",
    "- Create table Documents(DocID int, Term text, Count int);\n",
    "- .mode csv\n",
    "- .import [csvpath]/Document.csv Documents"
   ]
  },
  {
   "cell_type": "code",
   "execution_count": null,
   "metadata": {},
   "outputs": [],
   "source": [
    "create table Documents(DocID int, Term text, Count int);\n",
    ".mode csv\n",
    ".import ./Document.csv Documents"
   ]
  },
  {
   "cell_type": "markdown",
   "metadata": {},
   "source": [
    "### b. Relational Algebra Expression\n",
    "Write an SQL Query that is equivalemt to the following relational algebra expression.<br>\n",
    "\n",
    "1. $\\pi_{Term}(σ_{DocID=2(Documents)}) \\cup π_{Term}(σ_{count=3(Documents)})$\n",
    "2. Try both union and union all to see the difference\n",
    "3. Try “or” instead of “union” and compare results with using union\n"
   ]
  },
  {
   "cell_type": "code",
   "execution_count": 20,
   "metadata": {},
   "outputs": [],
   "source": [
    "con = sqlite3.connect(\"temp.db\")\n",
    "\n",
    "df_documents = pd.read_sql_query(\n",
    "    \"\"\"select * from Documents\"\"\"\n",
    "    ,con\n",
    ")"
   ]
  },
  {
   "cell_type": "code",
   "execution_count": null,
   "metadata": {},
   "outputs": [],
   "source": [
    "# 1\n",
    "select Term from Documents where DocID = 2 union select Term from Documents where Count = 3;\n",
    "# 2\n",
    "# union시 set 연산으로 중복 제거 / union all 시 bag 연산으로 중복 포함\n",
    "select Term from Documents where DocID = 2 union select Term from Documents where Count = 3;\n",
    "select Term from Documents where DocID = 2 union all select Term from Documents where Count = 3;\n",
    "# 3\n",
    "# DocID = 2이면서 Count = 3인 경우 중복되지 않고 하나의 record로 출력\n",
    "select Term from Documents where DocID = 2 or Count = 3;\n"
   ]
  },
  {
   "cell_type": "markdown",
   "metadata": {},
   "source": [
    "### c. SQLite Query Exercise-1"
   ]
  },
  {
   "cell_type": "markdown",
   "metadata": {},
   "source": [
    "1. Write an SQL query that counts the number of documents that contain either the word “system” or “data”."
   ]
  },
  {
   "cell_type": "code",
   "execution_count": null,
   "metadata": {},
   "outputs": [],
   "source": [
    "select count(DocID) from\n",
    "    (select DocID from Documents where Term=\"system\" or Term=\"data\" group by DocID);"
   ]
  },
  {
   "cell_type": "markdown",
   "metadata": {},
   "source": [
    "2. Write an SQL query that returns total count of each Terms in all DocID. Do not include DocID in the final result."
   ]
  },
  {
   "cell_type": "code",
   "execution_count": null,
   "metadata": {},
   "outputs": [],
   "source": [
    "select Term, sum(Count) from Documents group by Term;"
   ]
  },
  {
   "cell_type": "markdown",
   "metadata": {},
   "source": [
    "3. Write an SQL query that finds all documents that have more than 4 distinct terms."
   ]
  },
  {
   "cell_type": "code",
   "execution_count": null,
   "metadata": {},
   "outputs": [],
   "source": [
    "select count(DocID) from\n",
    "    (select DocID from Documents group by DocID having count(distinct Term) > 4);"
   ]
  },
  {
   "cell_type": "markdown",
   "metadata": {},
   "source": [
    "### d. SQLite Query Exercise-2\n",
    "Write an SQL query to compute the similarity of every pair of documents in Documents. <br>\n",
    "The similarity here is computed by summing the same term counts of two documents.<br>\n",
    "For example, the similarity of Doc1 <’a’:2, ‘b’:1, ‘c’:3> and Doc2 <’b’:2, ‘c’:1, ‘d’:4> is 1\\*2 (‘b’) + 3\\*1 (‘c’) = 5.<br>\n",
    "(Hint: to avoid computing the similarity of both (Doc1, Doc2) and (Doc2, Doc1), add a condition of the form a.DocID < b.DocID.)\n"
   ]
  },
  {
   "cell_type": "code",
   "execution_count": null,
   "metadata": {},
   "outputs": [],
   "source": [
    "select a.DocID, b.DocID, \n",
    "    sum(case when a.Term = b.Term then a.Count * b.Count else 0 end) from \n",
    "    Documents a, Documents b on a.DocID < b.DocID group by a.DocID, b.DocID;"
   ]
  },
  {
   "cell_type": "markdown",
   "metadata": {},
   "source": [
    "## Reference:\n",
    "\n",
    "https://docs.python.org/3/library/sqlite3.html?highlight=sqlite#module-sqlite3"
   ]
  }
 ],
 "metadata": {
  "kernelspec": {
   "display_name": "Python 3.9.12 ('base')",
   "language": "python",
   "name": "python3"
  },
  "language_info": {
   "codemirror_mode": {
    "name": "ipython",
    "version": 3
   },
   "file_extension": ".py",
   "mimetype": "text/x-python",
   "name": "python",
   "nbconvert_exporter": "python",
   "pygments_lexer": "ipython3",
   "version": "3.9.12"
  },
  "vscode": {
   "interpreter": {
    "hash": "9fa87f0efd0f3f6a31bcd534c5e9f592f83da151eb234c44c533e646ebb7e62f"
   }
  }
 },
 "nbformat": 4,
 "nbformat_minor": 2
}
