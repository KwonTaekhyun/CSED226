{
 "cells": [
  {
   "cell_type": "markdown",
   "metadata": {},
   "source": [
    "# HW01"
   ]
  },
  {
   "cell_type": "code",
   "execution_count": 1,
   "metadata": {},
   "outputs": [],
   "source": [
    "submission = 'hw1_20180522'\n",
    "import importlib\n",
    "hw = importlib.import_module(submission)\n",
    "import numpy as np\n",
    "import pandas as pd"
   ]
  },
  {
   "cell_type": "markdown",
   "metadata": {},
   "source": [
    "## Problem 1. Factorial\n",
    "n!에서 마지막 숫자부터 첫번째 non-zero 숫자까지의 0의 개수를 반환하는 함수 factorial 작성하기"
   ]
  },
  {
   "cell_type": "code",
   "execution_count": 2,
   "metadata": {},
   "outputs": [],
   "source": [
    "# [Python] // 연산자: 나눗셈의 몫을 정수형으로 반환한다. (소수점 아래 숫자들은 버린다.)\n",
    "\n",
    "# [문제 풀이] factorial값을 인수분해해 생각하면 결국 5와 2의 곱이 0의 개수를 결정한다.\n",
    "# 2의 개수가 5의 개수보다 항상 많기 때문에 factorial의 인수 중 곱해진 5의 개수를 찾으면\n",
    "# 마지막 숫자부터 첫번째 non-zero 숫자까지의 0의 개수를 도출할 수 있다.\n",
    "\n",
    "# 1부터 n까지의 5의 배수의 개수 = n // 5\n",
    "# 1부터 n까지의 5^k의 배수의 개수 = n // 5^k\n",
    "\n",
    "def factorial(n):\n",
    "    # BEGIN_YOUR_CODE\n",
    "    if n < 0:\n",
    "        return 0\n",
    "    \n",
    "    zeroNum = 0\n",
    "    \n",
    "    while n // 5 != 0:\n",
    "        zeroNum += (n // 5)\n",
    "        n //= 5\n",
    "        \n",
    "    return zeroNum\n",
    "    # END_YOUR_CODE"
   ]
  },
  {
   "cell_type": "markdown",
   "metadata": {},
   "source": [
    "## Problem 2. Word Count\n",
    "input file 내의 각 word를 key로 하고 해당 word의 개수를 value로 하는 dictionary를 반환하는 함수 작성하기\n",
    "\n",
    "*Use 'cp949' encoding if you face an UnicodeDecodeError."
   ]
  },
  {
   "cell_type": "code",
   "execution_count": 3,
   "metadata": {},
   "outputs": [],
   "source": [
    "# [Python] file_ptr.readlines() : 파일의 모든 line들을 읽어와 각 line을 원소로 하는 배열 반환한다.\n",
    "# '\\n'이 각 line에 포함된다.\n",
    "# [Python] file_ptr.strip() : 문자열의 양끝에서 인자로 받은 문자 혹은 공백을 제거해 반환한다.\n",
    "\n",
    "# [문제풀이] 공백 기준으로만 word를 나누어주면 되므로 line의 끝에 있는 '\\n'만 제거하고 word를 구한다.\n",
    "\n",
    "def wordCount(filename):\n",
    "    # BEGIN_YOUR_CODE\n",
    "    f = open(filename, 'r', encoding='CP949')\n",
    "    fileLines = f.readlines()\n",
    "    f.close()\n",
    "\n",
    "    # word를 key, word의 개수를 value로 하는 dictionary\n",
    "    wordsNum = {}\n",
    "\n",
    "    for line in fileLines:\n",
    "        if line == '\\n':\n",
    "            continue\n",
    "        else:\n",
    "            # string의 양 끝에서 인자로 받은 문자를 제거(strip)\n",
    "            line = line.strip('\\n')\n",
    "            line = line.strip()\n",
    "            \n",
    "            words = line.split(' ')\n",
    "            \n",
    "            for word in words:\n",
    "                if word in wordsNum.keys():\n",
    "                    wordsNum[word] += 1\n",
    "                else:\n",
    "                    wordsNum[word] = 1\n",
    "\n",
    "    return wordsNum\n",
    "    # END_YOUR_CODE"
   ]
  },
  {
   "cell_type": "code",
   "execution_count": 4,
   "metadata": {},
   "outputs": [],
   "source": [
    "# 특수문자를 모두 제외하고 pure word만 추출하는 함수\n",
    "def _wordCount(filename):\n",
    "    # BEGIN_YOUR_CODE\n",
    "    f = open(filename, 'r', encoding='CP949')\n",
    "    fileLines = f.readlines()\n",
    "    f.close()\n",
    "\n",
    "    wordsNum = {}\n",
    "    word = ''\n",
    "    for line in fileLines:\n",
    "        if line == '\\n':\n",
    "            continue\n",
    "        else:\n",
    "            line = line.strip('\\n')\n",
    "            line = line.strip()\n",
    "\n",
    "            words = line.split(' ')\n",
    "\n",
    "            for word in words:\n",
    "                if word != 'POSTECH!':\n",
    "                    word = word.strip('.')\n",
    "                    word = word.strip(',')\n",
    "                    word = word.strip('!')\n",
    "                    word = word.strip('?')\n",
    "                    word = word.strip(')')\n",
    "                    word = word.strip('(')\n",
    "                \n",
    "                if word in wordsNum.keys():\n",
    "                    wordsNum[word] += 1\n",
    "                else:\n",
    "                    wordsNum[word] = 1\n",
    "\n",
    "    return wordsNum\n",
    "    # END_YOUR_CODE\n"
   ]
  },
  {
   "cell_type": "markdown",
   "metadata": {},
   "source": [
    "## Problem 3. Average Price\n",
    "(car 정보를 담은 car instance의 list, 특정 brand)가 주어질 때\n",
    "특정 brand의 평균 car 가격을 계산해 반환하는 함수 작성하기"
   ]
  },
  {
   "cell_type": "code",
   "execution_count": 5,
   "metadata": {},
   "outputs": [],
   "source": [
    "class car:\n",
    "    def __init__(self, args):\n",
    "        brand, model, price =  args\n",
    "        self.brand = brand\n",
    "        self.model = model\n",
    "        self.price = price\n",
    "        \n",
    "# carDict: (brand, 해당 brand의 차량 price의 list)를 담은 dictionary\n",
    "# sum(list): list value의 합을 반환\n",
    "# len(list): list의 length를 반환\n",
    "\n",
    "def averagePrice(args):\n",
    "    # BEGIN_YOUR_CODE (our solution is 10 lines of code, but don't worry if you deviate from this)\n",
    "    carList, brand = args\n",
    "    \n",
    "    # brand 별 price의 list를 저장하는 dictionary\n",
    "    carDict = {}\n",
    "    for carInfo in carList:\n",
    "        if carInfo.brand in carDict.keys():\n",
    "            carDict[carInfo.brand] += [carInfo.price]\n",
    "        else:\n",
    "            carDict[carInfo.brand] = [carInfo.price]\n",
    "            \n",
    "    if brand in carDict.keys():\n",
    "        meanPrice = sum(carDict[brand]) / len(carDict[brand])\n",
    "        return meanPrice\n",
    "    else:\n",
    "        return 0\n",
    "    # END_YOUR_CODE"
   ]
  },
  {
   "cell_type": "markdown",
   "metadata": {},
   "source": [
    "## Problem 4. Euclidean Distance [2 points]\n",
    "Your goal is to complete the **distance()** function that calculates Euclidean distance between numpy two arrays.<br>\n",
    "The answer should be rounded to two decimal places.<br>\n",
    "You need to utilize numpy library when solving a problem.<br>\n",
    "Please refer to the formula for higher dimensions in https://en.wikipedia.org/wiki/Euclidean_distance."
   ]
  },
  {
   "cell_type": "code",
   "execution_count": 16,
   "metadata": {},
   "outputs": [],
   "source": [
    "# numpy array: 1차원 array\n",
    "# np array에서 각 항끼리의 사칙연산은 np array끼리의 연산으로 대체할 수 있다. (상수와의 연산도 마찬가지!)\n",
    "\n",
    "def distance(arr1, arr2):\n",
    "    # BEGIN_YOUR_CODE\n",
    "    dist = np.sum((arr1 - arr2) ** 2) ** 0.5\n",
    "    # 소수점 아래 2번째 자리로 반올림\n",
    "    roundedDist = round(dist, 2)\n",
    "    return roundedDist\n",
    "    # END_YOUR_CODE"
   ]
  },
  {
   "cell_type": "markdown",
   "metadata": {},
   "source": [
    "## Problem 5. CSV Modification[5 points]\n",
    "Your goal is to preprocess a csv file that follows requirements given below.<br>\n",
    "The inputs are a path of the original data and a desired path of the processed data.<br>\n",
    "The problem must be solved using pandas library. Do not use any other external libraries.\n",
    "### Requirements\n",
    "- The requirements must be followed in the same order as given below.<br> (If not, you might attain different results although you followed everything correctly.)\n",
    "1) The processed csv file should not contain missing values; all rows with a missing value needs to be dropped.\n",
    "\n",
    "2) The processed csv file should not contain columns 'Legendary', 'Sp. Atk', and 'Sp. Def'.\n",
    "\n",
    "3) The processed csv file should only have Grass, Fire, Water, Normal 'Type 1' pokemons.\n",
    "\n",
    "4) The processed csv file should only have rows where a value in 'Total' is greater than 200.\n",
    "\n",
    "5) The processed csv file contains a new column named 'Power' where a value is 'strong' if Attack > 80 and 'weak' otherwise."
   ]
  },
  {
   "cell_type": "code",
   "execution_count": 7,
   "metadata": {},
   "outputs": [],
   "source": [
    "def pokemon(original_file, modified_file):\n",
    "    # BEGIN_YOUR_CODE\n",
    "    # Pandas dataframe: 2차원 array -> Table data\n",
    "    \n",
    "    df = pd.read_csv(original_file)\n",
    "    \n",
    "    df = df.dropna(axis=0)\n",
    "    \n",
    "    df = df.drop(['Legendary', 'Sp. Atk', 'Sp. Def'], axis = 1)\n",
    "    \n",
    "    # Row filtering\n",
    "    \n",
    "    type1Filter = ['Grass', 'Fire', 'Water', 'Normal']\n",
    "    df = df[df['Type 1'].isin(type1Filter)]\n",
    "    \n",
    "    df = df[df['Total'] > 200]\n",
    "    \n",
    "    df['Power'] = df['Attack'].apply(lambda x: 'strong' if x > 80 else 'weak')\n",
    "    # END_YOUR_CODE\n",
    "    df.to_csv(modified_file,index=False)"
   ]
  },
  {
   "cell_type": "markdown",
   "metadata": {},
   "source": [
    "## Problem 6. Employee and Department\n",
    "Here, three csv files, namely 'departments.csv', 'employees.csv', and 'employees2.csv', are given. <br>\n",
    "Problem 6 is consisted of 2 sub problems. <br>\n",
    "Students must use pandas library to solve problems."
   ]
  },
  {
   "cell_type": "markdown",
   "metadata": {},
   "source": [
    "### 6.a Employee Table [3 points]\n",
    "In employee table, your goal is to make employee table. <br>\n",
    "The employee table should have 'name', 'salary', and 'department_name' as column. <br>\n",
    "The rows in the table must be in ascending order of 'salary'. <br>\n",
    "Note that department has its own 'department_id' and 'department_name'."
   ]
  },
  {
   "cell_type": "code",
   "execution_count": 8,
   "metadata": {},
   "outputs": [],
   "source": [
    "def emp_table(dep, emp1, emp2):\n",
    "    # BEGIN_YOUR_CODE (our solution is 7 lines of code, but don't worry if you deviate from this)\n",
    "    dep_df = pd.read_csv(dep)\n",
    "    dep_dict = dep_df.set_index('department_id').to_dict('index')\n",
    "    \n",
    "    # row concatenation\n",
    "    df = pd.concat([pd.read_csv(emp1), pd.read_csv(emp2)])\n",
    "    df = df.drop(['employee_id'], axis=1)\n",
    "    \n",
    "    df['department_name'] = df['department_id'].apply(\n",
    "        lambda x: dep_dict[x]['department_name'])\n",
    "    \n",
    "    df = df.sort_values(by = 'salary')\n",
    "    # END_YOUR_CODE\n",
    "    return df  "
   ]
  },
  {
   "cell_type": "markdown",
   "metadata": {},
   "source": [
    "### 6.b Lowest Average Salary [3 points]\n",
    "Here, your goal is to find the department which has lowest average salary. <br>\n",
    "The output must be 'department_name'. <br>\n",
    "You can use function of 6.a."
   ]
  },
  {
   "cell_type": "code",
   "execution_count": 9,
   "metadata": {},
   "outputs": [],
   "source": [
    "def lowest_avg(dep, emp1, emp2):\n",
    "    # BEGIN_YOUR_CODE (our solution is 3 lines of code, but don't worry if you deviate from this)\n",
    "    dep_df = pd.read_csv(dep)\n",
    "    dep_dict = dep_df.set_index('department_id').to_dict('index')\n",
    "    \n",
    "    df = pd.concat([pd.read_csv(emp1), pd.read_csv(emp2)])\n",
    "    df = df.groupby(['department_id']).mean()\n",
    "    # 현재 df의 index가 department_id이기 때문에 column으로 직접 참조가 불가\n",
    "    # reset_index()를 사용해 0-(n-1)의 index로 초기화\n",
    "    df = df.sort_values(by='salary').reset_index()\n",
    "    \n",
    "    ans = dep_dict[int(df.iloc[0]['department_id'])]['department_name']\n",
    "    return ans\n",
    "    # END_YOUR_CODE"
   ]
  },
  {
   "cell_type": "markdown",
   "metadata": {},
   "source": [
    "## Check"
   ]
  },
  {
   "cell_type": "markdown",
   "metadata": {},
   "source": [
    "Note that the hidden test cases do not check for correctness."
   ]
  },
  {
   "cell_type": "code",
   "execution_count": 18,
   "metadata": {},
   "outputs": [
    {
     "name": "stdout",
     "output_type": "stream",
     "text": [
      "Problem 1: It works well.\n",
      "Problem 2: It works well.\n",
      "Problem 3: It works well.\n",
      "Problem 4: It works well.\n",
      "Problem 5: It works well.\n",
      "Problem 6.a: It works well.\n",
      "Problem 6.b: It works well.\n",
      "Your score is [20/20].\n"
     ]
    }
   ],
   "source": [
    "score = 0\n",
    "problem = 20\n",
    "\n",
    "# Problem 1\n",
    "try:\n",
    "    if factorial(100) == 24:\n",
    "        print(\"Problem 1: It works well.\")\n",
    "        score = score + 2\n",
    "    else:\n",
    "        print(\"Problem 1: There is a problem.\")\n",
    "except:\n",
    "    print(\"Problem 1: Function is not implemented yet.\")\n",
    "    \n",
    "# Problem 2\n",
    "try:\n",
    "    cnt = wordCount('hw01_2.txt')\n",
    "    if cnt['POSTECH'] == 4 and type(cnt) is dict:\n",
    "        print(\"Problem 2: It works well.\")\n",
    "        score = score + 2\n",
    "    else:\n",
    "        print(\"Problem 2: There is a problem.\")\n",
    "except Exception as e:\n",
    "    print(\"Problem 2: Function is not implemented yet.\", e)\n",
    "    \n",
    "# Problem 3\n",
    "try:\n",
    "    l=[car(('Hyundai','santaFe',2745)),car(('KIA','K5',2395)),car(('Hyundai','Sonata',2390)),car(('KIA','K9',5520)),car(('Hyundai','G70',6580))]\n",
    "    price1 = averagePrice((l,'a'))\n",
    "    price2 = averagePrice((l,'KIA'))\n",
    "    if (price1 == 0) and (price2 == 3957.5):\n",
    "        print(\"Problem 3: It works well.\")\n",
    "        score = score + 3\n",
    "    else:\n",
    "        print(\"Problem 3: There is a problem.\")\n",
    "except:\n",
    "    print(\"Problem 3: Function is not implemented yet.\")\n",
    "    \n",
    "# Problem 4\n",
    "try:\n",
    "    arr1,arr2 = np.array([0,1,2]), np.array([3,4,5])\n",
    "    dist = distance(arr1, arr2)\n",
    "    if dist == 5.2:\n",
    "        print(\"Problem 4: It works well.\")\n",
    "        score = score + 2\n",
    "    else:\n",
    "        print(\"Problem 4: There is a problem.\")\n",
    "except:\n",
    "    print(\"Problem 4: Function is not implemented yet.\")\n",
    "    \n",
    "# Problem 5\n",
    "try:\n",
    "    score_problem2 = 0\n",
    "    original_file = 'pokemon.csv'\n",
    "    modified_file = 'new_pokemon.csv'\n",
    "    pokemon(original_file, modified_file)\n",
    "    df=pd.read_csv(modified_file)\n",
    "    if df.isna().sum().all() == 0:\n",
    "        score_problem2 = score_problem2 + 1\n",
    "    if (list(df.columns).count('Legendary') == 0) and (list(df.columns).count('Sp. Atk') == 0) and (list(df.columns).count('Sp. Def') == 0):\n",
    "        score_problem2 = score_problem2 + 1\n",
    "    if set(df['Type 1'].value_counts().index.to_list()) == set(['Water', 'Normal', 'Grass', 'Fire']):\n",
    "        score_problem2 = score_problem2 + 1\n",
    "    if (df['Total'].min()>200) and (len(df.index) == 150):\n",
    "        score_problem2 = score_problem2 + 1\n",
    "    if (df.iloc[1]['Power'] == 'weak'):\n",
    "        score_problem2 = score_problem2 + 1\n",
    "    if (df.iloc[3]['Power'] == 'strong'):\n",
    "        score_problem2 = score_problem2 + 1\n",
    "    if score_problem2 == 6:\n",
    "        print(\"Problem 5: It works well.\")  \n",
    "        score = score + 5\n",
    "    else:\n",
    "        print(\"Problem 5: There is a problem.\")\n",
    "except:\n",
    "    print(\"Problem 5: Function is not implemented yet.\")\n",
    "    \n",
    "# Problem 6.a\n",
    "try:\n",
    "    dep = 'departments.csv'\n",
    "    emp1 = 'employees.csv'\n",
    "    emp2 = 'employees2.csv'\n",
    "    df = emp_table(dep, emp1, emp2)\n",
    "    if (df.iloc[0]['name'] == 'Hunter') and (df.iloc[0]['department_name'] == 'research'):\n",
    "        print(\"Problem 6.a: It works well.\")\n",
    "        score = score + 3\n",
    "    else:\n",
    "        print(\"Problem 6.a: There is a problem.\")\n",
    "except:\n",
    "    print(\"Problem 6.a: Function is not implemented yet.\")\n",
    "    \n",
    "# Problem 6.b\n",
    "try:\n",
    "    dep = 'departments.csv'\n",
    "    emp1 = 'employees.csv'\n",
    "    emp2 = 'employees2.csv'\n",
    "    hdep = lowest_avg(dep, emp1, emp2)\n",
    "    if hdep == 'research':\n",
    "        print(\"Problem 6.b: It works well.\")\n",
    "        score = score + 3\n",
    "    else:\n",
    "        print(\"Problem 6.b: There is a problem.\")\n",
    "except:\n",
    "    print(\"Problem 6.b: Function is not implemented yet.\")\n",
    "    \n",
    "print(\"Your score is [%d/%d].\"% (score,problem))"
   ]
  }
 ],
 "metadata": {
  "anaconda-cloud": {},
  "kernelspec": {
   "display_name": "Python 3.9.12 ('base')",
   "language": "python",
   "name": "python3"
  },
  "language_info": {
   "codemirror_mode": {
    "name": "ipython",
    "version": 3
   },
   "file_extension": ".py",
   "mimetype": "text/x-python",
   "name": "python",
   "nbconvert_exporter": "python",
   "pygments_lexer": "ipython3",
   "version": "3.9.12"
  },
  "vscode": {
   "interpreter": {
    "hash": "9fa87f0efd0f3f6a31bcd534c5e9f592f83da151eb234c44c533e646ebb7e62f"
   }
  }
 },
 "nbformat": 4,
 "nbformat_minor": 1
}
