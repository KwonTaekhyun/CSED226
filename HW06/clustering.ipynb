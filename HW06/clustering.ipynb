{
 "cells": [
  {
   "cell_type": "markdown",
   "metadata": {},
   "source": [
    "## Setting"
   ]
  },
  {
   "cell_type": "code",
   "execution_count": 6,
   "metadata": {},
   "outputs": [],
   "source": [
    "import numpy as np\n",
    "import pandas as pd"
   ]
  },
  {
   "cell_type": "code",
   "execution_count": 7,
   "metadata": {},
   "outputs": [],
   "source": [
    "data_df = pd.read_csv('./22-2-dataanalysis-clustering/Health_Condition_Level.csv')"
   ]
  },
  {
   "cell_type": "code",
   "execution_count": 3,
   "metadata": {},
   "outputs": [
    {
     "name": "stdout",
     "output_type": "stream",
     "text": [
      "<class 'pandas.core.frame.DataFrame'>\n",
      "RangeIndex: 1839 entries, 0 to 1838\n",
      "Data columns (total 17 columns):\n",
      " #   Column              Non-Null Count  Dtype  \n",
      "---  ------              --------------  -----  \n",
      " 0   DFC                 1839 non-null   float64\n",
      " 1   Lifestyle_feature1  1839 non-null   int64  \n",
      " 2   SC                  1839 non-null   object \n",
      " 3   EF                  1839 non-null   float64\n",
      " 4   FI                  1839 non-null   float64\n",
      " 5   Height              1839 non-null   float64\n",
      " 6   Smoker              1839 non-null   object \n",
      " 7   Medical_history     1839 non-null   object \n",
      " 8   Lifestyle_feature3  1839 non-null   int64  \n",
      " 9   Weight              1839 non-null   float64\n",
      " 10  Lifestyle_feature2  1839 non-null   float64\n",
      " 11  Age                 1839 non-null   float64\n",
      " 12  AC                  1839 non-null   object \n",
      " 13  EDUT                1839 non-null   float64\n",
      " 14  HSM                 1839 non-null   object \n",
      " 15  Lifestyle_feature4  1839 non-null   float64\n",
      " 16  Sex                 1839 non-null   object \n",
      "dtypes: float64(9), int64(2), object(6)\n",
      "memory usage: 244.4+ KB\n"
     ]
    }
   ],
   "source": [
    "data_df.info()"
   ]
  },
  {
   "cell_type": "code",
   "execution_count": 4,
   "metadata": {},
   "outputs": [
    {
     "data": {
      "text/html": [
       "<div>\n",
       "<style scoped>\n",
       "    .dataframe tbody tr th:only-of-type {\n",
       "        vertical-align: middle;\n",
       "    }\n",
       "\n",
       "    .dataframe tbody tr th {\n",
       "        vertical-align: top;\n",
       "    }\n",
       "\n",
       "    .dataframe thead th {\n",
       "        text-align: right;\n",
       "    }\n",
       "</style>\n",
       "<table border=\"1\" class=\"dataframe\">\n",
       "  <thead>\n",
       "    <tr style=\"text-align: right;\">\n",
       "      <th></th>\n",
       "      <th>DFC</th>\n",
       "      <th>Lifestyle_feature1</th>\n",
       "      <th>SC</th>\n",
       "      <th>EF</th>\n",
       "      <th>FI</th>\n",
       "      <th>Height</th>\n",
       "      <th>Smoker</th>\n",
       "      <th>Medical_history</th>\n",
       "      <th>Lifestyle_feature3</th>\n",
       "      <th>Weight</th>\n",
       "      <th>Lifestyle_feature2</th>\n",
       "      <th>Age</th>\n",
       "      <th>AC</th>\n",
       "      <th>EDUT</th>\n",
       "      <th>HSM</th>\n",
       "      <th>Lifestyle_feature4</th>\n",
       "      <th>Sex</th>\n",
       "    </tr>\n",
       "  </thead>\n",
       "  <tbody>\n",
       "    <tr>\n",
       "      <th>0</th>\n",
       "      <td>3.000000</td>\n",
       "      <td>1</td>\n",
       "      <td>Sometimes</td>\n",
       "      <td>0.108386</td>\n",
       "      <td>1.020313</td>\n",
       "      <td>1.610126</td>\n",
       "      <td>no</td>\n",
       "      <td>yes</td>\n",
       "      <td>0</td>\n",
       "      <td>102.686908</td>\n",
       "      <td>3.000000</td>\n",
       "      <td>25.999636</td>\n",
       "      <td>Sometimes</td>\n",
       "      <td>1.000000</td>\n",
       "      <td>no</td>\n",
       "      <td>12.217263</td>\n",
       "      <td>Female</td>\n",
       "    </tr>\n",
       "    <tr>\n",
       "      <th>1</th>\n",
       "      <td>3.000000</td>\n",
       "      <td>1</td>\n",
       "      <td>Sometimes</td>\n",
       "      <td>0.005939</td>\n",
       "      <td>1.000536</td>\n",
       "      <td>1.596813</td>\n",
       "      <td>no</td>\n",
       "      <td>yes</td>\n",
       "      <td>0</td>\n",
       "      <td>102.320437</td>\n",
       "      <td>3.000000</td>\n",
       "      <td>25.940153</td>\n",
       "      <td>Sometimes</td>\n",
       "      <td>0.566353</td>\n",
       "      <td>no</td>\n",
       "      <td>5.545356</td>\n",
       "      <td>Female</td>\n",
       "    </tr>\n",
       "    <tr>\n",
       "      <th>2</th>\n",
       "      <td>3.000000</td>\n",
       "      <td>1</td>\n",
       "      <td>Sometimes</td>\n",
       "      <td>0.427905</td>\n",
       "      <td>2.404049</td>\n",
       "      <td>1.803677</td>\n",
       "      <td>no</td>\n",
       "      <td>yes</td>\n",
       "      <td>0</td>\n",
       "      <td>160.639405</td>\n",
       "      <td>3.000000</td>\n",
       "      <td>21.521294</td>\n",
       "      <td>Sometimes</td>\n",
       "      <td>0.639894</td>\n",
       "      <td>no</td>\n",
       "      <td>5.734039</td>\n",
       "      <td>Female</td>\n",
       "    </tr>\n",
       "    <tr>\n",
       "      <th>3</th>\n",
       "      <td>2.649406</td>\n",
       "      <td>1</td>\n",
       "      <td>Sometimes</td>\n",
       "      <td>0.216908</td>\n",
       "      <td>1.153286</td>\n",
       "      <td>1.690262</td>\n",
       "      <td>no</td>\n",
       "      <td>yes</td>\n",
       "      <td>0</td>\n",
       "      <td>103.180918</td>\n",
       "      <td>1.120102</td>\n",
       "      <td>26.624342</td>\n",
       "      <td>no</td>\n",
       "      <td>0.619012</td>\n",
       "      <td>no</td>\n",
       "      <td>3.585988</td>\n",
       "      <td>Male</td>\n",
       "    </tr>\n",
       "    <tr>\n",
       "      <th>4</th>\n",
       "      <td>2.317734</td>\n",
       "      <td>1</td>\n",
       "      <td>Sometimes</td>\n",
       "      <td>0.000000</td>\n",
       "      <td>2.152736</td>\n",
       "      <td>1.755926</td>\n",
       "      <td>no</td>\n",
       "      <td>yes</td>\n",
       "      <td>2</td>\n",
       "      <td>112.289883</td>\n",
       "      <td>3.000000</td>\n",
       "      <td>30.200946</td>\n",
       "      <td>no</td>\n",
       "      <td>1.108145</td>\n",
       "      <td>no</td>\n",
       "      <td>6.863801</td>\n",
       "      <td>Male</td>\n",
       "    </tr>\n",
       "  </tbody>\n",
       "</table>\n",
       "</div>"
      ],
      "text/plain": [
       "        DFC  Lifestyle_feature1         SC        EF        FI    Height  \\\n",
       "0  3.000000                   1  Sometimes  0.108386  1.020313  1.610126   \n",
       "1  3.000000                   1  Sometimes  0.005939  1.000536  1.596813   \n",
       "2  3.000000                   1  Sometimes  0.427905  2.404049  1.803677   \n",
       "3  2.649406                   1  Sometimes  0.216908  1.153286  1.690262   \n",
       "4  2.317734                   1  Sometimes  0.000000  2.152736  1.755926   \n",
       "\n",
       "  Smoker Medical_history  Lifestyle_feature3      Weight  Lifestyle_feature2  \\\n",
       "0     no             yes                   0  102.686908            3.000000   \n",
       "1     no             yes                   0  102.320437            3.000000   \n",
       "2     no             yes                   0  160.639405            3.000000   \n",
       "3     no             yes                   0  103.180918            1.120102   \n",
       "4     no             yes                   2  112.289883            3.000000   \n",
       "\n",
       "         Age         AC      EDUT HSM  Lifestyle_feature4     Sex  \n",
       "0  25.999636  Sometimes  1.000000  no           12.217263  Female  \n",
       "1  25.940153  Sometimes  0.566353  no            5.545356  Female  \n",
       "2  21.521294  Sometimes  0.639894  no            5.734039  Female  \n",
       "3  26.624342         no  0.619012  no            3.585988    Male  \n",
       "4  30.200946         no  1.108145  no            6.863801    Male  "
      ]
     },
     "execution_count": 4,
     "metadata": {},
     "output_type": "execute_result"
    }
   ],
   "source": [
    "data_df.head()"
   ]
  },
  {
   "cell_type": "markdown",
   "metadata": {},
   "source": [
    "## K-Means Clustering"
   ]
  },
  {
   "cell_type": "code",
   "execution_count": 8,
   "metadata": {},
   "outputs": [],
   "source": [
    "from sklearn.cluster import KMeans\n",
    "\n",
    "# numerical\n",
    "numerical_list = ['Lifestyle_feature2', 'Lifestyle_feature4', 'Height', 'Weight', 'Age', 'DFC', 'EF', 'FI', 'EDUT']\n",
    "\n",
    "#categorical\n",
    "categorical_list = ['Lifestyle_feature1', 'Lifestyle_feature3', 'Smoker', 'Medical_history', 'Sex', 'SC', 'AC', 'HSM']"
   ]
  },
  {
   "cell_type": "code",
   "execution_count": 178,
   "metadata": {},
   "outputs": [],
   "source": [
    "def catToNum(x):\n",
    "    if x == 'no':\n",
    "        return 0\n",
    "    elif x == 'Sometimes':\n",
    "        return 1\n",
    "    elif x == 'Frequently':\n",
    "        return 2\n",
    "    else:\n",
    "        return 3"
   ]
  },
  {
   "cell_type": "code",
   "execution_count": 179,
   "metadata": {},
   "outputs": [],
   "source": [
    "data_df['Smoker'] = data_df['Smoker'].apply(lambda x: 0 if x == 'no' else 1)\n",
    "data_df['Medical_history'] = data_df['Medical_history'].apply(\n",
    "    lambda x: 0 if x == 'no' else 1)\n",
    "data_df['HSM'] = data_df['HSM'].apply(lambda x: 0 if x == 'no' else 1)\n",
    "data_df['Sex'] = data_df['Sex'].apply(lambda x: 0 if x == 'Male' else 1)\n",
    "data_df['SC'] = data_df['SC'].apply(lambda x: catToNum(x))\n",
    "data_df['AC'] = data_df['AC'].apply(lambda x: catToNum(x))"
   ]
  },
  {
   "cell_type": "code",
   "execution_count": 93,
   "metadata": {},
   "outputs": [],
   "source": [
    "attr_list_1 = ['Weight', 'Age', 'EF']\n"
   ]
  },
  {
   "cell_type": "code",
   "execution_count": 88,
   "metadata": {},
   "outputs": [],
   "source": [
    "attr_list_2 = ['Lifestyle_feature1', 'Lifestyle_feature2',\n",
    "               'Lifestyle_feature3', 'Lifestyle_feature4', 'Height', 'Weight', 'Age', 'DFC', 'EF', 'FI', 'EDUT']\n"
   ]
  },
  {
   "cell_type": "code",
   "execution_count": 9,
   "metadata": {},
   "outputs": [],
   "source": [
    "numerical_df = pd.DataFrame(data=data_df, columns=numerical_list)\n"
   ]
  },
  {
   "cell_type": "code",
   "execution_count": 97,
   "metadata": {},
   "outputs": [
    {
     "name": "stdout",
     "output_type": "stream",
     "text": [
      "<class 'pandas.core.frame.DataFrame'>\n",
      "RangeIndex: 1839 entries, 0 to 1838\n",
      "Data columns (total 9 columns):\n",
      " #   Column              Non-Null Count  Dtype  \n",
      "---  ------              --------------  -----  \n",
      " 0   Lifestyle_feature2  1839 non-null   float64\n",
      " 1   Lifestyle_feature4  1839 non-null   float64\n",
      " 2   Height              1839 non-null   float64\n",
      " 3   Weight              1839 non-null   float64\n",
      " 4   Age                 1839 non-null   float64\n",
      " 5   DFC                 1839 non-null   float64\n",
      " 6   EF                  1839 non-null   float64\n",
      " 7   FI                  1839 non-null   float64\n",
      " 8   EDUT                1839 non-null   float64\n",
      "dtypes: float64(9)\n",
      "memory usage: 129.4 KB\n"
     ]
    }
   ],
   "source": [
    "numerical_df.info()"
   ]
  },
  {
   "cell_type": "markdown",
   "metadata": {},
   "source": [
    "### 아래 코드로 submission하였습니다!"
   ]
  },
  {
   "cell_type": "code",
   "execution_count": 19,
   "metadata": {},
   "outputs": [],
   "source": [
    "kmeans = KMeans(n_clusters=3)\n",
    "kmeans.fit(numerical_df)\n",
    "\n",
    "label_df = pd.DataFrame(kmeans.labels_)\n",
    "\n",
    "submission_df = pd.DataFrame()\n",
    "\n",
    "submission_df['id'] = np.arange(1839)\n",
    "submission_df['predict'] = kmeans.labels_\n",
    "\n",
    "submission_df.to_csv('./submissions/CLST_KM_n3.csv', index=False)\n"
   ]
  },
  {
   "cell_type": "code",
   "execution_count": 20,
   "metadata": {},
   "outputs": [
    {
     "name": "stdout",
     "output_type": "stream",
     "text": [
      "          id\n",
      "predict     \n",
      "0        702\n",
      "1        417\n",
      "2        720\n"
     ]
    }
   ],
   "source": [
    "print(submission_df.groupby(['predict']).count())"
   ]
  },
  {
   "cell_type": "code",
   "execution_count": 20,
   "metadata": {},
   "outputs": [
    {
     "data": {
      "image/png": "[encoded data removed]",
      "text/plain": [
       "<Figure size 432x288 with 1 Axes>"
      ]
     },
     "metadata": {
      "needs_background": "light"
     },
     "output_type": "display_data"
    }
   ],
   "source": [
    "from sklearn.decomposition import PCA\n",
    "import matplotlib.pyplot as plt\n",
    "\n",
    "pcd_df = numerical_df\n",
    "pcd_df['cluster'] = kmeans.labels_\n",
    "\n",
    "pca = PCA(n_components=2)\n",
    "pca_transformed = pca.fit_transform(pcd_df)\n",
    "\n",
    "pcd_df['pca_x'] = pca_transformed[:, 0]\n",
    "pcd_df['pca_y'] = pca_transformed[:, 1]\n",
    "\n",
    "maker0_ind = pcd_df[pcd_df['cluster'] == 0].index\n",
    "maker1_ind = pcd_df[pcd_df['cluster'] == 1].index\n",
    "maker2_ind = pcd_df[pcd_df['cluster'] == 2].index\n",
    "maker3_ind = pcd_df[pcd_df['cluster'] == 3].index\n",
    "maker4_ind = pcd_df[pcd_df['cluster'] == 4].index\n",
    "maker5_ind = pcd_df[pcd_df['cluster'] == 5].index\n",
    "maker6_ind = pcd_df[pcd_df['cluster'] == 6].index\n",
    "maker7_ind = pcd_df[pcd_df['cluster'] == 7].index\n",
    "\n",
    "plt.scatter(x=pcd_df.loc[maker0_ind, 'pca_x'],\n",
    "            y=pcd_df.loc[maker0_ind, 'pca_y'])\n",
    "plt.scatter(x=pcd_df.loc[maker1_ind, 'pca_x'],\n",
    "            y=pcd_df.loc[maker1_ind, 'pca_y'])\n",
    "plt.scatter(x=pcd_df.loc[maker2_ind,'pca_x'], \n",
    "            y=pcd_df.loc[maker2_ind, 'pca_y'])\n",
    "plt.scatter(x=pcd_df.loc[maker3_ind, 'pca_x'],\n",
    "            y=pcd_df.loc[maker3_ind, 'pca_y'])\n",
    "plt.scatter(x=pcd_df.loc[maker4_ind, 'pca_x'],\n",
    "            y=pcd_df.loc[maker4_ind, 'pca_y'])\n",
    "plt.scatter(x=pcd_df.loc[maker5_ind, 'pca_x'],\n",
    "            y=pcd_df.loc[maker5_ind, 'pca_y'])\n",
    "plt.scatter(x=pcd_df.loc[maker6_ind, 'pca_x'],\n",
    "            y=pcd_df.loc[maker6_ind, 'pca_y'])\n",
    "plt.scatter(x=pcd_df.loc[maker7_ind, 'pca_x'],\n",
    "            y=pcd_df.loc[maker7_ind, 'pca_y'])\n",
    "\n",
    "plt.show()"
   ]
  },
  {
   "cell_type": "code",
   "execution_count": 21,
   "metadata": {},
   "outputs": [
    {
     "name": "stderr",
     "output_type": "stream",
     "text": [
      "<>:1: SyntaxWarning: \"is\" with a literal. Did you mean \"==\"?\n",
      "<>:2: SyntaxWarning: \"is\" with a literal. Did you mean \"==\"?\n",
      "<>:3: SyntaxWarning: \"is\" with a literal. Did you mean \"==\"?\n",
      "<>:1: SyntaxWarning: \"is\" with a literal. Did you mean \"==\"?\n",
      "<>:2: SyntaxWarning: \"is\" with a literal. Did you mean \"==\"?\n",
      "<>:3: SyntaxWarning: \"is\" with a literal. Did you mean \"==\"?\n",
      "/var/folders/ln/5crzqg4144jgkv82ryrmmdz00000gn/T/ipykernel_16911/1403384588.py:1: SyntaxWarning: \"is\" with a literal. Did you mean \"==\"?\n",
      "  data_df['Smoker'] = data_df['Smoker'].apply(lambda x: 0 if x is 'no' else 1)\n",
      "/var/folders/ln/5crzqg4144jgkv82ryrmmdz00000gn/T/ipykernel_16911/1403384588.py:2: SyntaxWarning: \"is\" with a literal. Did you mean \"==\"?\n",
      "  data_df['Medical_history'] = data_df['Medical_history'].apply(lambda x: 0 if x is 'no' else 1)\n",
      "/var/folders/ln/5crzqg4144jgkv82ryrmmdz00000gn/T/ipykernel_16911/1403384588.py:3: SyntaxWarning: \"is\" with a literal. Did you mean \"==\"?\n",
      "  data_df['HSM'] = data_df['HSM'].apply(lambda x: 0 if x is 'no' else 1)\n"
     ]
    }
   ],
   "source": [
    "data_df['Smoker'] = data_df['Smoker'].apply(lambda x: 0 if x is 'no' else 1)\n",
    "data_df['Medical_history'] = data_df['Medical_history'].apply(lambda x: 0 if x is 'no' else 1)\n",
    "data_df['HSM'] = data_df['HSM'].apply(lambda x: 0 if x is 'no' else 1)"
   ]
  },
  {
   "cell_type": "code",
   "execution_count": 24,
   "metadata": {},
   "outputs": [],
   "source": [
    "def catToNum(x):\n",
    "    if x == 'no':\n",
    "        return 0\n",
    "    elif x == 'Sometimes':\n",
    "        return 1\n",
    "    elif x == 'Frequently':\n",
    "        return 2\n",
    "    else:\n",
    "        return 3"
   ]
  },
  {
   "cell_type": "code",
   "execution_count": 25,
   "metadata": {},
   "outputs": [],
   "source": [
    "data_df['Sex'] = data_df['Sex'].apply(lambda x: 0 if x == 'Male' else 1)\n",
    "data_df['SC'] = data_df['SC'].apply(lambda x: catToNum(x))\n",
    "data_df['AC'] = data_df['AC'].apply(lambda x: catToNum(x))"
   ]
  },
  {
   "cell_type": "markdown",
   "metadata": {},
   "source": [
    "### data preprocessing -> KMeans"
   ]
  },
  {
   "cell_type": "code",
   "execution_count": 26,
   "metadata": {},
   "outputs": [
    {
     "name": "stdout",
     "output_type": "stream",
     "text": [
      "<class 'pandas.core.frame.DataFrame'>\n",
      "RangeIndex: 1839 entries, 0 to 1838\n",
      "Data columns (total 17 columns):\n",
      " #   Column              Non-Null Count  Dtype  \n",
      "---  ------              --------------  -----  \n",
      " 0   DFC                 1839 non-null   float64\n",
      " 1   Lifestyle_feature1  1839 non-null   int64  \n",
      " 2   SC                  1839 non-null   int64  \n",
      " 3   EF                  1839 non-null   float64\n",
      " 4   FI                  1839 non-null   float64\n",
      " 5   Height              1839 non-null   float64\n",
      " 6   Smoker              1839 non-null   int64  \n",
      " 7   Medical_history     1839 non-null   int64  \n",
      " 8   Lifestyle_feature3  1839 non-null   int64  \n",
      " 9   Weight              1839 non-null   float64\n",
      " 10  Lifestyle_feature2  1839 non-null   float64\n",
      " 11  Age                 1839 non-null   float64\n",
      " 12  AC                  1839 non-null   int64  \n",
      " 13  EDUT                1839 non-null   float64\n",
      " 14  HSM                 1839 non-null   int64  \n",
      " 15  Lifestyle_feature4  1839 non-null   float64\n",
      " 16  Sex                 1839 non-null   int64  \n",
      "dtypes: float64(9), int64(8)\n",
      "memory usage: 244.4 KB\n"
     ]
    }
   ],
   "source": [
    "data_df.info()"
   ]
  },
  {
   "cell_type": "code",
   "execution_count": 27,
   "metadata": {},
   "outputs": [
    {
     "data": {
      "text/plain": [
       "KMeans()"
      ]
     },
     "execution_count": 27,
     "metadata": {},
     "output_type": "execute_result"
    }
   ],
   "source": [
    "kmeans = KMeans()\n",
    "kmeans.fit(data_df)"
   ]
  },
  {
   "cell_type": "code",
   "execution_count": 28,
   "metadata": {},
   "outputs": [],
   "source": [
    "submission_df = pd.DataFrame()\n",
    "\n",
    "submission_df['id'] = np.arange(1839)\n",
    "submission_df['predict'] = kmeans.labels_\n",
    "\n",
    "submission_df.to_csv('./submissions/CLST__prep_KM.csv', index=False)"
   ]
  },
  {
   "cell_type": "code",
   "execution_count": 30,
   "metadata": {},
   "outputs": [],
   "source": [
    "label_df = pd.DataFrame(kmeans.labels_)"
   ]
  },
  {
   "cell_type": "code",
   "execution_count": 29,
   "metadata": {},
   "outputs": [
    {
     "data": {
      "image/png": "[encoded data removed]",
      "text/plain": [
       "<Figure size 432x288 with 1 Axes>"
      ]
     },
     "metadata": {
      "needs_background": "light"
     },
     "output_type": "display_data"
    }
   ],
   "source": [
    "label_df = pd.DataFrame(kmeans.labels_)\n",
    "\n",
    "pcd_df = data_df\n",
    "pcd_df['cluster'] = kmeans.labels_\n",
    "\n",
    "pca = PCA(n_components=2)\n",
    "pca_transformed = pca.fit_transform(data_df)\n",
    "\n",
    "pcd_df['pca_x'] = pca_transformed[:, 0]\n",
    "pcd_df['pca_y'] = pca_transformed[:, 1]\n",
    "\n",
    "maker0_ind = pcd_df[pcd_df['cluster'] == 0].index\n",
    "maker1_ind = pcd_df[pcd_df['cluster'] == 1].index\n",
    "maker2_ind = pcd_df[pcd_df['cluster'] == 2].index\n",
    "maker3_ind = pcd_df[pcd_df['cluster'] == 3].index\n",
    "maker4_ind = pcd_df[pcd_df['cluster'] == 4].index\n",
    "maker5_ind = pcd_df[pcd_df['cluster'] == 5].index\n",
    "maker6_ind = pcd_df[pcd_df['cluster'] == 6].index\n",
    "maker7_ind = pcd_df[pcd_df['cluster'] == 7].index\n",
    "\n",
    "plt.scatter(x=pcd_df.loc[maker0_ind, 'pca_x'],\n",
    "            y=pcd_df.loc[maker0_ind, 'pca_y'])\n",
    "plt.scatter(x=pcd_df.loc[maker1_ind, 'pca_x'],\n",
    "            y=pcd_df.loc[maker1_ind, 'pca_y'])\n",
    "plt.scatter(x=pcd_df.loc[maker2_ind, 'pca_x'],\n",
    "            y=pcd_df.loc[maker2_ind, 'pca_y'])\n",
    "plt.scatter(x=pcd_df.loc[maker3_ind, 'pca_x'],\n",
    "            y=pcd_df.loc[maker3_ind, 'pca_y'])\n",
    "plt.scatter(x=pcd_df.loc[maker4_ind, 'pca_x'],\n",
    "            y=pcd_df.loc[maker4_ind, 'pca_y'])\n",
    "plt.scatter(x=pcd_df.loc[maker5_ind, 'pca_x'],\n",
    "            y=pcd_df.loc[maker5_ind, 'pca_y'])\n",
    "plt.scatter(x=pcd_df.loc[maker6_ind, 'pca_x'],\n",
    "            y=pcd_df.loc[maker6_ind, 'pca_y'])\n",
    "plt.scatter(x=pcd_df.loc[maker7_ind, 'pca_x'],\n",
    "            y=pcd_df.loc[maker7_ind, 'pca_y'])\n",
    "\n",
    "plt.show()\n"
   ]
  },
  {
   "cell_type": "markdown",
   "metadata": {},
   "source": [
    "## DBSCAN"
   ]
  },
  {
   "cell_type": "code",
   "execution_count": 98,
   "metadata": {},
   "outputs": [],
   "source": [
    "from sklearn.cluster import DBSCAN\n",
    "\n",
    "dbscan = DBSCAN(min_samples=2, eps=7)\n",
    "dbscan.fit(data_df)\n",
    "\n",
    "prediction_df = dbscan.fit_predict(numerical_df)\n",
    "\n",
    "submission_df = pd.DataFrame()\n",
    "\n",
    "submission_df['id'] = np.arange(1839)\n",
    "submission_df['predict'] = prediction_df\n",
    "\n",
    "submission_df.to_csv('./submissions/CLST_DBSCAN_MS2_E7.csv', index=False)"
   ]
  },
  {
   "cell_type": "code",
   "execution_count": 99,
   "metadata": {},
   "outputs": [
    {
     "name": "stdout",
     "output_type": "stream",
     "text": [
      "           id\n",
      "predict      \n",
      "-1          3\n",
      " 0       1834\n",
      " 1          2\n"
     ]
    }
   ],
   "source": [
    "print(submission_df.groupby(['predict']).count())"
   ]
  },
  {
   "cell_type": "markdown",
   "metadata": {},
   "source": [
    "## Gaussian mixture"
   ]
  },
  {
   "cell_type": "code",
   "execution_count": 130,
   "metadata": {},
   "outputs": [],
   "source": [
    "from sklearn.mixture import GaussianMixture\n",
    "\n",
    "gm = GaussianMixture(n_components=7).fit(numerical_df)\n",
    "\n",
    "prediction_df = gm.predict(numerical_df)\n",
    "\n",
    "submission_df = pd.DataFrame()\n",
    "\n",
    "submission_df['id'] = np.arange(1839)\n",
    "submission_df['predict'] = prediction_df\n",
    "\n",
    "submission_df.to_csv('./submissions/CLST_GM_n7.csv', index=False)\n"
   ]
  },
  {
   "cell_type": "code",
   "execution_count": 131,
   "metadata": {},
   "outputs": [
    {
     "name": "stdout",
     "output_type": "stream",
     "text": [
      "          id\n",
      "predict     \n",
      "0        791\n",
      "1         99\n",
      "2        152\n",
      "3         51\n",
      "4        207\n",
      "5        218\n",
      "6        321\n"
     ]
    }
   ],
   "source": [
    "print(submission_df.groupby(['predict']).count())"
   ]
  },
  {
   "cell_type": "markdown",
   "metadata": {},
   "source": [
    "## Birch"
   ]
  },
  {
   "cell_type": "code",
   "execution_count": 147,
   "metadata": {},
   "outputs": [],
   "source": [
    "def changeLabel(x):\n",
    "    if x == 0:\n",
    "        return 1\n",
    "    elif x == 1:\n",
    "        return 2\n",
    "    elif x == 2:\n",
    "        return 3\n",
    "    else:\n",
    "        return 0"
   ]
  },
  {
   "cell_type": "code",
   "execution_count": 195,
   "metadata": {},
   "outputs": [],
   "source": [
    "from sklearn.cluster import Birch\n",
    "\n",
    "brc = Birch(n_clusters=4, threshold=0.2)\n",
    "brc.fit(data_df)\n",
    "\n",
    "prediction_df = brc.predict(data_df)\n",
    "\n",
    "submission_df = pd.DataFrame()\n",
    "\n",
    "submission_df['id'] = np.arange(1839)\n",
    "submission_df['predict'] = prediction_df\n",
    "\n",
    "submission_df.to_csv('./submissions/CLST_BRC_n4_t06_b70.csv', index=False)\n"
   ]
  },
  {
   "cell_type": "code",
   "execution_count": 196,
   "metadata": {},
   "outputs": [
    {
     "name": "stdout",
     "output_type": "stream",
     "text": [
      "          id\n",
      "predict     \n",
      "0        634\n",
      "1        290\n",
      "2        391\n",
      "3        524\n"
     ]
    }
   ],
   "source": [
    "print(submission_df.groupby(['predict']).count())"
   ]
  },
  {
   "cell_type": "markdown",
   "metadata": {},
   "source": [
    "## BisectingKMeans"
   ]
  },
  {
   "cell_type": "code",
   "execution_count": 1,
   "metadata": {},
   "outputs": [],
   "source": [
    "import sklearn"
   ]
  },
  {
   "cell_type": "code",
   "execution_count": 2,
   "metadata": {},
   "outputs": [
    {
     "name": "stdout",
     "output_type": "stream",
     "text": [
      "1.1.3\n"
     ]
    }
   ],
   "source": [
    "print(sklearn.__version__)"
   ]
  },
  {
   "cell_type": "code",
   "execution_count": 201,
   "metadata": {},
   "outputs": [
    {
     "name": "stdout",
     "output_type": "stream",
     "text": [
      "Collecting package metadata (current_repodata.json): done\n",
      "Solving environment: done\n",
      "\n",
      "## Package Plan ##\n",
      "\n",
      "  environment location: /Users/kwontaekhyun/opt/anaconda3\n",
      "\n",
      "  added / updated specs:\n",
      "    - conda\n",
      "\n",
      "\n",
      "The following packages will be downloaded:\n",
      "\n",
      "    package                    |            build\n",
      "    ---------------------------|-----------------\n",
      "    conda-22.11.0              |   py39hecd8cb5_1         927 KB\n",
      "    conda-package-handling-1.9.0|   py39hca72f7f_1         1.5 MB\n",
      "    pyjwt-2.4.0                |   py39hecd8cb5_0          35 KB\n",
      "    ruamel.yaml-0.16.12        |   py39hca72f7f_3         175 KB\n",
      "    ruamel.yaml.clib-0.2.6     |   py39hca72f7f_1         126 KB\n",
      "    ------------------------------------------------------------\n",
      "                                           Total:         2.8 MB\n",
      "\n",
      "The following NEW packages will be INSTALLED:\n",
      "\n",
      "  ruamel.yaml        pkgs/main/osx-64::ruamel.yaml-0.16.12-py39hca72f7f_3\n",
      "  ruamel.yaml.clib   pkgs/main/osx-64::ruamel.yaml.clib-0.2.6-py39hca72f7f_1\n",
      "\n",
      "The following packages will be REMOVED:\n",
      "\n",
      "  python_abi-3.9-2_cp39\n",
      "\n",
      "The following packages will be UPDATED:\n",
      "\n",
      "  conda              conda-forge::conda-4.14.0-py39h6e9494~ --> pkgs/main::conda-22.11.0-py39hecd8cb5_1\n",
      "  conda-package-han~                   1.8.1-py39hca72f7f_0 --> 1.9.0-py39hca72f7f_1\n",
      "  pyjwt                                2.1.0-py39hecd8cb5_0 --> 2.4.0-py39hecd8cb5_0\n",
      "\n",
      "\n",
      "\n",
      "Downloading and Extracting Packages\n",
      "pyjwt-2.4.0          | 35 KB     | ##################################### | 100% \n",
      "conda-package-handli | 1.5 MB    | ##################################### | 100% \n",
      "ruamel.yaml-0.16.12  | 175 KB    | ##################################### | 100% \n",
      "conda-22.11.0        | 927 KB    | ##################################### | 100% \n",
      "ruamel.yaml.clib-0.2 | 126 KB    | ##################################### | 100% \n",
      "Preparing transaction: done\n",
      "Verifying transaction: done\n",
      "Executing transaction: done\n",
      "Retrieving notices: ...working... done\n",
      "\n",
      "Note: you may need to restart the kernel to use updated packages.\n"
     ]
    }
   ],
   "source": [
    "%conda update conda"
   ]
  },
  {
   "cell_type": "code",
   "execution_count": 204,
   "metadata": {},
   "outputs": [
    {
     "name": "stdout",
     "output_type": "stream",
     "text": [
      "\n",
      "PackageNotInstalledError: Package is not installed in prefix.\n",
      "  prefix: /Users/kwontaekhyun/opt/anaconda3\n",
      "  package name: all\n",
      "\n",
      "\n",
      "\n",
      "Note: you may need to restart the kernel to use updated packages.\n"
     ]
    }
   ],
   "source": [
    "%conda update all"
   ]
  },
  {
   "cell_type": "code",
   "execution_count": 4,
   "metadata": {},
   "outputs": [
    {
     "name": "stdout",
     "output_type": "stream",
     "text": [
      "Requirement already satisfied: scikit-learn in /Users/kwontaekhyun/opt/anaconda3/lib/python3.9/site-packages (1.0.2)\n",
      "Collecting scikit-learn\n",
      "  Downloading scikit_learn-1.1.3-cp39-cp39-macosx_10_9_x86_64.whl (8.7 MB)\n",
      "\u001b[2K     \u001b[90m━━━━━━━━━━━━━━━━━━━━━━━━━━━━━━━━━━━━━━━━\u001b[0m \u001b[32m8.7/8.7 MB\u001b[0m \u001b[31m16.6 MB/s\u001b[0m eta \u001b[36m0:00:00\u001b[0m00:01\u001b[0m00:01\u001b[0m\n",
      "\u001b[?25hRequirement already satisfied: numpy>=1.17.3 in /Users/kwontaekhyun/opt/anaconda3/lib/python3.9/site-packages (from scikit-learn) (1.21.6)\n",
      "Requirement already satisfied: joblib>=1.0.0 in /Users/kwontaekhyun/opt/anaconda3/lib/python3.9/site-packages (from scikit-learn) (1.1.0)\n",
      "Requirement already satisfied: threadpoolctl>=2.0.0 in /Users/kwontaekhyun/opt/anaconda3/lib/python3.9/site-packages (from scikit-learn) (2.2.0)\n",
      "Requirement already satisfied: scipy>=1.3.2 in /Users/kwontaekhyun/opt/anaconda3/lib/python3.9/site-packages (from scikit-learn) (1.7.3)\n",
      "Installing collected packages: scikit-learn\n",
      "\u001b[31mERROR: pip's dependency resolver does not currently take into account all the packages that are installed. This behaviour is the source of the following dependency conflicts.\n",
      "recommenders 1.1.1 requires jinja2<3.1,>=2, but you have jinja2 3.1.2 which is incompatible.\n",
      "recommenders 1.1.1 requires scikit-learn<1.0.3,>=0.22.1, but you have scikit-learn 1.1.3 which is incompatible.\u001b[0m\u001b[31m\n",
      "\u001b[0mSuccessfully installed scikit-learn-1.1.3\n",
      "Note: you may need to restart the kernel to use updated packages.\n"
     ]
    }
   ],
   "source": [
    "%pip install scikit-learn --user --upgrade"
   ]
  },
  {
   "cell_type": "code",
   "execution_count": 3,
   "metadata": {},
   "outputs": [],
   "source": [
    "from sklearn.cluster import BisectingKMeans"
   ]
  },
  {
   "cell_type": "code",
   "execution_count": 17,
   "metadata": {},
   "outputs": [],
   "source": [
    "from sklearn.cluster import BisectingKMeans\n",
    "\n",
    "bkmeans = BisectingKMeans(n_clusters=3, random_state=12)\n",
    "bkmeans.fit(numerical_df)\n",
    "\n",
    "label_df = pd.DataFrame(bkmeans.labels_)\n",
    "\n",
    "submission_df = pd.DataFrame()\n",
    "\n",
    "submission_df['id'] = np.arange(1839)\n",
    "submission_df['predict'] = bkmeans.labels_\n",
    "\n",
    "submission_df.to_csv('./submissions/CLST_BKM_n2_r12.csv', index=False)"
   ]
  },
  {
   "cell_type": "code",
   "execution_count": 18,
   "metadata": {},
   "outputs": [
    {
     "name": "stdout",
     "output_type": "stream",
     "text": [
      "          id\n",
      "predict     \n",
      "0        800\n",
      "1        403\n",
      "2        636\n"
     ]
    }
   ],
   "source": [
    "print(submission_df.groupby(['predict']).count())"
   ]
  }
 ],
 "metadata": {
  "kernelspec": {
   "display_name": "Python 3.9.12 ('base')",
   "language": "python",
   "name": "python3"
  },
  "language_info": {
   "codemirror_mode": {
    "name": "ipython",
    "version": 3
   },
   "file_extension": ".py",
   "mimetype": "text/x-python",
   "name": "python",
   "nbconvert_exporter": "python",
   "pygments_lexer": "ipython3",
   "version": "3.9.12"
  },
  "orig_nbformat": 4,
  "vscode": {
   "interpreter": {
    "hash": "9fa87f0efd0f3f6a31bcd534c5e9f592f83da151eb234c44c533e646ebb7e62f"
   }
  }
 },
 "nbformat": 4,
 "nbformat_minor": 2
}
