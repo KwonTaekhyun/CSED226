{
 "cells": [
  {
   "cell_type": "markdown",
   "metadata": {},
   "source": [
    "# Midterm Exam\n",
    "\n",
    "Please read each question carefully and write your code.<br>\n",
    "Feel free to use one or more cells to solve each question.\n",
    "\n",
    "When submitting, rename the file to midterm_[student_id].ipynb (ex.midterm_20211234.ipynb) and submit it to PLMS."
   ]
  },
  {
   "cell_type": "code",
   "execution_count": 1,
   "metadata": {},
   "outputs": [],
   "source": [
    "# DO NOT import any external libraries other than these.\n",
    "# There will be a penalty for importing external libraries for any reason.\n",
    "import pandas as pd\n",
    "import numpy as np\n",
    "import matplotlib.pyplot as plt\n",
    "import seaborn as sns\n",
    "import sqlite3\n",
    "from sklearn.manifold import TSNE\n",
    "%matplotlib inline"
   ]
  },
  {
   "cell_type": "markdown",
   "metadata": {},
   "source": [
    "We will use the following datasets in `data` folder.\n",
    "- `disney_movies_total_gross.csv`\n",
    "- `disney-characters.csv`\n",
    "\n",
    "Read the csv files and load them into dataframes named `gross_df` and `chracter_df` respectively."
   ]
  },
  {
   "cell_type": "code",
   "execution_count": 2,
   "metadata": {},
   "outputs": [],
   "source": [
    "gross_df = pd.read_csv('./data/disney_movies_total_gross.csv', encoding='latin1')\n",
    "character_df = pd.read_csv(\n",
    "    './data/disney-characters.csv', encoding='latin1')\n"
   ]
  },
  {
   "cell_type": "code",
   "execution_count": 3,
   "metadata": {},
   "outputs": [
    {
     "data": {
      "text/html": [
       "<div>\n",
       "<style scoped>\n",
       "    .dataframe tbody tr th:only-of-type {\n",
       "        vertical-align: middle;\n",
       "    }\n",
       "\n",
       "    .dataframe tbody tr th {\n",
       "        vertical-align: top;\n",
       "    }\n",
       "\n",
       "    .dataframe thead th {\n",
       "        text-align: right;\n",
       "    }\n",
       "</style>\n",
       "<table border=\"1\" class=\"dataframe\">\n",
       "  <thead>\n",
       "    <tr style=\"text-align: right;\">\n",
       "      <th></th>\n",
       "      <th>index</th>\n",
       "      <th>movie_title</th>\n",
       "      <th>release_date</th>\n",
       "      <th>genre</th>\n",
       "      <th>MPAA_rating</th>\n",
       "      <th>total_gross</th>\n",
       "      <th>inflation_adjusted_gross</th>\n",
       "    </tr>\n",
       "  </thead>\n",
       "  <tbody>\n",
       "    <tr>\n",
       "      <th>0</th>\n",
       "      <td>0</td>\n",
       "      <td>Snow White and the Seven Dwarfs</td>\n",
       "      <td>Dec 21, 1937</td>\n",
       "      <td>Musical</td>\n",
       "      <td>G</td>\n",
       "      <td>$184,925,485</td>\n",
       "      <td>$5,228,953,251</td>\n",
       "    </tr>\n",
       "    <tr>\n",
       "      <th>1</th>\n",
       "      <td>1</td>\n",
       "      <td>Pinocchio</td>\n",
       "      <td>Feb 9, 1940</td>\n",
       "      <td>Adventure</td>\n",
       "      <td>G</td>\n",
       "      <td>$84,300,000</td>\n",
       "      <td>$2,188,229,052</td>\n",
       "    </tr>\n",
       "    <tr>\n",
       "      <th>2</th>\n",
       "      <td>2</td>\n",
       "      <td>Fantasia</td>\n",
       "      <td>Nov 13, 1940</td>\n",
       "      <td>Musical</td>\n",
       "      <td>G</td>\n",
       "      <td>$83,320,000</td>\n",
       "      <td>$2,187,090,808</td>\n",
       "    </tr>\n",
       "    <tr>\n",
       "      <th>3</th>\n",
       "      <td>3</td>\n",
       "      <td>Song of the South</td>\n",
       "      <td>Nov 12, 1946</td>\n",
       "      <td>Adventure</td>\n",
       "      <td>G</td>\n",
       "      <td>$65,000,000</td>\n",
       "      <td>$1,078,510,579</td>\n",
       "    </tr>\n",
       "    <tr>\n",
       "      <th>4</th>\n",
       "      <td>4</td>\n",
       "      <td>Cinderella</td>\n",
       "      <td>Feb 15, 1950</td>\n",
       "      <td>Drama</td>\n",
       "      <td>G</td>\n",
       "      <td>$85,000,000</td>\n",
       "      <td>$920,608,730</td>\n",
       "    </tr>\n",
       "  </tbody>\n",
       "</table>\n",
       "</div>"
      ],
      "text/plain": [
       "   index                      movie_title  release_date      genre  \\\n",
       "0      0  Snow White and the Seven Dwarfs  Dec 21, 1937    Musical   \n",
       "1      1                        Pinocchio   Feb 9, 1940  Adventure   \n",
       "2      2                         Fantasia  Nov 13, 1940    Musical   \n",
       "3      3                Song of the South  Nov 12, 1946  Adventure   \n",
       "4      4                       Cinderella  Feb 15, 1950      Drama   \n",
       "\n",
       "  MPAA_rating   total_gross inflation_adjusted_gross  \n",
       "0           G  $184,925,485           $5,228,953,251  \n",
       "1           G   $84,300,000           $2,188,229,052  \n",
       "2           G   $83,320,000           $2,187,090,808  \n",
       "3           G   $65,000,000           $1,078,510,579  \n",
       "4           G   $85,000,000             $920,608,730  "
      ]
     },
     "execution_count": 3,
     "metadata": {},
     "output_type": "execute_result"
    }
   ],
   "source": [
    "gross_df.head()"
   ]
  },
  {
   "cell_type": "code",
   "execution_count": 4,
   "metadata": {},
   "outputs": [
    {
     "data": {
      "text/html": [
       "<div>\n",
       "<style scoped>\n",
       "    .dataframe tbody tr th:only-of-type {\n",
       "        vertical-align: middle;\n",
       "    }\n",
       "\n",
       "    .dataframe tbody tr th {\n",
       "        vertical-align: top;\n",
       "    }\n",
       "\n",
       "    .dataframe thead th {\n",
       "        text-align: right;\n",
       "    }\n",
       "</style>\n",
       "<table border=\"1\" class=\"dataframe\">\n",
       "  <thead>\n",
       "    <tr style=\"text-align: right;\">\n",
       "      <th></th>\n",
       "      <th>index</th>\n",
       "      <th>movie_title</th>\n",
       "      <th>release_date</th>\n",
       "      <th>hero</th>\n",
       "      <th>villian</th>\n",
       "      <th>song</th>\n",
       "    </tr>\n",
       "  </thead>\n",
       "  <tbody>\n",
       "    <tr>\n",
       "      <th>0</th>\n",
       "      <td>0</td>\n",
       "      <td>\\nSnow White and the Seven Dwarfs</td>\n",
       "      <td>December 21, 1937</td>\n",
       "      <td>Snow White</td>\n",
       "      <td>Evil Queen</td>\n",
       "      <td>Some Day My Prince Will Come</td>\n",
       "    </tr>\n",
       "    <tr>\n",
       "      <th>1</th>\n",
       "      <td>1</td>\n",
       "      <td>\\nPinocchio</td>\n",
       "      <td>February 7, 1940</td>\n",
       "      <td>Pinocchio</td>\n",
       "      <td>Stromboli</td>\n",
       "      <td>When You Wish upon a Star</td>\n",
       "    </tr>\n",
       "    <tr>\n",
       "      <th>2</th>\n",
       "      <td>2</td>\n",
       "      <td>\\nFantasia</td>\n",
       "      <td>November 13, 1940</td>\n",
       "      <td>NaN</td>\n",
       "      <td>Chernabog</td>\n",
       "      <td>NaN</td>\n",
       "    </tr>\n",
       "    <tr>\n",
       "      <th>3</th>\n",
       "      <td>3</td>\n",
       "      <td>Dumbo</td>\n",
       "      <td>October 23, 1941</td>\n",
       "      <td>Dumbo</td>\n",
       "      <td>Ringmaster</td>\n",
       "      <td>Baby Mine</td>\n",
       "    </tr>\n",
       "    <tr>\n",
       "      <th>4</th>\n",
       "      <td>4</td>\n",
       "      <td>\\nBambi</td>\n",
       "      <td>August 13, 1942</td>\n",
       "      <td>Bambi</td>\n",
       "      <td>Hunter</td>\n",
       "      <td>Love Is a Song</td>\n",
       "    </tr>\n",
       "  </tbody>\n",
       "</table>\n",
       "</div>"
      ],
      "text/plain": [
       "   index                        movie_title       release_date        hero  \\\n",
       "0      0  \\nSnow White and the Seven Dwarfs  December 21, 1937  Snow White   \n",
       "1      1                        \\nPinocchio   February 7, 1940   Pinocchio   \n",
       "2      2                         \\nFantasia  November 13, 1940         NaN   \n",
       "3      3                              Dumbo   October 23, 1941       Dumbo   \n",
       "4      4                            \\nBambi    August 13, 1942       Bambi   \n",
       "\n",
       "      villian                          song  \n",
       "0  Evil Queen  Some Day My Prince Will Come  \n",
       "1   Stromboli     When You Wish upon a Star  \n",
       "2   Chernabog                           NaN  \n",
       "3  Ringmaster                     Baby Mine  \n",
       "4      Hunter                Love Is a Song  "
      ]
     },
     "execution_count": 4,
     "metadata": {},
     "output_type": "execute_result"
    }
   ],
   "source": [
    "character_df.head()"
   ]
  },
  {
   "cell_type": "markdown",
   "metadata": {},
   "source": [
    "## Q1\n",
    "For both dataframes, print the number of nan values in each column and delete the rows with one or more nan values."
   ]
  },
  {
   "cell_type": "code",
   "execution_count": 9,
   "metadata": {},
   "outputs": [
    {
     "data": {
      "text/plain": [
       "index                       0\n",
       "movie_title                 0\n",
       "release_date                0\n",
       "genre                       0\n",
       "MPAA_rating                 0\n",
       "total_gross                 0\n",
       "inflation_adjusted_gross    0\n",
       "dtype: int64"
      ]
     },
     "execution_count": 9,
     "metadata": {},
     "output_type": "execute_result"
    }
   ],
   "source": [
    "gross_df.isna().sum()"
   ]
  },
  {
   "cell_type": "code",
   "execution_count": 10,
   "metadata": {},
   "outputs": [
    {
     "data": {
      "text/plain": [
       "index           0\n",
       "movie_title     0\n",
       "release_date    0\n",
       "hero            0\n",
       "villian         0\n",
       "song            0\n",
       "dtype: int64"
      ]
     },
     "execution_count": 10,
     "metadata": {},
     "output_type": "execute_result"
    }
   ],
   "source": [
    "character_df.isna().sum()"
   ]
  },
  {
   "cell_type": "code",
   "execution_count": 7,
   "metadata": {},
   "outputs": [],
   "source": [
    "gross_df = gross_df.dropna(axis=0)"
   ]
  },
  {
   "cell_type": "code",
   "execution_count": 8,
   "metadata": {},
   "outputs": [],
   "source": [
    "character_df = character_df.dropna(axis=0)"
   ]
  },
  {
   "cell_type": "markdown",
   "metadata": {},
   "source": [
    "## Q2\n",
    "For `gross_df`, remove `$`, `,` in `total_gross` column and change to integer."
   ]
  },
  {
   "cell_type": "code",
   "execution_count": 13,
   "metadata": {},
   "outputs": [],
   "source": [
    "gross_df['total_gross'] = gross_df['total_gross'].apply(lambda x: x.replace(',','').strip('$'))\n",
    "gross_df = gross_df.astype({'total_gross': 'int'})"
   ]
  },
  {
   "cell_type": "code",
   "execution_count": 15,
   "metadata": {},
   "outputs": [
    {
     "data": {
      "text/html": [
       "<div>\n",
       "<style scoped>\n",
       "    .dataframe tbody tr th:only-of-type {\n",
       "        vertical-align: middle;\n",
       "    }\n",
       "\n",
       "    .dataframe tbody tr th {\n",
       "        vertical-align: top;\n",
       "    }\n",
       "\n",
       "    .dataframe thead th {\n",
       "        text-align: right;\n",
       "    }\n",
       "</style>\n",
       "<table border=\"1\" class=\"dataframe\">\n",
       "  <thead>\n",
       "    <tr style=\"text-align: right;\">\n",
       "      <th></th>\n",
       "      <th>index</th>\n",
       "      <th>movie_title</th>\n",
       "      <th>release_date</th>\n",
       "      <th>genre</th>\n",
       "      <th>MPAA_rating</th>\n",
       "      <th>total_gross</th>\n",
       "      <th>inflation_adjusted_gross</th>\n",
       "    </tr>\n",
       "  </thead>\n",
       "  <tbody>\n",
       "    <tr>\n",
       "      <th>0</th>\n",
       "      <td>0</td>\n",
       "      <td>Snow White and the Seven Dwarfs</td>\n",
       "      <td>Dec 21, 1937</td>\n",
       "      <td>Musical</td>\n",
       "      <td>G</td>\n",
       "      <td>184925485</td>\n",
       "      <td>$5,228,953,251</td>\n",
       "    </tr>\n",
       "    <tr>\n",
       "      <th>1</th>\n",
       "      <td>1</td>\n",
       "      <td>Pinocchio</td>\n",
       "      <td>Feb 9, 1940</td>\n",
       "      <td>Adventure</td>\n",
       "      <td>G</td>\n",
       "      <td>84300000</td>\n",
       "      <td>$2,188,229,052</td>\n",
       "    </tr>\n",
       "    <tr>\n",
       "      <th>2</th>\n",
       "      <td>2</td>\n",
       "      <td>Fantasia</td>\n",
       "      <td>Nov 13, 1940</td>\n",
       "      <td>Musical</td>\n",
       "      <td>G</td>\n",
       "      <td>83320000</td>\n",
       "      <td>$2,187,090,808</td>\n",
       "    </tr>\n",
       "    <tr>\n",
       "      <th>3</th>\n",
       "      <td>3</td>\n",
       "      <td>Song of the South</td>\n",
       "      <td>Nov 12, 1946</td>\n",
       "      <td>Adventure</td>\n",
       "      <td>G</td>\n",
       "      <td>65000000</td>\n",
       "      <td>$1,078,510,579</td>\n",
       "    </tr>\n",
       "    <tr>\n",
       "      <th>4</th>\n",
       "      <td>4</td>\n",
       "      <td>Cinderella</td>\n",
       "      <td>Feb 15, 1950</td>\n",
       "      <td>Drama</td>\n",
       "      <td>G</td>\n",
       "      <td>85000000</td>\n",
       "      <td>$920,608,730</td>\n",
       "    </tr>\n",
       "  </tbody>\n",
       "</table>\n",
       "</div>"
      ],
      "text/plain": [
       "   index                      movie_title  release_date      genre  \\\n",
       "0      0  Snow White and the Seven Dwarfs  Dec 21, 1937    Musical   \n",
       "1      1                        Pinocchio   Feb 9, 1940  Adventure   \n",
       "2      2                         Fantasia  Nov 13, 1940    Musical   \n",
       "3      3                Song of the South  Nov 12, 1946  Adventure   \n",
       "4      4                       Cinderella  Feb 15, 1950      Drama   \n",
       "\n",
       "  MPAA_rating  total_gross inflation_adjusted_gross  \n",
       "0           G    184925485           $5,228,953,251  \n",
       "1           G     84300000           $2,188,229,052  \n",
       "2           G     83320000           $2,187,090,808  \n",
       "3           G     65000000           $1,078,510,579  \n",
       "4           G     85000000             $920,608,730  "
      ]
     },
     "execution_count": 15,
     "metadata": {},
     "output_type": "execute_result"
    }
   ],
   "source": [
    "gross_df.head()"
   ]
  },
  {
   "cell_type": "markdown",
   "metadata": {},
   "source": [
    "For `gross_df`, create a new column called `title_length` with the value 'long' if the movie title has more than 6 words, otherwise 'short'."
   ]
  },
  {
   "cell_type": "code",
   "execution_count": 16,
   "metadata": {},
   "outputs": [],
   "source": [
    "gross_df['title_length'] = gross_df['movie_title'].apply(lambda x: 'long' if len(x.split(' ')) > 6 else 'short')"
   ]
  },
  {
   "cell_type": "code",
   "execution_count": 17,
   "metadata": {},
   "outputs": [
    {
     "data": {
      "text/html": [
       "<div>\n",
       "<style scoped>\n",
       "    .dataframe tbody tr th:only-of-type {\n",
       "        vertical-align: middle;\n",
       "    }\n",
       "\n",
       "    .dataframe tbody tr th {\n",
       "        vertical-align: top;\n",
       "    }\n",
       "\n",
       "    .dataframe thead th {\n",
       "        text-align: right;\n",
       "    }\n",
       "</style>\n",
       "<table border=\"1\" class=\"dataframe\">\n",
       "  <thead>\n",
       "    <tr style=\"text-align: right;\">\n",
       "      <th></th>\n",
       "      <th>index</th>\n",
       "      <th>movie_title</th>\n",
       "      <th>release_date</th>\n",
       "      <th>genre</th>\n",
       "      <th>MPAA_rating</th>\n",
       "      <th>total_gross</th>\n",
       "      <th>inflation_adjusted_gross</th>\n",
       "      <th>title_length</th>\n",
       "    </tr>\n",
       "  </thead>\n",
       "  <tbody>\n",
       "    <tr>\n",
       "      <th>0</th>\n",
       "      <td>0</td>\n",
       "      <td>Snow White and the Seven Dwarfs</td>\n",
       "      <td>Dec 21, 1937</td>\n",
       "      <td>Musical</td>\n",
       "      <td>G</td>\n",
       "      <td>184925485</td>\n",
       "      <td>$5,228,953,251</td>\n",
       "      <td>short</td>\n",
       "    </tr>\n",
       "    <tr>\n",
       "      <th>1</th>\n",
       "      <td>1</td>\n",
       "      <td>Pinocchio</td>\n",
       "      <td>Feb 9, 1940</td>\n",
       "      <td>Adventure</td>\n",
       "      <td>G</td>\n",
       "      <td>84300000</td>\n",
       "      <td>$2,188,229,052</td>\n",
       "      <td>short</td>\n",
       "    </tr>\n",
       "    <tr>\n",
       "      <th>2</th>\n",
       "      <td>2</td>\n",
       "      <td>Fantasia</td>\n",
       "      <td>Nov 13, 1940</td>\n",
       "      <td>Musical</td>\n",
       "      <td>G</td>\n",
       "      <td>83320000</td>\n",
       "      <td>$2,187,090,808</td>\n",
       "      <td>short</td>\n",
       "    </tr>\n",
       "    <tr>\n",
       "      <th>3</th>\n",
       "      <td>3</td>\n",
       "      <td>Song of the South</td>\n",
       "      <td>Nov 12, 1946</td>\n",
       "      <td>Adventure</td>\n",
       "      <td>G</td>\n",
       "      <td>65000000</td>\n",
       "      <td>$1,078,510,579</td>\n",
       "      <td>short</td>\n",
       "    </tr>\n",
       "    <tr>\n",
       "      <th>4</th>\n",
       "      <td>4</td>\n",
       "      <td>Cinderella</td>\n",
       "      <td>Feb 15, 1950</td>\n",
       "      <td>Drama</td>\n",
       "      <td>G</td>\n",
       "      <td>85000000</td>\n",
       "      <td>$920,608,730</td>\n",
       "      <td>short</td>\n",
       "    </tr>\n",
       "  </tbody>\n",
       "</table>\n",
       "</div>"
      ],
      "text/plain": [
       "   index                      movie_title  release_date      genre  \\\n",
       "0      0  Snow White and the Seven Dwarfs  Dec 21, 1937    Musical   \n",
       "1      1                        Pinocchio   Feb 9, 1940  Adventure   \n",
       "2      2                         Fantasia  Nov 13, 1940    Musical   \n",
       "3      3                Song of the South  Nov 12, 1946  Adventure   \n",
       "4      4                       Cinderella  Feb 15, 1950      Drama   \n",
       "\n",
       "  MPAA_rating  total_gross inflation_adjusted_gross title_length  \n",
       "0           G    184925485           $5,228,953,251        short  \n",
       "1           G     84300000           $2,188,229,052        short  \n",
       "2           G     83320000           $2,187,090,808        short  \n",
       "3           G     65000000           $1,078,510,579        short  \n",
       "4           G     85000000             $920,608,730        short  "
      ]
     },
     "execution_count": 17,
     "metadata": {},
     "output_type": "execute_result"
    }
   ],
   "source": [
    "gross_df.head()"
   ]
  },
  {
   "cell_type": "markdown",
   "metadata": {},
   "source": [
    "For `character_df`, remove `/n` in `movie_title`."
   ]
  },
  {
   "cell_type": "code",
   "execution_count": 22,
   "metadata": {},
   "outputs": [],
   "source": [
    "character_df['movie_title'] = character_df['movie_title'].apply(lambda x: x.replace('\\n', ''))"
   ]
  },
  {
   "cell_type": "code",
   "execution_count": 23,
   "metadata": {},
   "outputs": [
    {
     "data": {
      "text/html": [
       "<div>\n",
       "<style scoped>\n",
       "    .dataframe tbody tr th:only-of-type {\n",
       "        vertical-align: middle;\n",
       "    }\n",
       "\n",
       "    .dataframe tbody tr th {\n",
       "        vertical-align: top;\n",
       "    }\n",
       "\n",
       "    .dataframe thead th {\n",
       "        text-align: right;\n",
       "    }\n",
       "</style>\n",
       "<table border=\"1\" class=\"dataframe\">\n",
       "  <thead>\n",
       "    <tr style=\"text-align: right;\">\n",
       "      <th></th>\n",
       "      <th>index</th>\n",
       "      <th>movie_title</th>\n",
       "      <th>release_date</th>\n",
       "      <th>hero</th>\n",
       "      <th>villian</th>\n",
       "      <th>song</th>\n",
       "    </tr>\n",
       "  </thead>\n",
       "  <tbody>\n",
       "    <tr>\n",
       "      <th>0</th>\n",
       "      <td>0</td>\n",
       "      <td>Snow White and the Seven Dwarfs</td>\n",
       "      <td>December 21, 1937</td>\n",
       "      <td>Snow White</td>\n",
       "      <td>Evil Queen</td>\n",
       "      <td>Some Day My Prince Will Come</td>\n",
       "    </tr>\n",
       "    <tr>\n",
       "      <th>1</th>\n",
       "      <td>1</td>\n",
       "      <td>Pinocchio</td>\n",
       "      <td>February 7, 1940</td>\n",
       "      <td>Pinocchio</td>\n",
       "      <td>Stromboli</td>\n",
       "      <td>When You Wish upon a Star</td>\n",
       "    </tr>\n",
       "    <tr>\n",
       "      <th>2</th>\n",
       "      <td>2</td>\n",
       "      <td>Fantasia</td>\n",
       "      <td>November 13, 1940</td>\n",
       "      <td>NaN</td>\n",
       "      <td>Chernabog</td>\n",
       "      <td>NaN</td>\n",
       "    </tr>\n",
       "    <tr>\n",
       "      <th>3</th>\n",
       "      <td>3</td>\n",
       "      <td>Dumbo</td>\n",
       "      <td>October 23, 1941</td>\n",
       "      <td>Dumbo</td>\n",
       "      <td>Ringmaster</td>\n",
       "      <td>Baby Mine</td>\n",
       "    </tr>\n",
       "    <tr>\n",
       "      <th>4</th>\n",
       "      <td>4</td>\n",
       "      <td>Bambi</td>\n",
       "      <td>August 13, 1942</td>\n",
       "      <td>Bambi</td>\n",
       "      <td>Hunter</td>\n",
       "      <td>Love Is a Song</td>\n",
       "    </tr>\n",
       "  </tbody>\n",
       "</table>\n",
       "</div>"
      ],
      "text/plain": [
       "   index                      movie_title       release_date        hero  \\\n",
       "0      0  Snow White and the Seven Dwarfs  December 21, 1937  Snow White   \n",
       "1      1                        Pinocchio   February 7, 1940   Pinocchio   \n",
       "2      2                         Fantasia  November 13, 1940         NaN   \n",
       "3      3                            Dumbo   October 23, 1941       Dumbo   \n",
       "4      4                            Bambi    August 13, 1942       Bambi   \n",
       "\n",
       "      villian                          song  \n",
       "0  Evil Queen  Some Day My Prince Will Come  \n",
       "1   Stromboli     When You Wish upon a Star  \n",
       "2   Chernabog                           NaN  \n",
       "3  Ringmaster                     Baby Mine  \n",
       "4      Hunter                Love Is a Song  "
      ]
     },
     "execution_count": 23,
     "metadata": {},
     "output_type": "execute_result"
    }
   ],
   "source": [
    "character_df.head()"
   ]
  },
  {
   "cell_type": "markdown",
   "metadata": {},
   "source": [
    "For both dataframe, create a new column called `year` where the value is an interger that represents the year the movie was released."
   ]
  },
  {
   "cell_type": "code",
   "execution_count": 24,
   "metadata": {},
   "outputs": [],
   "source": [
    "gross_df['year'] = gross_df['release_date'].apply(lambda x: int(x.split(' ')[2]))"
   ]
  },
  {
   "cell_type": "code",
   "execution_count": 26,
   "metadata": {},
   "outputs": [],
   "source": [
    "character_df['year'] = character_df['release_date'].apply(\n",
    "    lambda x: int(x.split(' ')[2]))"
   ]
  },
  {
   "cell_type": "code",
   "execution_count": 28,
   "metadata": {},
   "outputs": [
    {
     "data": {
      "text/html": [
       "<div>\n",
       "<style scoped>\n",
       "    .dataframe tbody tr th:only-of-type {\n",
       "        vertical-align: middle;\n",
       "    }\n",
       "\n",
       "    .dataframe tbody tr th {\n",
       "        vertical-align: top;\n",
       "    }\n",
       "\n",
       "    .dataframe thead th {\n",
       "        text-align: right;\n",
       "    }\n",
       "</style>\n",
       "<table border=\"1\" class=\"dataframe\">\n",
       "  <thead>\n",
       "    <tr style=\"text-align: right;\">\n",
       "      <th></th>\n",
       "      <th>index</th>\n",
       "      <th>movie_title</th>\n",
       "      <th>release_date</th>\n",
       "      <th>genre</th>\n",
       "      <th>MPAA_rating</th>\n",
       "      <th>total_gross</th>\n",
       "      <th>inflation_adjusted_gross</th>\n",
       "      <th>title_length</th>\n",
       "      <th>year</th>\n",
       "    </tr>\n",
       "  </thead>\n",
       "  <tbody>\n",
       "    <tr>\n",
       "      <th>0</th>\n",
       "      <td>0</td>\n",
       "      <td>Snow White and the Seven Dwarfs</td>\n",
       "      <td>Dec 21, 1937</td>\n",
       "      <td>Musical</td>\n",
       "      <td>G</td>\n",
       "      <td>184925485</td>\n",
       "      <td>$5,228,953,251</td>\n",
       "      <td>short</td>\n",
       "      <td>1937</td>\n",
       "    </tr>\n",
       "    <tr>\n",
       "      <th>1</th>\n",
       "      <td>1</td>\n",
       "      <td>Pinocchio</td>\n",
       "      <td>Feb 9, 1940</td>\n",
       "      <td>Adventure</td>\n",
       "      <td>G</td>\n",
       "      <td>84300000</td>\n",
       "      <td>$2,188,229,052</td>\n",
       "      <td>short</td>\n",
       "      <td>1940</td>\n",
       "    </tr>\n",
       "    <tr>\n",
       "      <th>2</th>\n",
       "      <td>2</td>\n",
       "      <td>Fantasia</td>\n",
       "      <td>Nov 13, 1940</td>\n",
       "      <td>Musical</td>\n",
       "      <td>G</td>\n",
       "      <td>83320000</td>\n",
       "      <td>$2,187,090,808</td>\n",
       "      <td>short</td>\n",
       "      <td>1940</td>\n",
       "    </tr>\n",
       "    <tr>\n",
       "      <th>3</th>\n",
       "      <td>3</td>\n",
       "      <td>Song of the South</td>\n",
       "      <td>Nov 12, 1946</td>\n",
       "      <td>Adventure</td>\n",
       "      <td>G</td>\n",
       "      <td>65000000</td>\n",
       "      <td>$1,078,510,579</td>\n",
       "      <td>short</td>\n",
       "      <td>1946</td>\n",
       "    </tr>\n",
       "    <tr>\n",
       "      <th>4</th>\n",
       "      <td>4</td>\n",
       "      <td>Cinderella</td>\n",
       "      <td>Feb 15, 1950</td>\n",
       "      <td>Drama</td>\n",
       "      <td>G</td>\n",
       "      <td>85000000</td>\n",
       "      <td>$920,608,730</td>\n",
       "      <td>short</td>\n",
       "      <td>1950</td>\n",
       "    </tr>\n",
       "  </tbody>\n",
       "</table>\n",
       "</div>"
      ],
      "text/plain": [
       "   index                      movie_title  release_date      genre  \\\n",
       "0      0  Snow White and the Seven Dwarfs  Dec 21, 1937    Musical   \n",
       "1      1                        Pinocchio   Feb 9, 1940  Adventure   \n",
       "2      2                         Fantasia  Nov 13, 1940    Musical   \n",
       "3      3                Song of the South  Nov 12, 1946  Adventure   \n",
       "4      4                       Cinderella  Feb 15, 1950      Drama   \n",
       "\n",
       "  MPAA_rating  total_gross inflation_adjusted_gross title_length  year  \n",
       "0           G    184925485           $5,228,953,251        short  1937  \n",
       "1           G     84300000           $2,188,229,052        short  1940  \n",
       "2           G     83320000           $2,187,090,808        short  1940  \n",
       "3           G     65000000           $1,078,510,579        short  1946  \n",
       "4           G     85000000             $920,608,730        short  1950  "
      ]
     },
     "execution_count": 28,
     "metadata": {},
     "output_type": "execute_result"
    }
   ],
   "source": [
    "gross_df.head()"
   ]
  },
  {
   "cell_type": "code",
   "execution_count": 29,
   "metadata": {},
   "outputs": [
    {
     "data": {
      "text/html": [
       "<div>\n",
       "<style scoped>\n",
       "    .dataframe tbody tr th:only-of-type {\n",
       "        vertical-align: middle;\n",
       "    }\n",
       "\n",
       "    .dataframe tbody tr th {\n",
       "        vertical-align: top;\n",
       "    }\n",
       "\n",
       "    .dataframe thead th {\n",
       "        text-align: right;\n",
       "    }\n",
       "</style>\n",
       "<table border=\"1\" class=\"dataframe\">\n",
       "  <thead>\n",
       "    <tr style=\"text-align: right;\">\n",
       "      <th></th>\n",
       "      <th>index</th>\n",
       "      <th>movie_title</th>\n",
       "      <th>release_date</th>\n",
       "      <th>hero</th>\n",
       "      <th>villian</th>\n",
       "      <th>song</th>\n",
       "      <th>year</th>\n",
       "    </tr>\n",
       "  </thead>\n",
       "  <tbody>\n",
       "    <tr>\n",
       "      <th>0</th>\n",
       "      <td>0</td>\n",
       "      <td>Snow White and the Seven Dwarfs</td>\n",
       "      <td>December 21, 1937</td>\n",
       "      <td>Snow White</td>\n",
       "      <td>Evil Queen</td>\n",
       "      <td>Some Day My Prince Will Come</td>\n",
       "      <td>1937</td>\n",
       "    </tr>\n",
       "    <tr>\n",
       "      <th>1</th>\n",
       "      <td>1</td>\n",
       "      <td>Pinocchio</td>\n",
       "      <td>February 7, 1940</td>\n",
       "      <td>Pinocchio</td>\n",
       "      <td>Stromboli</td>\n",
       "      <td>When You Wish upon a Star</td>\n",
       "      <td>1940</td>\n",
       "    </tr>\n",
       "    <tr>\n",
       "      <th>2</th>\n",
       "      <td>2</td>\n",
       "      <td>Fantasia</td>\n",
       "      <td>November 13, 1940</td>\n",
       "      <td>NaN</td>\n",
       "      <td>Chernabog</td>\n",
       "      <td>NaN</td>\n",
       "      <td>1940</td>\n",
       "    </tr>\n",
       "    <tr>\n",
       "      <th>3</th>\n",
       "      <td>3</td>\n",
       "      <td>Dumbo</td>\n",
       "      <td>October 23, 1941</td>\n",
       "      <td>Dumbo</td>\n",
       "      <td>Ringmaster</td>\n",
       "      <td>Baby Mine</td>\n",
       "      <td>1941</td>\n",
       "    </tr>\n",
       "    <tr>\n",
       "      <th>4</th>\n",
       "      <td>4</td>\n",
       "      <td>Bambi</td>\n",
       "      <td>August 13, 1942</td>\n",
       "      <td>Bambi</td>\n",
       "      <td>Hunter</td>\n",
       "      <td>Love Is a Song</td>\n",
       "      <td>1942</td>\n",
       "    </tr>\n",
       "  </tbody>\n",
       "</table>\n",
       "</div>"
      ],
      "text/plain": [
       "   index                      movie_title       release_date        hero  \\\n",
       "0      0  Snow White and the Seven Dwarfs  December 21, 1937  Snow White   \n",
       "1      1                        Pinocchio   February 7, 1940   Pinocchio   \n",
       "2      2                         Fantasia  November 13, 1940         NaN   \n",
       "3      3                            Dumbo   October 23, 1941       Dumbo   \n",
       "4      4                            Bambi    August 13, 1942       Bambi   \n",
       "\n",
       "      villian                          song  year  \n",
       "0  Evil Queen  Some Day My Prince Will Come  1937  \n",
       "1   Stromboli     When You Wish upon a Star  1940  \n",
       "2   Chernabog                           NaN  1940  \n",
       "3  Ringmaster                     Baby Mine  1941  \n",
       "4      Hunter                Love Is a Song  1942  "
      ]
     },
     "execution_count": 29,
     "metadata": {},
     "output_type": "execute_result"
    }
   ],
   "source": [
    "character_df.head()"
   ]
  },
  {
   "cell_type": "markdown",
   "metadata": {},
   "source": [
    "## Q3\n",
    "Generate a new dataframe called `data` with movie title, year, genre, hero, and total_gross and as columns. <br>\n",
    "When generating a dataframe, use method that **does not produce nan values**. <br>\n",
    "Note that the pair of `movie_title` and `year` is unique for each movie. <br>"
   ]
  },
  {
   "cell_type": "code",
   "execution_count": 30,
   "metadata": {},
   "outputs": [],
   "source": [
    "data = pd.merge(character_df, gross_df, how='inner', on=['movie_title', 'year'])\n",
    "data = data.drop(['index_x', 'release_date_x', 'villian',\n",
    "                 'song', 'index_y', 'release_date_y', 'MPAA_rating', 'inflation_adjusted_gross', 'title_length'], axis=1)\n"
   ]
  },
  {
   "cell_type": "code",
   "execution_count": 33,
   "metadata": {},
   "outputs": [
    {
     "data": {
      "text/html": [
       "<div>\n",
       "<style scoped>\n",
       "    .dataframe tbody tr th:only-of-type {\n",
       "        vertical-align: middle;\n",
       "    }\n",
       "\n",
       "    .dataframe tbody tr th {\n",
       "        vertical-align: top;\n",
       "    }\n",
       "\n",
       "    .dataframe thead th {\n",
       "        text-align: right;\n",
       "    }\n",
       "</style>\n",
       "<table border=\"1\" class=\"dataframe\">\n",
       "  <thead>\n",
       "    <tr style=\"text-align: right;\">\n",
       "      <th></th>\n",
       "      <th>movie_title</th>\n",
       "      <th>hero</th>\n",
       "      <th>year</th>\n",
       "      <th>genre</th>\n",
       "      <th>total_gross</th>\n",
       "    </tr>\n",
       "  </thead>\n",
       "  <tbody>\n",
       "    <tr>\n",
       "      <th>0</th>\n",
       "      <td>Snow White and the Seven Dwarfs</td>\n",
       "      <td>Snow White</td>\n",
       "      <td>1937</td>\n",
       "      <td>Musical</td>\n",
       "      <td>184925485</td>\n",
       "    </tr>\n",
       "    <tr>\n",
       "      <th>1</th>\n",
       "      <td>Pinocchio</td>\n",
       "      <td>Pinocchio</td>\n",
       "      <td>1940</td>\n",
       "      <td>Adventure</td>\n",
       "      <td>84300000</td>\n",
       "    </tr>\n",
       "    <tr>\n",
       "      <th>2</th>\n",
       "      <td>Fantasia</td>\n",
       "      <td>NaN</td>\n",
       "      <td>1940</td>\n",
       "      <td>Musical</td>\n",
       "      <td>83320000</td>\n",
       "    </tr>\n",
       "    <tr>\n",
       "      <th>3</th>\n",
       "      <td>Cinderella</td>\n",
       "      <td>Cinderella</td>\n",
       "      <td>1950</td>\n",
       "      <td>Drama</td>\n",
       "      <td>85000000</td>\n",
       "    </tr>\n",
       "    <tr>\n",
       "      <th>4</th>\n",
       "      <td>Lady and the Tramp</td>\n",
       "      <td>Lady and Tramp</td>\n",
       "      <td>1955</td>\n",
       "      <td>Drama</td>\n",
       "      <td>93600000</td>\n",
       "    </tr>\n",
       "  </tbody>\n",
       "</table>\n",
       "</div>"
      ],
      "text/plain": [
       "                       movie_title            hero  year      genre  \\\n",
       "0  Snow White and the Seven Dwarfs      Snow White  1937    Musical   \n",
       "1                        Pinocchio       Pinocchio  1940  Adventure   \n",
       "2                         Fantasia             NaN  1940    Musical   \n",
       "3                       Cinderella      Cinderella  1950      Drama   \n",
       "4               Lady and the Tramp  Lady and Tramp  1955      Drama   \n",
       "\n",
       "   total_gross  \n",
       "0    184925485  \n",
       "1     84300000  \n",
       "2     83320000  \n",
       "3     85000000  \n",
       "4     93600000  "
      ]
     },
     "execution_count": 33,
     "metadata": {},
     "output_type": "execute_result"
    }
   ],
   "source": [
    "data.head()"
   ]
  },
  {
   "cell_type": "markdown",
   "metadata": {},
   "source": [
    "In `data` dataframe, print which genre has the highest average total gross. <br>\n",
    "Note that the output must be a string."
   ]
  },
  {
   "cell_type": "code",
   "execution_count": 34,
   "metadata": {},
   "outputs": [],
   "source": [
    "temp_data = data.groupby(['genre']).mean()\n",
    "temp_data = temp_data.sort_values(\n",
    "    by='total_gross', ascending=False).reset_index()\n"
   ]
  },
  {
   "cell_type": "code",
   "execution_count": 35,
   "metadata": {},
   "outputs": [
    {
     "name": "stdout",
     "output_type": "stream",
     "text": [
      "Adventure\n"
     ]
    }
   ],
   "source": [
    "print(temp_data.iloc[0]['genre'])"
   ]
  },
  {
   "cell_type": "markdown",
   "metadata": {},
   "source": [
    "Use seaborn to draw a barplot that shows total_gross of each genre in `gross_df`."
   ]
  },
  {
   "cell_type": "code",
   "execution_count": 36,
   "metadata": {},
   "outputs": [
    {
     "data": {
      "text/plain": [
       "<AxesSubplot:xlabel='genre', ylabel='total_gross'>"
      ]
     },
     "execution_count": 36,
     "metadata": {},
     "output_type": "execute_result"
    },
    {
     "data": {
      "image/png": "[encoded data removed]",
      "text/plain": [
       "<Figure size 432x288 with 1 Axes>"
      ]
     },
     "metadata": {
      "needs_background": "light"
     },
     "output_type": "display_data"
    }
   ],
   "source": [
    "sns.barplot(data=data, x='genre', y='total_gross')"
   ]
  },
  {
   "cell_type": "markdown",
   "metadata": {},
   "source": [
    "## Q4\n",
    "For question 4, We will use the following dataset in `data` folder.\n",
    "- `disney_revenue_1991-2016.csv`\n",
    "\n",
    "Read the csv file and load it into a dataframe named `revenue_df`."
   ]
  },
  {
   "cell_type": "code",
   "execution_count": 37,
   "metadata": {},
   "outputs": [],
   "source": [
    "revenue_df = pd.read_csv(\n",
    "    './data/disney_revenue_1991-2016.csv', encoding='latin1')\n"
   ]
  },
  {
   "cell_type": "code",
   "execution_count": 38,
   "metadata": {},
   "outputs": [
    {
     "data": {
      "text/html": [
       "<div>\n",
       "<style scoped>\n",
       "    .dataframe tbody tr th:only-of-type {\n",
       "        vertical-align: middle;\n",
       "    }\n",
       "\n",
       "    .dataframe tbody tr th {\n",
       "        vertical-align: top;\n",
       "    }\n",
       "\n",
       "    .dataframe thead th {\n",
       "        text-align: right;\n",
       "    }\n",
       "</style>\n",
       "<table border=\"1\" class=\"dataframe\">\n",
       "  <thead>\n",
       "    <tr style=\"text-align: right;\">\n",
       "      <th></th>\n",
       "      <th>Year</th>\n",
       "      <th>Studio Entertainment[NI 1]</th>\n",
       "      <th>Disney Consumer Products[NI 2]</th>\n",
       "      <th>Disney Interactive[NI 3][Rev 1]</th>\n",
       "      <th>Walt Disney Parks and Resorts</th>\n",
       "      <th>Total</th>\n",
       "    </tr>\n",
       "  </thead>\n",
       "  <tbody>\n",
       "    <tr>\n",
       "      <th>0</th>\n",
       "      <td>1991</td>\n",
       "      <td>2593.0</td>\n",
       "      <td>724.0</td>\n",
       "      <td>NaN</td>\n",
       "      <td>2794.0</td>\n",
       "      <td>6111</td>\n",
       "    </tr>\n",
       "    <tr>\n",
       "      <th>1</th>\n",
       "      <td>1992</td>\n",
       "      <td>3115.0</td>\n",
       "      <td>1081.0</td>\n",
       "      <td>NaN</td>\n",
       "      <td>3306.0</td>\n",
       "      <td>7502</td>\n",
       "    </tr>\n",
       "    <tr>\n",
       "      <th>2</th>\n",
       "      <td>1993</td>\n",
       "      <td>3673.4</td>\n",
       "      <td>1415.1</td>\n",
       "      <td>NaN</td>\n",
       "      <td>3440.7</td>\n",
       "      <td>8529</td>\n",
       "    </tr>\n",
       "    <tr>\n",
       "      <th>3</th>\n",
       "      <td>1994</td>\n",
       "      <td>4793.0</td>\n",
       "      <td>1798.2</td>\n",
       "      <td>NaN</td>\n",
       "      <td>3463.6</td>\n",
       "      <td>10414</td>\n",
       "    </tr>\n",
       "    <tr>\n",
       "      <th>4</th>\n",
       "      <td>1995</td>\n",
       "      <td>6001.5</td>\n",
       "      <td>2150.0</td>\n",
       "      <td>NaN</td>\n",
       "      <td>3959.8</td>\n",
       "      <td>12525</td>\n",
       "    </tr>\n",
       "  </tbody>\n",
       "</table>\n",
       "</div>"
      ],
      "text/plain": [
       "   Year  Studio Entertainment[NI 1]  Disney Consumer Products[NI 2]  \\\n",
       "0  1991                      2593.0                           724.0   \n",
       "1  1992                      3115.0                          1081.0   \n",
       "2  1993                      3673.4                          1415.1   \n",
       "3  1994                      4793.0                          1798.2   \n",
       "4  1995                      6001.5                          2150.0   \n",
       "\n",
       "   Disney Interactive[NI 3][Rev 1]  Walt Disney Parks and Resorts  Total  \n",
       "0                              NaN                         2794.0   6111  \n",
       "1                              NaN                         3306.0   7502  \n",
       "2                              NaN                         3440.7   8529  \n",
       "3                              NaN                         3463.6  10414  \n",
       "4                              NaN                         3959.8  12525  "
      ]
     },
     "execution_count": 38,
     "metadata": {},
     "output_type": "execute_result"
    }
   ],
   "source": [
    "revenue_df.head()"
   ]
  },
  {
   "cell_type": "markdown",
   "metadata": {},
   "source": [
    "Use matplotlib to draw a line graph that shows total revenue for each year from `revenue_df`. <br>\n",
    "Set x-axis to 'Year' and y-axis to 'Total_Revenue'. <br>\n",
    "Note that the `Total` in revenue_df represents the total revenue for each year."
   ]
  },
  {
   "cell_type": "code",
   "execution_count": 39,
   "metadata": {},
   "outputs": [
    {
     "data": {
      "text/plain": [
       "Text(0, 0.5, 'Total_Revenue')"
      ]
     },
     "execution_count": 39,
     "metadata": {},
     "output_type": "execute_result"
    },
    {
     "data": {
      "image/png": "[encoded data removed]",
      "text/plain": [
       "<Figure size 432x288 with 1 Axes>"
      ]
     },
     "metadata": {
      "needs_background": "light"
     },
     "output_type": "display_data"
    }
   ],
   "source": [
    "plt.plot(revenue_df['Year'], revenue_df['Total'])\n",
    "plt.xlabel(\"Year\")\n",
    "plt.ylabel(\"Total_Revenue\")"
   ]
  },
  {
   "cell_type": "markdown",
   "metadata": {},
   "source": [
    "Drop the column named `Total` in `revenue_df` and fill all nan values with zeros.<br>"
   ]
  },
  {
   "cell_type": "code",
   "execution_count": 40,
   "metadata": {},
   "outputs": [],
   "source": [
    "revenue_df = revenue_df.drop(['Total'], axis=1)"
   ]
  },
  {
   "cell_type": "code",
   "execution_count": 41,
   "metadata": {},
   "outputs": [],
   "source": [
    "revenue_df = revenue_df.fillna(0)"
   ]
  },
  {
   "cell_type": "code",
   "execution_count": 42,
   "metadata": {},
   "outputs": [
    {
     "data": {
      "text/html": [
       "<div>\n",
       "<style scoped>\n",
       "    .dataframe tbody tr th:only-of-type {\n",
       "        vertical-align: middle;\n",
       "    }\n",
       "\n",
       "    .dataframe tbody tr th {\n",
       "        vertical-align: top;\n",
       "    }\n",
       "\n",
       "    .dataframe thead th {\n",
       "        text-align: right;\n",
       "    }\n",
       "</style>\n",
       "<table border=\"1\" class=\"dataframe\">\n",
       "  <thead>\n",
       "    <tr style=\"text-align: right;\">\n",
       "      <th></th>\n",
       "      <th>Year</th>\n",
       "      <th>Studio Entertainment[NI 1]</th>\n",
       "      <th>Disney Consumer Products[NI 2]</th>\n",
       "      <th>Disney Interactive[NI 3][Rev 1]</th>\n",
       "      <th>Walt Disney Parks and Resorts</th>\n",
       "    </tr>\n",
       "  </thead>\n",
       "  <tbody>\n",
       "    <tr>\n",
       "      <th>0</th>\n",
       "      <td>1991</td>\n",
       "      <td>2593.0</td>\n",
       "      <td>724.0</td>\n",
       "      <td>0.0</td>\n",
       "      <td>2794.0</td>\n",
       "    </tr>\n",
       "    <tr>\n",
       "      <th>1</th>\n",
       "      <td>1992</td>\n",
       "      <td>3115.0</td>\n",
       "      <td>1081.0</td>\n",
       "      <td>0.0</td>\n",
       "      <td>3306.0</td>\n",
       "    </tr>\n",
       "    <tr>\n",
       "      <th>2</th>\n",
       "      <td>1993</td>\n",
       "      <td>3673.4</td>\n",
       "      <td>1415.1</td>\n",
       "      <td>0.0</td>\n",
       "      <td>3440.7</td>\n",
       "    </tr>\n",
       "    <tr>\n",
       "      <th>3</th>\n",
       "      <td>1994</td>\n",
       "      <td>4793.0</td>\n",
       "      <td>1798.2</td>\n",
       "      <td>0.0</td>\n",
       "      <td>3463.6</td>\n",
       "    </tr>\n",
       "    <tr>\n",
       "      <th>4</th>\n",
       "      <td>1995</td>\n",
       "      <td>6001.5</td>\n",
       "      <td>2150.0</td>\n",
       "      <td>0.0</td>\n",
       "      <td>3959.8</td>\n",
       "    </tr>\n",
       "  </tbody>\n",
       "</table>\n",
       "</div>"
      ],
      "text/plain": [
       "   Year  Studio Entertainment[NI 1]  Disney Consumer Products[NI 2]  \\\n",
       "0  1991                      2593.0                           724.0   \n",
       "1  1992                      3115.0                          1081.0   \n",
       "2  1993                      3673.4                          1415.1   \n",
       "3  1994                      4793.0                          1798.2   \n",
       "4  1995                      6001.5                          2150.0   \n",
       "\n",
       "   Disney Interactive[NI 3][Rev 1]  Walt Disney Parks and Resorts  \n",
       "0                              0.0                         2794.0  \n",
       "1                              0.0                         3306.0  \n",
       "2                              0.0                         3440.7  \n",
       "3                              0.0                         3463.6  \n",
       "4                              0.0                         3959.8  "
      ]
     },
     "execution_count": 42,
     "metadata": {},
     "output_type": "execute_result"
    }
   ],
   "source": [
    "revenue_df.head()"
   ]
  },
  {
   "cell_type": "markdown",
   "metadata": {},
   "source": [
    "Perform dimensionality reduction using t-SNE. The size of the reduced dimension is 2.<br>\n",
    "Print a dataframe with column names 'component_0' and 'component_1', with each row representing the output of tsne."
   ]
  },
  {
   "cell_type": "code",
   "execution_count": 44,
   "metadata": {},
   "outputs": [],
   "source": [
    "model = TSNE(n_components=2, learning_rate='auto', init='random')\n",
    "tsne_df = pd.DataFrame(model.fit_transform(revenue_df))\n",
    "tsne_df.columns = [\"component_0\", \"component_1\"]"
   ]
  },
  {
   "cell_type": "code",
   "execution_count": 45,
   "metadata": {},
   "outputs": [
    {
     "data": {
      "text/html": [
       "<div>\n",
       "<style scoped>\n",
       "    .dataframe tbody tr th:only-of-type {\n",
       "        vertical-align: middle;\n",
       "    }\n",
       "\n",
       "    .dataframe tbody tr th {\n",
       "        vertical-align: top;\n",
       "    }\n",
       "\n",
       "    .dataframe thead th {\n",
       "        text-align: right;\n",
       "    }\n",
       "</style>\n",
       "<table border=\"1\" class=\"dataframe\">\n",
       "  <thead>\n",
       "    <tr style=\"text-align: right;\">\n",
       "      <th></th>\n",
       "      <th>component_0</th>\n",
       "      <th>component_1</th>\n",
       "    </tr>\n",
       "  </thead>\n",
       "  <tbody>\n",
       "    <tr>\n",
       "      <th>0</th>\n",
       "      <td>11.110473</td>\n",
       "      <td>3.749811</td>\n",
       "    </tr>\n",
       "    <tr>\n",
       "      <th>1</th>\n",
       "      <td>-28.540583</td>\n",
       "      <td>21.641142</td>\n",
       "    </tr>\n",
       "    <tr>\n",
       "      <th>2</th>\n",
       "      <td>10.136925</td>\n",
       "      <td>-14.783982</td>\n",
       "    </tr>\n",
       "    <tr>\n",
       "      <th>3</th>\n",
       "      <td>24.953037</td>\n",
       "      <td>-6.377335</td>\n",
       "    </tr>\n",
       "    <tr>\n",
       "      <th>4</th>\n",
       "      <td>44.178711</td>\n",
       "      <td>-35.492416</td>\n",
       "    </tr>\n",
       "    <tr>\n",
       "      <th>5</th>\n",
       "      <td>40.855122</td>\n",
       "      <td>-16.517229</td>\n",
       "    </tr>\n",
       "    <tr>\n",
       "      <th>6</th>\n",
       "      <td>24.943600</td>\n",
       "      <td>-25.361738</td>\n",
       "    </tr>\n",
       "    <tr>\n",
       "      <th>7</th>\n",
       "      <td>-19.919724</td>\n",
       "      <td>-12.692528</td>\n",
       "    </tr>\n",
       "    <tr>\n",
       "      <th>8</th>\n",
       "      <td>-31.636921</td>\n",
       "      <td>-27.298250</td>\n",
       "    </tr>\n",
       "    <tr>\n",
       "      <th>9</th>\n",
       "      <td>24.860432</td>\n",
       "      <td>-45.696964</td>\n",
       "    </tr>\n",
       "    <tr>\n",
       "      <th>10</th>\n",
       "      <td>3.124966</td>\n",
       "      <td>-51.058289</td>\n",
       "    </tr>\n",
       "    <tr>\n",
       "      <th>11</th>\n",
       "      <td>26.067671</td>\n",
       "      <td>13.228428</td>\n",
       "    </tr>\n",
       "    <tr>\n",
       "      <th>12</th>\n",
       "      <td>-14.723390</td>\n",
       "      <td>-39.975212</td>\n",
       "    </tr>\n",
       "    <tr>\n",
       "      <th>13</th>\n",
       "      <td>-18.812025</td>\n",
       "      <td>5.561754</td>\n",
       "    </tr>\n",
       "    <tr>\n",
       "      <th>14</th>\n",
       "      <td>-3.579833</td>\n",
       "      <td>-4.769096</td>\n",
       "    </tr>\n",
       "    <tr>\n",
       "      <th>15</th>\n",
       "      <td>40.450115</td>\n",
       "      <td>2.919904</td>\n",
       "    </tr>\n",
       "    <tr>\n",
       "      <th>16</th>\n",
       "      <td>-37.281628</td>\n",
       "      <td>-2.102088</td>\n",
       "    </tr>\n",
       "    <tr>\n",
       "      <th>17</th>\n",
       "      <td>-6.030469</td>\n",
       "      <td>-23.246632</td>\n",
       "    </tr>\n",
       "    <tr>\n",
       "      <th>18</th>\n",
       "      <td>28.732304</td>\n",
       "      <td>33.173870</td>\n",
       "    </tr>\n",
       "    <tr>\n",
       "      <th>19</th>\n",
       "      <td>-3.894959</td>\n",
       "      <td>13.874722</td>\n",
       "    </tr>\n",
       "    <tr>\n",
       "      <th>20</th>\n",
       "      <td>8.556207</td>\n",
       "      <td>-32.929539</td>\n",
       "    </tr>\n",
       "    <tr>\n",
       "      <th>21</th>\n",
       "      <td>-10.455513</td>\n",
       "      <td>31.788702</td>\n",
       "    </tr>\n",
       "    <tr>\n",
       "      <th>22</th>\n",
       "      <td>46.596882</td>\n",
       "      <td>21.270166</td>\n",
       "    </tr>\n",
       "    <tr>\n",
       "      <th>23</th>\n",
       "      <td>8.129283</td>\n",
       "      <td>41.393211</td>\n",
       "    </tr>\n",
       "    <tr>\n",
       "      <th>24</th>\n",
       "      <td>10.919540</td>\n",
       "      <td>22.549585</td>\n",
       "    </tr>\n",
       "    <tr>\n",
       "      <th>25</th>\n",
       "      <td>57.802013</td>\n",
       "      <td>-6.118771</td>\n",
       "    </tr>\n",
       "  </tbody>\n",
       "</table>\n",
       "</div>"
      ],
      "text/plain": [
       "    component_0  component_1\n",
       "0     11.110473     3.749811\n",
       "1    -28.540583    21.641142\n",
       "2     10.136925   -14.783982\n",
       "3     24.953037    -6.377335\n",
       "4     44.178711   -35.492416\n",
       "5     40.855122   -16.517229\n",
       "6     24.943600   -25.361738\n",
       "7    -19.919724   -12.692528\n",
       "8    -31.636921   -27.298250\n",
       "9     24.860432   -45.696964\n",
       "10     3.124966   -51.058289\n",
       "11    26.067671    13.228428\n",
       "12   -14.723390   -39.975212\n",
       "13   -18.812025     5.561754\n",
       "14    -3.579833    -4.769096\n",
       "15    40.450115     2.919904\n",
       "16   -37.281628    -2.102088\n",
       "17    -6.030469   -23.246632\n",
       "18    28.732304    33.173870\n",
       "19    -3.894959    13.874722\n",
       "20     8.556207   -32.929539\n",
       "21   -10.455513    31.788702\n",
       "22    46.596882    21.270166\n",
       "23     8.129283    41.393211\n",
       "24    10.919540    22.549585\n",
       "25    57.802013    -6.118771"
      ]
     },
     "execution_count": 45,
     "metadata": {},
     "output_type": "execute_result"
    }
   ],
   "source": [
    "tsne_df"
   ]
  },
  {
   "cell_type": "markdown",
   "metadata": {},
   "source": [
    "## Q5\n",
    "1. Create and connect a database named `temp.db`.<br>\n",
    "2. Create a table named `Wine` and insert following data and save the changes. <br>\n",
    "\n",
    "    | City      | Price | Type | Rating |\n",
    "    | :- | :- | :- | :- |\n",
    "    | Seattle  | 10   | 1  | 4.75   | \n",
    "    | Boston  | 17   | 2  | 4.02   | \n",
    "    | Pittsburgh  | 20   | 1  | 3.33   | \n",
    "    | San Diego | 9    | 1  | 3.87   | "
   ]
  },
  {
   "cell_type": "code",
   "execution_count": 47,
   "metadata": {},
   "outputs": [],
   "source": [
    "con = sqlite3.connect(\"temp.db\")\n",
    "cur = con.cursor()\n",
    "\n",
    "cur.execute(\n",
    "    'create table Wine(City text, Price integer, Type integer, Rating real)')\n",
    "cur.executemany(\n",
    "    'insert into Wine values (?, ?, ?, ?)',\n",
    "    [\n",
    "        ('Seattle', 10, 1, 4.75),\n",
    "        ('Boston', 17, 2, 4.02),\n",
    "        ('Pittsburgh', 20, 1, 3.33),\n",
    "        (\"San Diego\", 9, 1, 3.87)\n",
    "    ]\n",
    ")\n",
    "con.commit()\n",
    "\n",
    "con.close()"
   ]
  },
  {
   "cell_type": "markdown",
   "metadata": {},
   "source": [
    "Print the names of cities with Type 1 wines rated higher than 4.0.<br>\n",
    "You may print the result in the form of a list of tuples."
   ]
  },
  {
   "cell_type": "code",
   "execution_count": 48,
   "metadata": {},
   "outputs": [
    {
     "name": "stdout",
     "output_type": "stream",
     "text": [
      "[('Seattle',)]\n"
     ]
    }
   ],
   "source": [
    "con = sqlite3.connect(\"temp.db\")\n",
    "cur = con.cursor()\n",
    "\n",
    "cur.execute(\n",
    "    'select City from Wine where Type = 1 and Rating > 4.0')\n",
    "rows = cur.fetchall()\n",
    "\n",
    "print(rows)\n",
    "\n",
    "con.close()\n"
   ]
  },
  {
   "cell_type": "markdown",
   "metadata": {},
   "source": [
    "Print the average price and rating by Type."
   ]
  },
  {
   "cell_type": "code",
   "execution_count": 51,
   "metadata": {},
   "outputs": [
    {
     "name": "stdout",
     "output_type": "stream",
     "text": [
      "[(13.0, 3.983333333333333), (17.0, 4.02)]\n"
     ]
    }
   ],
   "source": [
    "con = sqlite3.connect(\"temp.db\")\n",
    "cur = con.cursor()\n",
    "\n",
    "cur.execute(\n",
    "    'select avg(Price), avg(Rating) from Wine group by Type')\n",
    "rows = cur.fetchall()\n",
    "\n",
    "print(rows)\n",
    "\n",
    "con.close()\n"
   ]
  }
 ],
 "metadata": {
  "kernelspec": {
   "display_name": "Python 3.9.12 ('base')",
   "language": "python",
   "name": "python3"
  },
  "language_info": {
   "codemirror_mode": {
    "name": "ipython",
    "version": 3
   },
   "file_extension": ".py",
   "mimetype": "text/x-python",
   "name": "python",
   "nbconvert_exporter": "python",
   "pygments_lexer": "ipython3",
   "version": "3.9.12"
  },
  "orig_nbformat": 4,
  "vscode": {
   "interpreter": {
    "hash": "9fa87f0efd0f3f6a31bcd534c5e9f592f83da151eb234c44c533e646ebb7e62f"
   }
  }
 },
 "nbformat": 4,
 "nbformat_minor": 2
}
