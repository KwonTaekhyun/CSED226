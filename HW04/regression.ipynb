{
 "cells": [
  {
   "cell_type": "code",
   "execution_count": 1,
   "metadata": {},
   "outputs": [],
   "source": [
    "import numpy as np  # linear algebra\n",
    "import pandas as pd  # data processing, CSV file I/O (e.g. pd.read_csv)"
   ]
  },
  {
   "cell_type": "code",
   "execution_count": 21,
   "metadata": {},
   "outputs": [],
   "source": [
    "train_df = pd.read_csv(\n",
    "    './22-2-dataanalysis-regression/train_regression.csv')\n",
    "test_df = pd.read_csv(\n",
    "    './22-2-dataanalysis-regression/test_regression.csv')"
   ]
  },
  {
   "cell_type": "markdown",
   "metadata": {},
   "source": [
    "## Data preprocessing"
   ]
  },
  {
   "cell_type": "code",
   "execution_count": 3,
   "metadata": {},
   "outputs": [
    {
     "name": "stdout",
     "output_type": "stream",
     "text": [
      "<class 'pandas.core.frame.DataFrame'>\n",
      "RangeIndex: 2000 entries, 0 to 1999\n",
      "Data columns (total 9 columns):\n",
      " #   Column      Non-Null Count  Dtype  \n",
      "---  ------      --------------  -----  \n",
      " 0   acid0       2000 non-null   float64\n",
      " 1   acid1       2000 non-null   float64\n",
      " 2   acid2       2000 non-null   float64\n",
      " 3   chlorides   2000 non-null   float64\n",
      " 4   sulphates0  2000 non-null   float64\n",
      " 5   sulphates1  2000 non-null   float64\n",
      " 6   sulphates2  2000 non-null   float64\n",
      " 7   density     2000 non-null   float64\n",
      " 8   score       2000 non-null   float64\n",
      "dtypes: float64(9)\n",
      "memory usage: 140.8 KB\n"
     ]
    }
   ],
   "source": [
    "train_df.info()"
   ]
  },
  {
   "cell_type": "code",
   "execution_count": 4,
   "metadata": {},
   "outputs": [
    {
     "name": "stdout",
     "output_type": "stream",
     "text": [
      "<class 'pandas.core.frame.DataFrame'>\n",
      "RangeIndex: 2000 entries, 0 to 1999\n",
      "Data columns (total 8 columns):\n",
      " #   Column      Non-Null Count  Dtype  \n",
      "---  ------      --------------  -----  \n",
      " 0   acid0       2000 non-null   float64\n",
      " 1   acid1       2000 non-null   float64\n",
      " 2   acid2       2000 non-null   float64\n",
      " 3   chlorides   2000 non-null   float64\n",
      " 4   sulphates0  2000 non-null   float64\n",
      " 5   sulphates1  2000 non-null   float64\n",
      " 6   sulphates2  2000 non-null   float64\n",
      " 7   density     2000 non-null   float64\n",
      "dtypes: float64(8)\n",
      "memory usage: 125.1 KB\n"
     ]
    }
   ],
   "source": [
    "test_df.info()"
   ]
  },
  {
   "cell_type": "code",
   "execution_count": 5,
   "metadata": {},
   "outputs": [
    {
     "data": {
      "text/plain": [
       "array(['acid0', 'acid1', 'acid2', 'chlorides', 'sulphates0', 'sulphates1',\n",
       "       'sulphates2', 'density', 'score'], dtype=object)"
      ]
     },
     "execution_count": 5,
     "metadata": {},
     "output_type": "execute_result"
    }
   ],
   "source": [
    "train_df.columns.values"
   ]
  },
  {
   "cell_type": "markdown",
   "metadata": {},
   "source": [
    "## KNN"
   ]
  },
  {
   "cell_type": "code",
   "execution_count": 12,
   "metadata": {},
   "outputs": [],
   "source": [
    "from sklearn.model_selection import RandomizedSearchCV\n",
    "from category_encoders import OrdinalEncoder\n",
    "from sklearn.pipeline import make_pipeline\n",
    "from sklearn.metrics import confusion_matrix\n",
    "from sklearn.metrics import mean_squared_error\n",
    "from sklearn.model_selection import train_test_split\n",
    "\n",
    "from sklearn.neighbors import KNeighborsRegressor"
   ]
  },
  {
   "cell_type": "code",
   "execution_count": 26,
   "metadata": {},
   "outputs": [],
   "source": [
    "feature_col = ['acid0', 'acid1', 'acid2', 'chlorides', 'sulphates0', 'sulphates1',\n",
    "               'sulphates2', 'density']\n",
    "label_col = ['score']\n",
    "\n",
    "X = train_df[feature_col]\n",
    "y = train_df[label_col]"
   ]
  },
  {
   "cell_type": "code",
   "execution_count": 27,
   "metadata": {},
   "outputs": [],
   "source": [
    "X_train, X_test, y_train, y_test = train_test_split(\n",
    "    X, y, test_size=0.1, random_state=42)"
   ]
  },
  {
   "cell_type": "code",
   "execution_count": 30,
   "metadata": {},
   "outputs": [],
   "source": [
    "knn = KNeighborsRegressor(\n",
    "    n_neighbors=6, weights='distance', p=1, algorithm='ball_tree')\n",
    "knn.fit(X_train, y_train)\n",
    "y_pred = knn.predict(X_test)"
   ]
  },
  {
   "cell_type": "code",
   "execution_count": 31,
   "metadata": {},
   "outputs": [
    {
     "data": {
      "text/plain": [
       "11.08054040797378"
      ]
     },
     "execution_count": 31,
     "metadata": {},
     "output_type": "execute_result"
    }
   ],
   "source": [
    "mean_squared_error(y_test, y_pred) ** 0.5"
   ]
  },
  {
   "cell_type": "markdown",
   "metadata": {},
   "source": [
    "Hyperparameter tuning"
   ]
  },
  {
   "cell_type": "code",
   "execution_count": 22,
   "metadata": {},
   "outputs": [],
   "source": [
    "feature_col = ['acid0', 'acid1', 'acid2', 'chlorides', 'sulphates0', 'sulphates1',\n",
    "               'sulphates2', 'density']\n",
    "label_col = ['score']\n",
    "\n",
    "X = train_df[feature_col]\n",
    "y = train_df[label_col]\n"
   ]
  },
  {
   "cell_type": "code",
   "execution_count": 23,
   "metadata": {},
   "outputs": [],
   "source": [
    "pipe = make_pipeline(\n",
    "    OrdinalEncoder(),\n",
    "    KNeighborsRegressor()\n",
    ")\n",
    "\n",
    "dists = {\n",
    "    'kneighborsregressor__n_neighbors': [2, 3, 4, 5, 6],\n",
    "    'kneighborsregressor__weights': ['uniform', 'distance'],\n",
    "    'kneighborsregressor__algorithm': ['ball_tree', 'kd_tree', 'brute'],\n",
    "    'kneighborsregressor__p': [1, 2, 3, 4],\n",
    "}\n",
    "\n",
    "clf1 = RandomizedSearchCV(\n",
    "    pipe,\n",
    "    param_distributions=dists,\n",
    "    n_iter=120,\n",
    "    cv=5,\n",
    "    scoring='neg_root_mean_squared_error',\n",
    "    verbose=1,\n",
    "    random_state=42\n",
    ")\n"
   ]
  },
  {
   "cell_type": "code",
   "execution_count": 24,
   "metadata": {},
   "outputs": [
    {
     "name": "stdout",
     "output_type": "stream",
     "text": [
      "Fitting 5 folds for each of 120 candidates, totalling 600 fits\n"
     ]
    },
    {
     "data": {
      "text/plain": [
       "RandomizedSearchCV(cv=5,\n",
       "                   estimator=Pipeline(steps=[('ordinalencoder',\n",
       "                                              OrdinalEncoder()),\n",
       "                                             ('kneighborsregressor',\n",
       "                                              KNeighborsRegressor())]),\n",
       "                   n_iter=120,\n",
       "                   param_distributions={'kneighborsregressor__algorithm': ['ball_tree',\n",
       "                                                                           'kd_tree',\n",
       "                                                                           'brute'],\n",
       "                                        'kneighborsregressor__n_neighbors': [2,\n",
       "                                                                             3,\n",
       "                                                                             4,\n",
       "                                                                             5,\n",
       "                                                                             6],\n",
       "                                        'kneighborsregressor__p': [1, 2, 3, 4],\n",
       "                                        'kneighborsregressor__weights': ['uniform',\n",
       "                                                                         'distance']},\n",
       "                   random_state=42, scoring='neg_root_mean_squared_error',\n",
       "                   verbose=1)"
      ]
     },
     "execution_count": 24,
     "metadata": {},
     "output_type": "execute_result"
    }
   ],
   "source": [
    "clf1.fit(X, y)"
   ]
  },
  {
   "cell_type": "code",
   "execution_count": 25,
   "metadata": {},
   "outputs": [
    {
     "name": "stdout",
     "output_type": "stream",
     "text": [
      "{'kneighborsregressor__weights': 'distance', 'kneighborsregressor__p': 1, 'kneighborsregressor__n_neighbors': 6, 'kneighborsregressor__algorithm': 'ball_tree'}\n",
      "-11.884440134269795\n"
     ]
    }
   ],
   "source": [
    "print(clf1.best_params_)\n",
    "print(clf1.best_score_)"
   ]
  },
  {
   "cell_type": "markdown",
   "metadata": {},
   "source": [
    "실제 검증"
   ]
  },
  {
   "cell_type": "code",
   "execution_count": 34,
   "metadata": {},
   "outputs": [],
   "source": [
    "feature_col = ['acid0', 'acid1', 'acid2', 'chlorides', 'sulphates0', 'sulphates1',\n",
    "               'sulphates2', 'density']\n",
    "label_col = ['score']\n",
    "\n",
    "X_train = train_df[feature_col]\n",
    "y_train = train_df[label_col]\n",
    "\n",
    "X_test = test_df\n",
    "\n",
    "knn = KNeighborsRegressor(\n",
    "    n_neighbors=6, weights='distance', p=1, algorithm='ball_tree')\n",
    "knn.fit(X_train, y_train)\n",
    "\n",
    "y_pred = knn.predict(X_test)\n",
    "\n",
    "y_pred_df = pd.DataFrame()\n",
    "y_pred_df['Id'] = np.arange(2000)\n",
    "y_pred_df['Predicted'] = y_pred\n",
    "\n",
    "y_pred_df.to_csv('KNN_reg.csv', index=False)"
   ]
  }
 ],
 "metadata": {
  "kernelspec": {
   "display_name": "Python 3.9.12 ('base')",
   "language": "python",
   "name": "python3"
  },
  "language_info": {
   "codemirror_mode": {
    "name": "ipython",
    "version": 3
   },
   "file_extension": ".py",
   "mimetype": "text/x-python",
   "name": "python",
   "nbconvert_exporter": "python",
   "pygments_lexer": "ipython3",
   "version": "3.9.12"
  },
  "orig_nbformat": 4,
  "vscode": {
   "interpreter": {
    "hash": "9fa87f0efd0f3f6a31bcd534c5e9f592f83da151eb234c44c533e646ebb7e62f"
   }
  }
 },
 "nbformat": 4,
 "nbformat_minor": 2
}
