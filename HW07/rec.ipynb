{
 "cells": [
  {
   "cell_type": "code",
   "execution_count": 1,
   "metadata": {},
   "outputs": [],
   "source": [
    "import pandas as pd\n",
    "import numpy as np\n",
    "\n",
    "from surprise import Dataset, Reader, accuracy\n",
    "from surprise.model_selection import cross_validate\n",
    "from surprise.model_selection import train_test_split\n",
    "\n",
    "from surprise import SVD\n",
    "from surprise import SVDpp\n",
    "from surprise import KNNBaseline\n"
   ]
  },
  {
   "cell_type": "code",
   "execution_count": null,
   "metadata": {},
   "outputs": [],
   "source": [
    "%conda install -c conda-forge scikit-surprise"
   ]
  },
  {
   "cell_type": "code",
   "execution_count": null,
   "metadata": {},
   "outputs": [],
   "source": [
    "%pip install scikit-surprise"
   ]
  },
  {
   "cell_type": "code",
   "execution_count": 13,
   "metadata": {},
   "outputs": [],
   "source": [
    "train_df = pd.read_csv('./dataanalysis-ratingprediction/train.csv')\n",
    "test_df = pd.read_csv('./dataanalysis-ratingprediction/test.csv')\n",
    "sample_df = pd.read_csv('./dataanalysis-ratingprediction/sample_submit.csv')"
   ]
  },
  {
   "cell_type": "code",
   "execution_count": 14,
   "metadata": {},
   "outputs": [],
   "source": [
    "test_df['rating'] = 0"
   ]
  },
  {
   "cell_type": "code",
   "execution_count": 15,
   "metadata": {},
   "outputs": [],
   "source": [
    "reader = Reader(rating_scale=(1, 5))\n",
    "data = Dataset.load_from_df(train_df[['user_id', 'item_id', 'rating']], reader=reader)"
   ]
  },
  {
   "cell_type": "code",
   "execution_count": 16,
   "metadata": {},
   "outputs": [],
   "source": [
    "train = data.build_full_trainset()\n",
    "#test = test.build_full_trainset()"
   ]
  },
  {
   "cell_type": "code",
   "execution_count": 17,
   "metadata": {},
   "outputs": [],
   "source": [
    "test = list(test_df.itertuples(index=False, name=None))"
   ]
  },
  {
   "attachments": {},
   "cell_type": "markdown",
   "metadata": {},
   "source": [
    "## SVD"
   ]
  },
  {
   "cell_type": "code",
   "execution_count": 75,
   "metadata": {},
   "outputs": [],
   "source": [
    "svd = SVD(random_state=12, n_factors=50, biased=False)\n",
    "\n",
    "svd.fit(train)\n",
    "prediction = svd.test(test)\n",
    "\n",
    "prediction_df = pd.DataFrame(prediction)\n",
    "\n",
    "submission_df = pd.DataFrame()\n",
    "\n",
    "submission_df['id'] = np.arange(302717)\n",
    "submission_df['rating'] = prediction_df['est']\n",
    "\n",
    "submission_df.to_csv('./submissions/SVD_nf50_bF.csv', index=False)"
   ]
  },
  {
   "attachments": {},
   "cell_type": "markdown",
   "metadata": {},
   "source": [
    "## SVD++"
   ]
  },
  {
   "attachments": {},
   "cell_type": "markdown",
   "metadata": {},
   "source": [
    "### 이 코드로 최종 제출하였습니다!"
   ]
  },
  {
   "cell_type": "code",
   "execution_count": 29,
   "metadata": {},
   "outputs": [],
   "source": [
    "svd = SVDpp(random_state=12, n_factors=15, cache_ratings=True, n_epochs=21, reg_all=0.03, lr_all=0.009, init_mean=0.1)\n",
    "\n",
    "svd.fit(train)\n",
    "prediction = svd.test(test)\n",
    "\n",
    "prediction_df = pd.DataFrame(prediction)\n",
    "\n",
    "submission_df = pd.DataFrame()\n",
    "\n",
    "submission_df['id'] = np.arange(302717)\n",
    "submission_df['rating'] = prediction_df['est']\n",
    "\n",
    "submission_df.to_csv('./submissions/SVDpp_nf15_crT_rs12_ne21_ra3_lr9_im01.csv', index=False)"
   ]
  },
  {
   "attachments": {},
   "cell_type": "markdown",
   "metadata": {},
   "source": [
    "## KNNBaseline"
   ]
  },
  {
   "cell_type": "code",
   "execution_count": 87,
   "metadata": {},
   "outputs": [
    {
     "name": "stdout",
     "output_type": "stream",
     "text": [
      "Estimating biases using als...\n",
      "Computing the pearson similarity matrix...\n",
      "Done computing similarity matrix.\n"
     ]
    }
   ],
   "source": [
    "sim_options = {\n",
    "    \"name\": \"pearson\",\n",
    "    \"user_based\": True,\n",
    "}\n",
    "\n",
    "knn = KNNBaseline(sim_options=sim_options)\n",
    "\n",
    "knn.fit(train)\n",
    "prediction = knn.test(test)\n",
    "\n",
    "prediction_df = pd.DataFrame(prediction)\n",
    "\n",
    "submission_df = pd.DataFrame()\n",
    "\n",
    "submission_df['id'] = np.arange(302717)\n",
    "submission_df['rating'] = prediction_df['est']\n",
    "\n",
    "submission_df.to_csv('./submissions/KNNB_smP_ubT.csv', index=False)\n"
   ]
  }
 ],
 "metadata": {
  "kernelspec": {
   "display_name": "base",
   "language": "python",
   "name": "python3"
  },
  "language_info": {
   "codemirror_mode": {
    "name": "ipython",
    "version": 3
   },
   "file_extension": ".py",
   "mimetype": "text/x-python",
   "name": "python",
   "nbconvert_exporter": "python",
   "pygments_lexer": "ipython3",
   "version": "3.9.12 (main, Apr  5 2022, 01:53:17) \n[Clang 12.0.0 ]"
  },
  "orig_nbformat": 4,
  "vscode": {
   "interpreter": {
    "hash": "9fa87f0efd0f3f6a31bcd534c5e9f592f83da151eb234c44c533e646ebb7e62f"
   }
  }
 },
 "nbformat": 4,
 "nbformat_minor": 2
}
