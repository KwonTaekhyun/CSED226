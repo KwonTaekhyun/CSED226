{
 "cells": [
  {
   "cell_type": "code",
   "execution_count": 1,
   "metadata": {},
   "outputs": [],
   "source": [
    "import numpy as np  # linear algebra\n",
    "import pandas as pd  # data processing, CSV file I/O (e.g. pd.read_csv)"
   ]
  },
  {
   "cell_type": "code",
   "execution_count": 2,
   "metadata": {},
   "outputs": [],
   "source": [
    "train_df = pd.read_csv(\n",
    "    './dataanalysis-regression2/train_regression.csv')\n",
    "test_df = pd.read_csv(\n",
    "    './dataanalysis-regression2/test_regression.csv')"
   ]
  },
  {
   "cell_type": "markdown",
   "metadata": {},
   "source": [
    "## Data preprocessing"
   ]
  },
  {
   "cell_type": "code",
   "execution_count": 3,
   "metadata": {},
   "outputs": [
    {
     "name": "stdout",
     "output_type": "stream",
     "text": [
      "<class 'pandas.core.frame.DataFrame'>\n",
      "RangeIndex: 2000 entries, 0 to 1999\n",
      "Data columns (total 9 columns):\n",
      " #   Column      Non-Null Count  Dtype  \n",
      "---  ------      --------------  -----  \n",
      " 0   acid0       2000 non-null   float64\n",
      " 1   acid1       2000 non-null   float64\n",
      " 2   acid2       2000 non-null   float64\n",
      " 3   chlorides   2000 non-null   float64\n",
      " 4   sulphates0  2000 non-null   float64\n",
      " 5   sulphates1  2000 non-null   float64\n",
      " 6   sulphates2  2000 non-null   float64\n",
      " 7   density     2000 non-null   float64\n",
      " 8   score       2000 non-null   float64\n",
      "dtypes: float64(9)\n",
      "memory usage: 140.8 KB\n"
     ]
    }
   ],
   "source": [
    "train_df.info()"
   ]
  },
  {
   "cell_type": "code",
   "execution_count": 4,
   "metadata": {},
   "outputs": [
    {
     "name": "stdout",
     "output_type": "stream",
     "text": [
      "<class 'pandas.core.frame.DataFrame'>\n",
      "RangeIndex: 2000 entries, 0 to 1999\n",
      "Data columns (total 8 columns):\n",
      " #   Column      Non-Null Count  Dtype  \n",
      "---  ------      --------------  -----  \n",
      " 0   acid0       2000 non-null   float64\n",
      " 1   acid1       2000 non-null   float64\n",
      " 2   acid2       2000 non-null   float64\n",
      " 3   chlorides   2000 non-null   float64\n",
      " 4   sulphates0  2000 non-null   float64\n",
      " 5   sulphates1  2000 non-null   float64\n",
      " 6   sulphates2  2000 non-null   float64\n",
      " 7   density     2000 non-null   float64\n",
      "dtypes: float64(8)\n",
      "memory usage: 125.1 KB\n"
     ]
    }
   ],
   "source": [
    "test_df.info()"
   ]
  },
  {
   "cell_type": "code",
   "execution_count": 5,
   "metadata": {},
   "outputs": [
    {
     "data": {
      "text/plain": [
       "array(['acid0', 'acid1', 'acid2', 'chlorides', 'sulphates0', 'sulphates1',\n",
       "       'sulphates2', 'density', 'score'], dtype=object)"
      ]
     },
     "execution_count": 5,
     "metadata": {},
     "output_type": "execute_result"
    }
   ],
   "source": [
    "train_df.columns.values"
   ]
  },
  {
   "cell_type": "markdown",
   "metadata": {},
   "source": [
    "## 1. Random forest"
   ]
  },
  {
   "cell_type": "code",
   "execution_count": 1,
   "metadata": {},
   "outputs": [],
   "source": [
    "import sklearn.preprocessing\n",
    "import numpy as np\n",
    "import pandas as pd\n",
    "from sklearn.ensemble import RandomForestRegressor\n",
    "from sklearn.model_selection import RandomizedSearchCV\n",
    "from category_encoders import OrdinalEncoder\n",
    "from sklearn.pipeline import make_pipeline"
   ]
  },
  {
   "cell_type": "code",
   "execution_count": 2,
   "metadata": {},
   "outputs": [],
   "source": [
    "train_df = pd.read_csv(\n",
    "    './dataanalysis-regression2/train_regression.csv')\n",
    "test_df = pd.read_csv(\n",
    "    './dataanalysis-regression2/test_regression.csv')\n"
   ]
  },
  {
   "cell_type": "code",
   "execution_count": 23,
   "metadata": {},
   "outputs": [
    {
     "name": "stderr",
     "output_type": "stream",
     "text": [
      "/var/folders/ln/5crzqg4144jgkv82ryrmmdz00000gn/T/ipykernel_44902/2772343738.py:12: DataConversionWarning: A column-vector y was passed when a 1d array was expected. Please change the shape of y to (n_samples,), for example using ravel().\n",
      "  random_forest.fit(X_train, y_train)\n"
     ]
    }
   ],
   "source": [
    "feature_col = ['acid0', 'acid1', 'acid2', 'chlorides', 'sulphates0', 'sulphates1',\n",
    "               'sulphates2', 'density']\n",
    "label_col = ['score']\n",
    "\n",
    "X_train = train_df[feature_col]\n",
    "y_train = train_df[label_col]\n",
    "\n",
    "X_test = test_df\n",
    "\n",
    "random_forest = RandomForestRegressor(\n",
    "    n_estimators=121, max_features='sqrt', random_state=13)\n",
    "random_forest.fit(X_train, y_train)\n",
    "\n",
    "y_pred = random_forest.predict(X_test)\n",
    "\n",
    "y_pred_df = pd.DataFrame()\n",
    "y_pred_df['Id'] = np.arange(2000)\n",
    "y_pred_df['Predicted'] = y_pred\n",
    "\n",
    "y_pred_df.to_csv('./REG-Prediction/REG_RF_E121_MFS_RS13.csv', index=False)"
   ]
  }
 ],
 "metadata": {
  "kernelspec": {
   "display_name": "Python 3.9.12 ('base')",
   "language": "python",
   "name": "python3"
  },
  "language_info": {
   "codemirror_mode": {
    "name": "ipython",
    "version": 3
   },
   "file_extension": ".py",
   "mimetype": "text/x-python",
   "name": "python",
   "nbconvert_exporter": "python",
   "pygments_lexer": "ipython3",
   "version": "3.9.12"
  },
  "orig_nbformat": 4,
  "vscode": {
   "interpreter": {
    "hash": "9fa87f0efd0f3f6a31bcd534c5e9f592f83da151eb234c44c533e646ebb7e62f"
   }
  }
 },
 "nbformat": 4,
 "nbformat_minor": 2
}
