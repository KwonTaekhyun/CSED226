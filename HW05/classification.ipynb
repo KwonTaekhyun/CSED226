{
 "cells": [
  {
   "cell_type": "code",
   "execution_count": 2,
   "metadata": {},
   "outputs": [],
   "source": [
    "import numpy as np  # linear algebra\n",
    "import pandas as pd  # data processing, CSV file I/O (e.g. pd.read_csv)"
   ]
  },
  {
   "cell_type": "code",
   "execution_count": 48,
   "metadata": {},
   "outputs": [],
   "source": [
    "train_df = pd.read_csv(\n",
    "    './dataanalysis-classification2/train_classification.csv')\n",
    "test_df = pd.read_csv(\n",
    "    './dataanalysis-classification2/test_classification.csv')\n"
   ]
  },
  {
   "cell_type": "markdown",
   "metadata": {},
   "source": [
    "## Data preprocessing"
   ]
  },
  {
   "cell_type": "code",
   "execution_count": 5,
   "metadata": {},
   "outputs": [
    {
     "name": "stdout",
     "output_type": "stream",
     "text": [
      "<class 'pandas.core.frame.DataFrame'>\n",
      "RangeIndex: 20000 entries, 0 to 19999\n",
      "Data columns (total 12 columns):\n",
      " #   Column                   Non-Null Count  Dtype \n",
      "---  ------                   --------------  ----- \n",
      " 0   Elevation                20000 non-null  int64 \n",
      " 1   Aspect                   20000 non-null  int64 \n",
      " 2   Slope                    20000 non-null  int64 \n",
      " 3   Hillshade_Morning        20000 non-null  int64 \n",
      " 4   Hillshade_Afternoon      20000 non-null  int64 \n",
      " 5   Hillshade_Evening        20000 non-null  int64 \n",
      " 6   Distance_To_River        20000 non-null  int64 \n",
      " 7   Distance_From_Road       20000 non-null  int64 \n",
      " 8   Distance_From_Pollutant  20000 non-null  int64 \n",
      " 9   Sector                   20000 non-null  object\n",
      " 10  Soil                     20000 non-null  object\n",
      " 11  Plant_species            20000 non-null  int64 \n",
      "dtypes: int64(10), object(2)\n",
      "memory usage: 1.8+ MB\n"
     ]
    }
   ],
   "source": [
    "train_df.info()"
   ]
  },
  {
   "cell_type": "code",
   "execution_count": 6,
   "metadata": {},
   "outputs": [
    {
     "name": "stdout",
     "output_type": "stream",
     "text": [
      "<class 'pandas.core.frame.DataFrame'>\n",
      "RangeIndex: 20000 entries, 0 to 19999\n",
      "Data columns (total 11 columns):\n",
      " #   Column                   Non-Null Count  Dtype \n",
      "---  ------                   --------------  ----- \n",
      " 0   Elevation                20000 non-null  int64 \n",
      " 1   Aspect                   20000 non-null  int64 \n",
      " 2   Slope                    20000 non-null  int64 \n",
      " 3   Hillshade_Morning        20000 non-null  int64 \n",
      " 4   Hillshade_Afternoon      20000 non-null  int64 \n",
      " 5   Hillshade_Evening        20000 non-null  int64 \n",
      " 6   Distance_To_River        20000 non-null  int64 \n",
      " 7   Distance_From_Road       20000 non-null  int64 \n",
      " 8   Distance_From_Pollutant  20000 non-null  int64 \n",
      " 9   Sector                   20000 non-null  object\n",
      " 10  Soil                     20000 non-null  object\n",
      "dtypes: int64(9), object(2)\n",
      "memory usage: 1.7+ MB\n"
     ]
    }
   ],
   "source": [
    "test_df.info()"
   ]
  },
  {
   "cell_type": "markdown",
   "metadata": {},
   "source": [
    "'Sector', 'Soil' categorical data -> 정수값으로 변환, 나머지 attribute는 numerical data"
   ]
  },
  {
   "cell_type": "code",
   "execution_count": 49,
   "metadata": {},
   "outputs": [],
   "source": [
    "train_df['Sector'] = train_df['Sector'].apply(lambda x: int(x.split('_')[1]))\n",
    "train_df['Soil'] = train_df['Soil'].apply(lambda x: int(x.split('_')[1]))"
   ]
  },
  {
   "cell_type": "code",
   "execution_count": 50,
   "metadata": {},
   "outputs": [],
   "source": [
    "test_df['Sector'] = test_df['Sector'].apply(lambda x: int(x.split('_')[1]))\n",
    "test_df['Soil'] = test_df['Soil'].apply(lambda x: int(x.split('_')[1]))\n"
   ]
  },
  {
   "cell_type": "code",
   "execution_count": 9,
   "metadata": {},
   "outputs": [
    {
     "data": {
      "text/plain": [
       "array(['Elevation', 'Aspect', 'Slope', 'Hillshade_Morning',\n",
       "       'Hillshade_Afternoon', 'Hillshade_Evening', 'Distance_To_River',\n",
       "       'Distance_From_Road', 'Distance_From_Pollutant', 'Sector', 'Soil',\n",
       "       'Plant_species'], dtype=object)"
      ]
     },
     "execution_count": 9,
     "metadata": {},
     "output_type": "execute_result"
    }
   ],
   "source": [
    "train_df.columns.values"
   ]
  },
  {
   "cell_type": "markdown",
   "metadata": {},
   "source": [
    "Normalization -> 폐기!"
   ]
  },
  {
   "cell_type": "code",
   "execution_count": 51,
   "metadata": {},
   "outputs": [],
   "source": [
    "from sklearn.preprocessing import MinMaxScaler"
   ]
  },
  {
   "cell_type": "code",
   "execution_count": 52,
   "metadata": {},
   "outputs": [
    {
     "data": {
      "text/html": [
       "<div>\n",
       "<style scoped>\n",
       "    .dataframe tbody tr th:only-of-type {\n",
       "        vertical-align: middle;\n",
       "    }\n",
       "\n",
       "    .dataframe tbody tr th {\n",
       "        vertical-align: top;\n",
       "    }\n",
       "\n",
       "    .dataframe thead th {\n",
       "        text-align: right;\n",
       "    }\n",
       "</style>\n",
       "<table border=\"1\" class=\"dataframe\">\n",
       "  <thead>\n",
       "    <tr style=\"text-align: right;\">\n",
       "      <th></th>\n",
       "      <th>Elevation</th>\n",
       "      <th>Aspect</th>\n",
       "      <th>Slope</th>\n",
       "      <th>Hillshade_Morning</th>\n",
       "      <th>Hillshade_Afternoon</th>\n",
       "      <th>Hillshade_Evening</th>\n",
       "      <th>Distance_To_River</th>\n",
       "      <th>Distance_From_Road</th>\n",
       "      <th>Distance_From_Pollutant</th>\n",
       "      <th>Sector</th>\n",
       "      <th>Soil</th>\n",
       "      <th>Plant_species</th>\n",
       "    </tr>\n",
       "  </thead>\n",
       "  <tbody>\n",
       "    <tr>\n",
       "      <th>0</th>\n",
       "      <td>3251</td>\n",
       "      <td>35</td>\n",
       "      <td>10</td>\n",
       "      <td>219</td>\n",
       "      <td>218</td>\n",
       "      <td>134</td>\n",
       "      <td>30</td>\n",
       "      <td>3263</td>\n",
       "      <td>2837</td>\n",
       "      <td>2</td>\n",
       "      <td>36</td>\n",
       "      <td>1</td>\n",
       "    </tr>\n",
       "    <tr>\n",
       "      <th>1</th>\n",
       "      <td>3511</td>\n",
       "      <td>12</td>\n",
       "      <td>11</td>\n",
       "      <td>209</td>\n",
       "      <td>217</td>\n",
       "      <td>145</td>\n",
       "      <td>531</td>\n",
       "      <td>1385</td>\n",
       "      <td>1871</td>\n",
       "      <td>1</td>\n",
       "      <td>37</td>\n",
       "      <td>1</td>\n",
       "    </tr>\n",
       "    <tr>\n",
       "      <th>2</th>\n",
       "      <td>2335</td>\n",
       "      <td>63</td>\n",
       "      <td>20</td>\n",
       "      <td>233</td>\n",
       "      <td>194</td>\n",
       "      <td>83</td>\n",
       "      <td>234</td>\n",
       "      <td>1120</td>\n",
       "      <td>726</td>\n",
       "      <td>3</td>\n",
       "      <td>8</td>\n",
       "      <td>0</td>\n",
       "    </tr>\n",
       "    <tr>\n",
       "      <th>3</th>\n",
       "      <td>3244</td>\n",
       "      <td>48</td>\n",
       "      <td>14</td>\n",
       "      <td>224</td>\n",
       "      <td>209</td>\n",
       "      <td>116</td>\n",
       "      <td>67</td>\n",
       "      <td>1645</td>\n",
       "      <td>907</td>\n",
       "      <td>2</td>\n",
       "      <td>36</td>\n",
       "      <td>1</td>\n",
       "    </tr>\n",
       "    <tr>\n",
       "      <th>4</th>\n",
       "      <td>2242</td>\n",
       "      <td>292</td>\n",
       "      <td>34</td>\n",
       "      <td>108</td>\n",
       "      <td>211</td>\n",
       "      <td>233</td>\n",
       "      <td>95</td>\n",
       "      <td>808</td>\n",
       "      <td>684</td>\n",
       "      <td>3</td>\n",
       "      <td>8</td>\n",
       "      <td>3</td>\n",
       "    </tr>\n",
       "  </tbody>\n",
       "</table>\n",
       "</div>"
      ],
      "text/plain": [
       "   Elevation  Aspect  Slope  Hillshade_Morning  Hillshade_Afternoon  \\\n",
       "0       3251      35     10                219                  218   \n",
       "1       3511      12     11                209                  217   \n",
       "2       2335      63     20                233                  194   \n",
       "3       3244      48     14                224                  209   \n",
       "4       2242     292     34                108                  211   \n",
       "\n",
       "   Hillshade_Evening  Distance_To_River  Distance_From_Road  \\\n",
       "0                134                 30                3263   \n",
       "1                145                531                1385   \n",
       "2                 83                234                1120   \n",
       "3                116                 67                1645   \n",
       "4                233                 95                 808   \n",
       "\n",
       "   Distance_From_Pollutant  Sector  Soil  Plant_species  \n",
       "0                     2837       2    36              1  \n",
       "1                     1871       1    37              1  \n",
       "2                      726       3     8              0  \n",
       "3                      907       2    36              1  \n",
       "4                      684       3     8              3  "
      ]
     },
     "execution_count": 52,
     "metadata": {},
     "output_type": "execute_result"
    }
   ],
   "source": [
    "train_df.head()"
   ]
  },
  {
   "cell_type": "code",
   "execution_count": 53,
   "metadata": {},
   "outputs": [
    {
     "data": {
      "text/html": [
       "<div>\n",
       "<style scoped>\n",
       "    .dataframe tbody tr th:only-of-type {\n",
       "        vertical-align: middle;\n",
       "    }\n",
       "\n",
       "    .dataframe tbody tr th {\n",
       "        vertical-align: top;\n",
       "    }\n",
       "\n",
       "    .dataframe thead th {\n",
       "        text-align: right;\n",
       "    }\n",
       "</style>\n",
       "<table border=\"1\" class=\"dataframe\">\n",
       "  <thead>\n",
       "    <tr style=\"text-align: right;\">\n",
       "      <th></th>\n",
       "      <th>Elevation</th>\n",
       "      <th>Aspect</th>\n",
       "      <th>Slope</th>\n",
       "      <th>Hillshade_Morning</th>\n",
       "      <th>Hillshade_Afternoon</th>\n",
       "      <th>Hillshade_Evening</th>\n",
       "      <th>Distance_To_River</th>\n",
       "      <th>Distance_From_Road</th>\n",
       "      <th>Distance_From_Pollutant</th>\n",
       "      <th>Sector</th>\n",
       "      <th>Soil</th>\n",
       "      <th>Plant_species</th>\n",
       "    </tr>\n",
       "  </thead>\n",
       "  <tbody>\n",
       "    <tr>\n",
       "      <th>count</th>\n",
       "      <td>20000.000000</td>\n",
       "      <td>20000.000000</td>\n",
       "      <td>20000.000000</td>\n",
       "      <td>20000.000000</td>\n",
       "      <td>20000.000000</td>\n",
       "      <td>20000.000000</td>\n",
       "      <td>20000.000000</td>\n",
       "      <td>20000.000000</td>\n",
       "      <td>20000.000000</td>\n",
       "      <td>20000.000000</td>\n",
       "      <td>20000.000000</td>\n",
       "      <td>20000.000000</td>\n",
       "    </tr>\n",
       "    <tr>\n",
       "      <th>mean</th>\n",
       "      <td>2846.330450</td>\n",
       "      <td>164.425000</td>\n",
       "      <td>16.115950</td>\n",
       "      <td>207.794350</td>\n",
       "      <td>219.405600</td>\n",
       "      <td>141.962950</td>\n",
       "      <td>257.105050</td>\n",
       "      <td>1964.510950</td>\n",
       "      <td>1644.164900</td>\n",
       "      <td>1.681000</td>\n",
       "      <td>18.607400</td>\n",
       "      <td>2.001450</td>\n",
       "    </tr>\n",
       "    <tr>\n",
       "      <th>std</th>\n",
       "      <td>420.609276</td>\n",
       "      <td>115.912727</td>\n",
       "      <td>8.292722</td>\n",
       "      <td>31.302269</td>\n",
       "      <td>22.879737</td>\n",
       "      <td>42.419946</td>\n",
       "      <td>216.832461</td>\n",
       "      <td>1439.049031</td>\n",
       "      <td>1169.660515</td>\n",
       "      <td>1.092291</td>\n",
       "      <td>12.148928</td>\n",
       "      <td>1.411293</td>\n",
       "    </tr>\n",
       "    <tr>\n",
       "      <th>min</th>\n",
       "      <td>1859.000000</td>\n",
       "      <td>0.000000</td>\n",
       "      <td>0.000000</td>\n",
       "      <td>66.000000</td>\n",
       "      <td>92.000000</td>\n",
       "      <td>0.000000</td>\n",
       "      <td>0.000000</td>\n",
       "      <td>0.000000</td>\n",
       "      <td>0.000000</td>\n",
       "      <td>0.000000</td>\n",
       "      <td>0.000000</td>\n",
       "      <td>0.000000</td>\n",
       "    </tr>\n",
       "    <tr>\n",
       "      <th>25%</th>\n",
       "      <td>2473.000000</td>\n",
       "      <td>61.000000</td>\n",
       "      <td>10.000000</td>\n",
       "      <td>190.000000</td>\n",
       "      <td>208.000000</td>\n",
       "      <td>116.000000</td>\n",
       "      <td>90.000000</td>\n",
       "      <td>849.000000</td>\n",
       "      <td>787.000000</td>\n",
       "      <td>0.000000</td>\n",
       "      <td>8.000000</td>\n",
       "      <td>1.000000</td>\n",
       "    </tr>\n",
       "    <tr>\n",
       "      <th>50%</th>\n",
       "      <td>2901.000000</td>\n",
       "      <td>137.000000</td>\n",
       "      <td>15.000000</td>\n",
       "      <td>215.000000</td>\n",
       "      <td>223.000000</td>\n",
       "      <td>143.000000</td>\n",
       "      <td>210.000000</td>\n",
       "      <td>1539.000000</td>\n",
       "      <td>1344.000000</td>\n",
       "      <td>2.000000</td>\n",
       "      <td>20.000000</td>\n",
       "      <td>2.000000</td>\n",
       "    </tr>\n",
       "    <tr>\n",
       "      <th>75%</th>\n",
       "      <td>3228.000000</td>\n",
       "      <td>287.000000</td>\n",
       "      <td>21.000000</td>\n",
       "      <td>231.000000</td>\n",
       "      <td>236.000000</td>\n",
       "      <td>171.000000</td>\n",
       "      <td>361.000000</td>\n",
       "      <td>2814.500000</td>\n",
       "      <td>2215.000000</td>\n",
       "      <td>2.000000</td>\n",
       "      <td>29.000000</td>\n",
       "      <td>3.000000</td>\n",
       "    </tr>\n",
       "    <tr>\n",
       "      <th>max</th>\n",
       "      <td>3851.000000</td>\n",
       "      <td>360.000000</td>\n",
       "      <td>60.000000</td>\n",
       "      <td>254.000000</td>\n",
       "      <td>254.000000</td>\n",
       "      <td>250.000000</td>\n",
       "      <td>1361.000000</td>\n",
       "      <td>6963.000000</td>\n",
       "      <td>7050.000000</td>\n",
       "      <td>3.000000</td>\n",
       "      <td>37.000000</td>\n",
       "      <td>4.000000</td>\n",
       "    </tr>\n",
       "  </tbody>\n",
       "</table>\n",
       "</div>"
      ],
      "text/plain": [
       "          Elevation        Aspect         Slope  Hillshade_Morning  \\\n",
       "count  20000.000000  20000.000000  20000.000000       20000.000000   \n",
       "mean    2846.330450    164.425000     16.115950         207.794350   \n",
       "std      420.609276    115.912727      8.292722          31.302269   \n",
       "min     1859.000000      0.000000      0.000000          66.000000   \n",
       "25%     2473.000000     61.000000     10.000000         190.000000   \n",
       "50%     2901.000000    137.000000     15.000000         215.000000   \n",
       "75%     3228.000000    287.000000     21.000000         231.000000   \n",
       "max     3851.000000    360.000000     60.000000         254.000000   \n",
       "\n",
       "       Hillshade_Afternoon  Hillshade_Evening  Distance_To_River  \\\n",
       "count         20000.000000       20000.000000       20000.000000   \n",
       "mean            219.405600         141.962950         257.105050   \n",
       "std              22.879737          42.419946         216.832461   \n",
       "min              92.000000           0.000000           0.000000   \n",
       "25%             208.000000         116.000000          90.000000   \n",
       "50%             223.000000         143.000000         210.000000   \n",
       "75%             236.000000         171.000000         361.000000   \n",
       "max             254.000000         250.000000        1361.000000   \n",
       "\n",
       "       Distance_From_Road  Distance_From_Pollutant        Sector  \\\n",
       "count        20000.000000             20000.000000  20000.000000   \n",
       "mean          1964.510950              1644.164900      1.681000   \n",
       "std           1439.049031              1169.660515      1.092291   \n",
       "min              0.000000                 0.000000      0.000000   \n",
       "25%            849.000000               787.000000      0.000000   \n",
       "50%           1539.000000              1344.000000      2.000000   \n",
       "75%           2814.500000              2215.000000      2.000000   \n",
       "max           6963.000000              7050.000000      3.000000   \n",
       "\n",
       "               Soil  Plant_species  \n",
       "count  20000.000000   20000.000000  \n",
       "mean      18.607400       2.001450  \n",
       "std       12.148928       1.411293  \n",
       "min        0.000000       0.000000  \n",
       "25%        8.000000       1.000000  \n",
       "50%       20.000000       2.000000  \n",
       "75%       29.000000       3.000000  \n",
       "max       37.000000       4.000000  "
      ]
     },
     "execution_count": 53,
     "metadata": {},
     "output_type": "execute_result"
    }
   ],
   "source": [
    "train_df.describe()"
   ]
  },
  {
   "cell_type": "code",
   "execution_count": 54,
   "metadata": {},
   "outputs": [],
   "source": [
    "scaler = MinMaxScaler()\n",
    "\n",
    "for i in np.arange(11):\n",
    "    train_df.iloc[:, i] = pd.DataFrame(\n",
    "        scaler.fit_transform(pd.DataFrame(train_df.iloc[:, 0])))"
   ]
  },
  {
   "cell_type": "code",
   "execution_count": 55,
   "metadata": {},
   "outputs": [
    {
     "data": {
      "text/html": [
       "<div>\n",
       "<style scoped>\n",
       "    .dataframe tbody tr th:only-of-type {\n",
       "        vertical-align: middle;\n",
       "    }\n",
       "\n",
       "    .dataframe tbody tr th {\n",
       "        vertical-align: top;\n",
       "    }\n",
       "\n",
       "    .dataframe thead th {\n",
       "        text-align: right;\n",
       "    }\n",
       "</style>\n",
       "<table border=\"1\" class=\"dataframe\">\n",
       "  <thead>\n",
       "    <tr style=\"text-align: right;\">\n",
       "      <th></th>\n",
       "      <th>Elevation</th>\n",
       "      <th>Aspect</th>\n",
       "      <th>Slope</th>\n",
       "      <th>Hillshade_Morning</th>\n",
       "      <th>Hillshade_Afternoon</th>\n",
       "      <th>Hillshade_Evening</th>\n",
       "      <th>Distance_To_River</th>\n",
       "      <th>Distance_From_Road</th>\n",
       "      <th>Distance_From_Pollutant</th>\n",
       "      <th>Sector</th>\n",
       "      <th>Soil</th>\n",
       "      <th>Plant_species</th>\n",
       "    </tr>\n",
       "  </thead>\n",
       "  <tbody>\n",
       "    <tr>\n",
       "      <th>0</th>\n",
       "      <td>0.698795</td>\n",
       "      <td>0.698795</td>\n",
       "      <td>0.698795</td>\n",
       "      <td>0.698795</td>\n",
       "      <td>0.698795</td>\n",
       "      <td>0.698795</td>\n",
       "      <td>0.698795</td>\n",
       "      <td>0.698795</td>\n",
       "      <td>0.698795</td>\n",
       "      <td>0.698795</td>\n",
       "      <td>0.698795</td>\n",
       "      <td>1</td>\n",
       "    </tr>\n",
       "    <tr>\n",
       "      <th>1</th>\n",
       "      <td>0.829317</td>\n",
       "      <td>0.829317</td>\n",
       "      <td>0.829317</td>\n",
       "      <td>0.829317</td>\n",
       "      <td>0.829317</td>\n",
       "      <td>0.829317</td>\n",
       "      <td>0.829317</td>\n",
       "      <td>0.829317</td>\n",
       "      <td>0.829317</td>\n",
       "      <td>0.829317</td>\n",
       "      <td>0.829317</td>\n",
       "      <td>1</td>\n",
       "    </tr>\n",
       "    <tr>\n",
       "      <th>2</th>\n",
       "      <td>0.238956</td>\n",
       "      <td>0.238956</td>\n",
       "      <td>0.238956</td>\n",
       "      <td>0.238956</td>\n",
       "      <td>0.238956</td>\n",
       "      <td>0.238956</td>\n",
       "      <td>0.238956</td>\n",
       "      <td>0.238956</td>\n",
       "      <td>0.238956</td>\n",
       "      <td>0.238956</td>\n",
       "      <td>0.238956</td>\n",
       "      <td>0</td>\n",
       "    </tr>\n",
       "    <tr>\n",
       "      <th>3</th>\n",
       "      <td>0.695281</td>\n",
       "      <td>0.695281</td>\n",
       "      <td>0.695281</td>\n",
       "      <td>0.695281</td>\n",
       "      <td>0.695281</td>\n",
       "      <td>0.695281</td>\n",
       "      <td>0.695281</td>\n",
       "      <td>0.695281</td>\n",
       "      <td>0.695281</td>\n",
       "      <td>0.695281</td>\n",
       "      <td>0.695281</td>\n",
       "      <td>1</td>\n",
       "    </tr>\n",
       "    <tr>\n",
       "      <th>4</th>\n",
       "      <td>0.192269</td>\n",
       "      <td>0.192269</td>\n",
       "      <td>0.192269</td>\n",
       "      <td>0.192269</td>\n",
       "      <td>0.192269</td>\n",
       "      <td>0.192269</td>\n",
       "      <td>0.192269</td>\n",
       "      <td>0.192269</td>\n",
       "      <td>0.192269</td>\n",
       "      <td>0.192269</td>\n",
       "      <td>0.192269</td>\n",
       "      <td>3</td>\n",
       "    </tr>\n",
       "  </tbody>\n",
       "</table>\n",
       "</div>"
      ],
      "text/plain": [
       "   Elevation    Aspect     Slope  Hillshade_Morning  Hillshade_Afternoon  \\\n",
       "0   0.698795  0.698795  0.698795           0.698795             0.698795   \n",
       "1   0.829317  0.829317  0.829317           0.829317             0.829317   \n",
       "2   0.238956  0.238956  0.238956           0.238956             0.238956   \n",
       "3   0.695281  0.695281  0.695281           0.695281             0.695281   \n",
       "4   0.192269  0.192269  0.192269           0.192269             0.192269   \n",
       "\n",
       "   Hillshade_Evening  Distance_To_River  Distance_From_Road  \\\n",
       "0           0.698795           0.698795            0.698795   \n",
       "1           0.829317           0.829317            0.829317   \n",
       "2           0.238956           0.238956            0.238956   \n",
       "3           0.695281           0.695281            0.695281   \n",
       "4           0.192269           0.192269            0.192269   \n",
       "\n",
       "   Distance_From_Pollutant    Sector      Soil  Plant_species  \n",
       "0                 0.698795  0.698795  0.698795              1  \n",
       "1                 0.829317  0.829317  0.829317              1  \n",
       "2                 0.238956  0.238956  0.238956              0  \n",
       "3                 0.695281  0.695281  0.695281              1  \n",
       "4                 0.192269  0.192269  0.192269              3  "
      ]
     },
     "execution_count": 55,
     "metadata": {},
     "output_type": "execute_result"
    }
   ],
   "source": [
    "train_df.head()"
   ]
  },
  {
   "cell_type": "markdown",
   "metadata": {},
   "source": [
    "## 1. Decision tree"
   ]
  },
  {
   "cell_type": "code",
   "execution_count": 19,
   "metadata": {},
   "outputs": [],
   "source": [
    "from sklearn.tree import DecisionTreeClassifier\n",
    "from sklearn.model_selection import train_test_split\n",
    "from sklearn import metrics"
   ]
  },
  {
   "cell_type": "code",
   "execution_count": 92,
   "metadata": {},
   "outputs": [],
   "source": [
    "feature_col = ['Elevation', 'Aspect', 'Slope', 'Hillshade_Morning',\n",
    "                'Hillshade_Afternoon', 'Hillshade_Evening', 'Distance_To_River',\n",
    "                'Distance_From_Road', 'Distance_From_Pollutant', 'Sector', 'Soil']\n",
    "label_col = ['Plant_species']\n",
    "\n",
    "X = train_df[feature_col]\n",
    "y = train_df[label_col]"
   ]
  },
  {
   "cell_type": "code",
   "execution_count": 93,
   "metadata": {},
   "outputs": [],
   "source": [
    "X_train, X_test, y_train, y_test = train_test_split(\n",
    "    X, y, test_size=0.1, random_state=42)"
   ]
  },
  {
   "cell_type": "code",
   "execution_count": 94,
   "metadata": {},
   "outputs": [],
   "source": [
    "decision_tree = DecisionTreeClassifier(random_state=42)\n",
    "decision_tree.fit(X_train, y_train)\n",
    "y_pred = decision_tree.predict(X_test)"
   ]
  },
  {
   "cell_type": "code",
   "execution_count": 95,
   "metadata": {},
   "outputs": [
    {
     "data": {
      "text/plain": [
       "0.8105"
      ]
     },
     "execution_count": 95,
     "metadata": {},
     "output_type": "execute_result"
    }
   ],
   "source": [
    "metrics.accuracy_score(y_test, y_pred)"
   ]
  },
  {
   "cell_type": "markdown",
   "metadata": {},
   "source": [
    "k-fold cross validation 도입"
   ]
  },
  {
   "cell_type": "code",
   "execution_count": 62,
   "metadata": {},
   "outputs": [],
   "source": [
    "from sklearn.model_selection import KFold\n",
    "from sklearn.model_selection import StratifiedKFold\n",
    "from sklearn.model_selection import cross_val_score"
   ]
  },
  {
   "cell_type": "code",
   "execution_count": 53,
   "metadata": {},
   "outputs": [
    {
     "data": {
      "text/plain": [
       "0.8002"
      ]
     },
     "execution_count": 53,
     "metadata": {},
     "output_type": "execute_result"
    }
   ],
   "source": [
    "decision_tree = DecisionTreeClassifier(random_state=42)\n",
    "\n",
    "kfold = KFold(n_splits=6, shuffle=True, random_state=42)\n",
    "scores = cross_val_score(decision_tree , X_train , y_train ,cv=kfold)\n",
    "\n",
    "np.round(np.mean(scores), 4)"
   ]
  },
  {
   "cell_type": "code",
   "execution_count": 63,
   "metadata": {},
   "outputs": [
    {
     "data": {
      "text/plain": [
       "0.8052"
      ]
     },
     "execution_count": 63,
     "metadata": {},
     "output_type": "execute_result"
    }
   ],
   "source": [
    "decision_tree = DecisionTreeClassifier(random_state=42)\n",
    "\n",
    "skfold = StratifiedKFold(n_splits=6, shuffle=True, random_state=42)\n",
    "scores = cross_val_score(decision_tree, X_train, y_train, cv=skfold)\n",
    "\n",
    "np.round(np.mean(scores), 4)"
   ]
  },
  {
   "cell_type": "markdown",
   "metadata": {},
   "source": [
    "실제 검증 - Decision tree"
   ]
  },
  {
   "cell_type": "code",
   "execution_count": 88,
   "metadata": {},
   "outputs": [],
   "source": [
    "X_train = train_df[['Elevation', 'Aspect', 'Slope', 'Hillshade_Morning',\n",
    "                    'Hillshade_Afternoon', 'Hillshade_Evening', 'Distance_To_River',\n",
    "                    'Distance_From_Road', 'Distance_From_Pollutant', 'Sector', 'Soil']]\n",
    "y_train = train_df[['Plant_species']]\n",
    "\n",
    "X_test = test_df\n",
    "\n",
    "decision_tree = DecisionTreeClassifier(random_state=42)\n",
    "decision_tree.fit(X_train, y_train)\n",
    "\n",
    "y_pred = decision_tree.predict(X_test)\n",
    "\n",
    "y_pred_df = pd.DataFrame()\n",
    "y_pred_df['Id'] = np.arange(20000)\n",
    "y_pred_df['Category'] = y_pred\n",
    "\n",
    "y_pred_df.to_csv('DTree_norm.csv', index=False)\n"
   ]
  },
  {
   "cell_type": "markdown",
   "metadata": {},
   "source": [
    "0.81370"
   ]
  },
  {
   "cell_type": "markdown",
   "metadata": {},
   "source": [
    "실제 검증 - k-fold CV 적용된 Decision tree"
   ]
  },
  {
   "cell_type": "code",
   "execution_count": null,
   "metadata": {},
   "outputs": [],
   "source": [
    "X_train = train_df[['Elevation', 'Aspect', 'Slope', 'Hillshade_Morning',\n",
    "                    'Hillshade_Afternoon', 'Hillshade_Evening', 'Distance_To_River',\n",
    "                    'Distance_From_Road', 'Distance_From_Pollutant', 'Sector', 'Soil']]\n",
    "y_train = train_df[['Plant_species']]\n",
    "\n",
    "X_test = test_df\n",
    "\n",
    "decision_tree = DecisionTreeClassifier(random_state=42)\n",
    "decision_tree.fit(X_train, y_train)\n",
    "\n",
    "y_pred = decision_tree.predict(X_test)\n",
    "\n",
    "y_pred_df = pd.DataFrame()\n",
    "y_pred_df['Id'] = np.arange(20000)\n",
    "y_pred_df['Category'] = y_pred\n",
    "\n",
    "y_pred_df.to_csv('DTree.csv', index=False)\n"
   ]
  },
  {
   "cell_type": "markdown",
   "metadata": {},
   "source": [
    "## 2. Naive bayes model"
   ]
  },
  {
   "cell_type": "code",
   "execution_count": 118,
   "metadata": {},
   "outputs": [],
   "source": [
    "feature_col = ['Elevation', 'Aspect', 'Slope', 'Hillshade_Morning',\n",
    "               'Hillshade_Afternoon', 'Hillshade_Evening', 'Distance_To_River',\n",
    "               'Distance_From_Road', 'Distance_From_Pollutant', 'Sector', 'Soil']\n",
    "label_col = ['Plant_species']\n",
    "\n",
    "X = train_df[feature_col]\n",
    "y = train_df[label_col]\n",
    "\n",
    "X_train, X_test, y_train, y_test = train_test_split(\n",
    "    X, y, test_size=0.1, random_state=42)"
   ]
  },
  {
   "cell_type": "code",
   "execution_count": 119,
   "metadata": {},
   "outputs": [
    {
     "name": "stderr",
     "output_type": "stream",
     "text": [
      "/Users/kwontaekhyun/opt/anaconda3/lib/python3.9/site-packages/sklearn/utils/validation.py:993: DataConversionWarning: A column-vector y was passed when a 1d array was expected. Please change the shape of y to (n_samples, ), for example using ravel().\n",
      "  y = column_or_1d(y, warn=True)\n"
     ]
    }
   ],
   "source": [
    "from sklearn.naive_bayes import GaussianNB\n",
    "\n",
    "naive_bayes = GaussianNB()\n",
    "naive_bayes.fit(X_train, y_train)\n",
    "y_pred = naive_bayes.predict(X_test)"
   ]
  },
  {
   "cell_type": "code",
   "execution_count": 120,
   "metadata": {},
   "outputs": [
    {
     "data": {
      "text/plain": [
       "0.6675"
      ]
     },
     "execution_count": 120,
     "metadata": {},
     "output_type": "execute_result"
    }
   ],
   "source": [
    "metrics.accuracy_score(y_test, y_pred)"
   ]
  },
  {
   "cell_type": "markdown",
   "metadata": {},
   "source": [
    "실제 검증 - Naive Bayes model"
   ]
  },
  {
   "cell_type": "code",
   "execution_count": 121,
   "metadata": {},
   "outputs": [
    {
     "name": "stderr",
     "output_type": "stream",
     "text": [
      "/Users/kwontaekhyun/opt/anaconda3/lib/python3.9/site-packages/sklearn/utils/validation.py:993: DataConversionWarning: A column-vector y was passed when a 1d array was expected. Please change the shape of y to (n_samples, ), for example using ravel().\n",
      "  y = column_or_1d(y, warn=True)\n"
     ]
    }
   ],
   "source": [
    "X_train = train_df[['Elevation', 'Aspect', 'Slope', 'Hillshade_Morning',\n",
    "                    'Hillshade_Afternoon', 'Hillshade_Evening', 'Distance_To_River',\n",
    "                    'Distance_From_Road', 'Distance_From_Pollutant', 'Sector', 'Soil']]\n",
    "y_train = train_df[['Plant_species']]\n",
    "\n",
    "X_test = test_df\n",
    "\n",
    "naive_bayes = GaussianNB()\n",
    "naive_bayes.fit(X_train, y_train)\n",
    "\n",
    "y_pred = naive_bayes.predict(X_test)\n",
    "\n",
    "y_pred_df = pd.DataFrame()\n",
    "y_pred_df['Id'] = np.arange(20000)\n",
    "y_pred_df['Category'] = y_pred\n",
    "\n",
    "y_pred_df.to_csv('NB.csv', index=False)"
   ]
  },
  {
   "cell_type": "markdown",
   "metadata": {},
   "source": [
    "## 3. Random forest"
   ]
  },
  {
   "cell_type": "code",
   "execution_count": 1,
   "metadata": {},
   "outputs": [],
   "source": [
    "import sklearn.preprocessing\n",
    "import numpy as np\n",
    "import pandas as pd\n",
    "from sklearn.ensemble import RandomForestClassifier\n",
    "from sklearn.model_selection import RandomizedSearchCV\n",
    "from category_encoders import OrdinalEncoder\n",
    "from sklearn.pipeline import make_pipeline"
   ]
  },
  {
   "cell_type": "code",
   "execution_count": 2,
   "metadata": {},
   "outputs": [],
   "source": [
    "train_df = pd.read_csv(\n",
    "    './dataanalysis-classification2/train_classification.csv')\n",
    "test_df = pd.read_csv(\n",
    "    './dataanalysis-classification2/test_classification.csv')"
   ]
  },
  {
   "cell_type": "code",
   "execution_count": 5,
   "metadata": {},
   "outputs": [
    {
     "data": {
      "text/html": [
       "<div>\n",
       "<style scoped>\n",
       "    .dataframe tbody tr th:only-of-type {\n",
       "        vertical-align: middle;\n",
       "    }\n",
       "\n",
       "    .dataframe tbody tr th {\n",
       "        vertical-align: top;\n",
       "    }\n",
       "\n",
       "    .dataframe thead th {\n",
       "        text-align: right;\n",
       "    }\n",
       "</style>\n",
       "<table border=\"1\" class=\"dataframe\">\n",
       "  <thead>\n",
       "    <tr style=\"text-align: right;\">\n",
       "      <th></th>\n",
       "      <th>Elevation</th>\n",
       "      <th>Aspect</th>\n",
       "      <th>Slope</th>\n",
       "      <th>Hillshade_Morning</th>\n",
       "      <th>Hillshade_Afternoon</th>\n",
       "      <th>Hillshade_Evening</th>\n",
       "      <th>Distance_To_River</th>\n",
       "      <th>Distance_From_Road</th>\n",
       "      <th>Distance_From_Pollutant</th>\n",
       "      <th>Sector</th>\n",
       "      <th>Soil</th>\n",
       "      <th>Plant_species</th>\n",
       "    </tr>\n",
       "  </thead>\n",
       "  <tbody>\n",
       "    <tr>\n",
       "      <th>0</th>\n",
       "      <td>3251</td>\n",
       "      <td>35</td>\n",
       "      <td>10</td>\n",
       "      <td>219</td>\n",
       "      <td>218</td>\n",
       "      <td>134</td>\n",
       "      <td>30</td>\n",
       "      <td>3263</td>\n",
       "      <td>2837</td>\n",
       "      <td>Sector_2</td>\n",
       "      <td>Soil_36</td>\n",
       "      <td>1</td>\n",
       "    </tr>\n",
       "    <tr>\n",
       "      <th>1</th>\n",
       "      <td>3511</td>\n",
       "      <td>12</td>\n",
       "      <td>11</td>\n",
       "      <td>209</td>\n",
       "      <td>217</td>\n",
       "      <td>145</td>\n",
       "      <td>531</td>\n",
       "      <td>1385</td>\n",
       "      <td>1871</td>\n",
       "      <td>Sector_1</td>\n",
       "      <td>Soil_37</td>\n",
       "      <td>1</td>\n",
       "    </tr>\n",
       "    <tr>\n",
       "      <th>2</th>\n",
       "      <td>2335</td>\n",
       "      <td>63</td>\n",
       "      <td>20</td>\n",
       "      <td>233</td>\n",
       "      <td>194</td>\n",
       "      <td>83</td>\n",
       "      <td>234</td>\n",
       "      <td>1120</td>\n",
       "      <td>726</td>\n",
       "      <td>Sector_3</td>\n",
       "      <td>Soil_8</td>\n",
       "      <td>0</td>\n",
       "    </tr>\n",
       "    <tr>\n",
       "      <th>3</th>\n",
       "      <td>3244</td>\n",
       "      <td>48</td>\n",
       "      <td>14</td>\n",
       "      <td>224</td>\n",
       "      <td>209</td>\n",
       "      <td>116</td>\n",
       "      <td>67</td>\n",
       "      <td>1645</td>\n",
       "      <td>907</td>\n",
       "      <td>Sector_2</td>\n",
       "      <td>Soil_36</td>\n",
       "      <td>1</td>\n",
       "    </tr>\n",
       "    <tr>\n",
       "      <th>4</th>\n",
       "      <td>2242</td>\n",
       "      <td>292</td>\n",
       "      <td>34</td>\n",
       "      <td>108</td>\n",
       "      <td>211</td>\n",
       "      <td>233</td>\n",
       "      <td>95</td>\n",
       "      <td>808</td>\n",
       "      <td>684</td>\n",
       "      <td>Sector_3</td>\n",
       "      <td>Soil_8</td>\n",
       "      <td>3</td>\n",
       "    </tr>\n",
       "  </tbody>\n",
       "</table>\n",
       "</div>"
      ],
      "text/plain": [
       "   Elevation  Aspect  Slope  Hillshade_Morning  Hillshade_Afternoon  \\\n",
       "0       3251      35     10                219                  218   \n",
       "1       3511      12     11                209                  217   \n",
       "2       2335      63     20                233                  194   \n",
       "3       3244      48     14                224                  209   \n",
       "4       2242     292     34                108                  211   \n",
       "\n",
       "   Hillshade_Evening  Distance_To_River  Distance_From_Road  \\\n",
       "0                134                 30                3263   \n",
       "1                145                531                1385   \n",
       "2                 83                234                1120   \n",
       "3                116                 67                1645   \n",
       "4                233                 95                 808   \n",
       "\n",
       "   Distance_From_Pollutant    Sector     Soil  Plant_species  \n",
       "0                     2837  Sector_2  Soil_36              1  \n",
       "1                     1871  Sector_1  Soil_37              1  \n",
       "2                      726  Sector_3   Soil_8              0  \n",
       "3                      907  Sector_2  Soil_36              1  \n",
       "4                      684  Sector_3   Soil_8              3  "
      ]
     },
     "execution_count": 5,
     "metadata": {},
     "output_type": "execute_result"
    }
   ],
   "source": [
    "train_df.head()"
   ]
  },
  {
   "cell_type": "code",
   "execution_count": 3,
   "metadata": {},
   "outputs": [],
   "source": [
    "train_df['Sector'] = train_df['Sector'].apply(lambda x: int(x.split('_')[1]))\n",
    "train_df['Soil'] = train_df['Soil'].apply(lambda x: int(x.split('_')[1]))\n",
    "\n",
    "test_df['Sector'] = test_df['Sector'].apply(lambda x: int(x.split('_')[1]))\n",
    "test_df['Soil'] = test_df['Soil'].apply(lambda x: int(x.split('_')[1]))"
   ]
  },
  {
   "cell_type": "code",
   "execution_count": 26,
   "metadata": {},
   "outputs": [
    {
     "name": "stderr",
     "output_type": "stream",
     "text": [
      "/var/folders/ln/5crzqg4144jgkv82ryrmmdz00000gn/T/ipykernel_45029/2181432339.py:10: DataConversionWarning: A column-vector y was passed when a 1d array was expected. Please change the shape of y to (n_samples,), for example using ravel().\n",
      "  random_forest.fit(X_train, y_train)\n"
     ]
    }
   ],
   "source": [
    "X_train = train_df[['Elevation', 'Aspect', 'Slope', 'Hillshade_Morning',\n",
    "                    'Hillshade_Afternoon', 'Hillshade_Evening', 'Distance_To_River',\n",
    "                    'Distance_From_Road', 'Distance_From_Pollutant', 'Sector', 'Soil']]\n",
    "y_train = train_df[['Plant_species']]\n",
    "\n",
    "X_test = test_df\n",
    "\n",
    "random_forest = RandomForestClassifier(\n",
    "    n_estimators=255, criterion='entropy', warm_start=True)\n",
    "random_forest.fit(X_train, y_train)\n",
    "\n",
    "y_pred = random_forest.predict(X_test)\n",
    "\n",
    "y_pred_df = pd.DataFrame()\n",
    "y_pred_df['Id'] = np.arange(20000)\n",
    "y_pred_df['Category'] = y_pred\n",
    "\n",
    "y_pred_df.to_csv('./CLF-Prediction/CLF_RF_E255_CE_WS.csv', index=False)"
   ]
  },
  {
   "cell_type": "markdown",
   "metadata": {},
   "source": [
    "## 4. Neural network"
   ]
  },
  {
   "cell_type": "code",
   "execution_count": 1,
   "metadata": {},
   "outputs": [],
   "source": [
    "import sklearn.preprocessing\n",
    "import numpy as np\n",
    "import pandas as pd\n",
    "from sklearn.neural_network import MLPClassifier"
   ]
  },
  {
   "cell_type": "code",
   "execution_count": 2,
   "metadata": {},
   "outputs": [],
   "source": [
    "train_df = pd.read_csv(\n",
    "    './dataanalysis-classification2/train_classification.csv')\n",
    "test_df = pd.read_csv(\n",
    "    './dataanalysis-classification2/test_classification.csv')"
   ]
  },
  {
   "cell_type": "code",
   "execution_count": 3,
   "metadata": {},
   "outputs": [],
   "source": [
    "train_df['Sector'] = train_df['Sector'].apply(lambda x: int(x.split('_')[1]))\n",
    "train_df['Soil'] = train_df['Soil'].apply(lambda x: int(x.split('_')[1]))\n",
    "\n",
    "test_df['Sector'] = test_df['Sector'].apply(lambda x: int(x.split('_')[1]))\n",
    "test_df['Soil'] = test_df['Soil'].apply(lambda x: int(x.split('_')[1]))"
   ]
  },
  {
   "cell_type": "code",
   "execution_count": 8,
   "metadata": {},
   "outputs": [
    {
     "name": "stderr",
     "output_type": "stream",
     "text": [
      "/Users/kwontaekhyun/opt/anaconda3/lib/python3.9/site-packages/sklearn/neural_network/_multilayer_perceptron.py:1109: DataConversionWarning: A column-vector y was passed when a 1d array was expected. Please change the shape of y to (n_samples, ), for example using ravel().\n",
      "  y = column_or_1d(y, warn=True)\n"
     ]
    }
   ],
   "source": [
    "X_train = train_df[['Elevation', 'Aspect', 'Slope', 'Hillshade_Morning',\n",
    "                    'Hillshade_Afternoon', 'Hillshade_Evening', 'Distance_To_River',\n",
    "                    'Distance_From_Road', 'Distance_From_Pollutant', 'Sector', 'Soil']]\n",
    "y_train = train_df[['Plant_species']]\n",
    "\n",
    "X_test = test_df\n",
    "\n",
    "MLP = MLPClassifier(hidden_layer_sizes=[10, 10, 100, 1000, 5000], solver='sgd')\n",
    "\n",
    "MLP.fit(X_train, y_train)\n",
    "y_pred = MLP.predict(X_test)\n",
    "\n",
    "y_pred_df = pd.DataFrame()\n",
    "y_pred_df['Id'] = np.arange(20000)\n",
    "y_pred_df['Category'] = y_pred\n",
    "\n",
    "y_pred_df.to_csv('./CLF-Prediction/MLP_H10_10_100_1000_5000.csv', index=False)"
   ]
  }
 ],
 "metadata": {
  "kernelspec": {
   "display_name": "Python 3.9.12 ('base')",
   "language": "python",
   "name": "python3"
  },
  "language_info": {
   "codemirror_mode": {
    "name": "ipython",
    "version": 3
   },
   "file_extension": ".py",
   "mimetype": "text/x-python",
   "name": "python",
   "nbconvert_exporter": "python",
   "pygments_lexer": "ipython3",
   "version": "3.9.12"
  },
  "orig_nbformat": 4,
  "vscode": {
   "interpreter": {
    "hash": "9fa87f0efd0f3f6a31bcd534c5e9f592f83da151eb234c44c533e646ebb7e62f"
   }
  }
 },
 "nbformat": 4,
 "nbformat_minor": 2
}
